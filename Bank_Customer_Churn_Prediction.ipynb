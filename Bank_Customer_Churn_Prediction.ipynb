{
  "cells": [
    {
      "cell_type": "code",
      "execution_count": 114,
      "metadata": {
        "id": "oq90MdV6zpW1"
      },
      "outputs": [],
      "source": [
        "import numpy as np\n",
        "import pandas as pd\n",
        "import matplotlib.pyplot as plt\n",
        "import seaborn as sns\n",
        "\n",
        "from sklearn.preprocessing import StandardScaler\n",
        "from sklearn.model_selection import train_test_split\n",
        "from sklearn.model_selection import GridSearchCV\n",
        "\n",
        "from sklearn.linear_model import LogisticRegression\n",
        "from sklearn.svm import SVC\n",
        "from sklearn.neighbors import KNeighborsClassifier\n",
        "from sklearn.ensemble import RandomForestClassifier\n",
        "\n",
        "from sklearn.metrics import classification_report, plot_confusion_matrix"
      ]
    },
    {
      "cell_type": "code",
      "execution_count": 4,
      "metadata": {
        "id": "06GyW1knz_pe"
      },
      "outputs": [],
      "source": [
        "data = pd.read_csv('Bank Customer Churn Prediction.csv')"
      ]
    },
    {
      "cell_type": "code",
      "execution_count": 5,
      "metadata": {
        "colab": {
          "base_uri": "https://localhost:8080/",
          "height": 488
        },
        "id": "qj0IBQag1X_d",
        "outputId": "c5c6567c-ef3d-457e-efbf-ed595322d831"
      },
      "outputs": [
        {
          "data": {
            "text/html": [
              "\n",
              "  <div id=\"df-210ba0fd-446f-40d8-ba39-243c69d55f6d\">\n",
              "    <div class=\"colab-df-container\">\n",
              "      <div>\n",
              "<style scoped>\n",
              "    .dataframe tbody tr th:only-of-type {\n",
              "        vertical-align: middle;\n",
              "    }\n",
              "\n",
              "    .dataframe tbody tr th {\n",
              "        vertical-align: top;\n",
              "    }\n",
              "\n",
              "    .dataframe thead th {\n",
              "        text-align: right;\n",
              "    }\n",
              "</style>\n",
              "<table border=\"1\" class=\"dataframe\">\n",
              "  <thead>\n",
              "    <tr style=\"text-align: right;\">\n",
              "      <th></th>\n",
              "      <th>customer_id</th>\n",
              "      <th>credit_score</th>\n",
              "      <th>country</th>\n",
              "      <th>gender</th>\n",
              "      <th>age</th>\n",
              "      <th>tenure</th>\n",
              "      <th>balance</th>\n",
              "      <th>products_number</th>\n",
              "      <th>credit_card</th>\n",
              "      <th>active_member</th>\n",
              "      <th>estimated_salary</th>\n",
              "      <th>churn</th>\n",
              "    </tr>\n",
              "  </thead>\n",
              "  <tbody>\n",
              "    <tr>\n",
              "      <th>0</th>\n",
              "      <td>15634602</td>\n",
              "      <td>619</td>\n",
              "      <td>France</td>\n",
              "      <td>Female</td>\n",
              "      <td>42</td>\n",
              "      <td>2</td>\n",
              "      <td>0.00</td>\n",
              "      <td>1</td>\n",
              "      <td>1</td>\n",
              "      <td>1</td>\n",
              "      <td>101348.88</td>\n",
              "      <td>1</td>\n",
              "    </tr>\n",
              "    <tr>\n",
              "      <th>1</th>\n",
              "      <td>15647311</td>\n",
              "      <td>608</td>\n",
              "      <td>Spain</td>\n",
              "      <td>Female</td>\n",
              "      <td>41</td>\n",
              "      <td>1</td>\n",
              "      <td>83807.86</td>\n",
              "      <td>1</td>\n",
              "      <td>0</td>\n",
              "      <td>1</td>\n",
              "      <td>112542.58</td>\n",
              "      <td>0</td>\n",
              "    </tr>\n",
              "    <tr>\n",
              "      <th>2</th>\n",
              "      <td>15619304</td>\n",
              "      <td>502</td>\n",
              "      <td>France</td>\n",
              "      <td>Female</td>\n",
              "      <td>42</td>\n",
              "      <td>8</td>\n",
              "      <td>159660.80</td>\n",
              "      <td>3</td>\n",
              "      <td>1</td>\n",
              "      <td>0</td>\n",
              "      <td>113931.57</td>\n",
              "      <td>1</td>\n",
              "    </tr>\n",
              "    <tr>\n",
              "      <th>3</th>\n",
              "      <td>15701354</td>\n",
              "      <td>699</td>\n",
              "      <td>France</td>\n",
              "      <td>Female</td>\n",
              "      <td>39</td>\n",
              "      <td>1</td>\n",
              "      <td>0.00</td>\n",
              "      <td>2</td>\n",
              "      <td>0</td>\n",
              "      <td>0</td>\n",
              "      <td>93826.63</td>\n",
              "      <td>0</td>\n",
              "    </tr>\n",
              "    <tr>\n",
              "      <th>4</th>\n",
              "      <td>15737888</td>\n",
              "      <td>850</td>\n",
              "      <td>Spain</td>\n",
              "      <td>Female</td>\n",
              "      <td>43</td>\n",
              "      <td>2</td>\n",
              "      <td>125510.82</td>\n",
              "      <td>1</td>\n",
              "      <td>1</td>\n",
              "      <td>1</td>\n",
              "      <td>79084.10</td>\n",
              "      <td>0</td>\n",
              "    </tr>\n",
              "    <tr>\n",
              "      <th>...</th>\n",
              "      <td>...</td>\n",
              "      <td>...</td>\n",
              "      <td>...</td>\n",
              "      <td>...</td>\n",
              "      <td>...</td>\n",
              "      <td>...</td>\n",
              "      <td>...</td>\n",
              "      <td>...</td>\n",
              "      <td>...</td>\n",
              "      <td>...</td>\n",
              "      <td>...</td>\n",
              "      <td>...</td>\n",
              "    </tr>\n",
              "    <tr>\n",
              "      <th>9995</th>\n",
              "      <td>15606229</td>\n",
              "      <td>771</td>\n",
              "      <td>France</td>\n",
              "      <td>Male</td>\n",
              "      <td>39</td>\n",
              "      <td>5</td>\n",
              "      <td>0.00</td>\n",
              "      <td>2</td>\n",
              "      <td>1</td>\n",
              "      <td>0</td>\n",
              "      <td>96270.64</td>\n",
              "      <td>0</td>\n",
              "    </tr>\n",
              "    <tr>\n",
              "      <th>9996</th>\n",
              "      <td>15569892</td>\n",
              "      <td>516</td>\n",
              "      <td>France</td>\n",
              "      <td>Male</td>\n",
              "      <td>35</td>\n",
              "      <td>10</td>\n",
              "      <td>57369.61</td>\n",
              "      <td>1</td>\n",
              "      <td>1</td>\n",
              "      <td>1</td>\n",
              "      <td>101699.77</td>\n",
              "      <td>0</td>\n",
              "    </tr>\n",
              "    <tr>\n",
              "      <th>9997</th>\n",
              "      <td>15584532</td>\n",
              "      <td>709</td>\n",
              "      <td>France</td>\n",
              "      <td>Female</td>\n",
              "      <td>36</td>\n",
              "      <td>7</td>\n",
              "      <td>0.00</td>\n",
              "      <td>1</td>\n",
              "      <td>0</td>\n",
              "      <td>1</td>\n",
              "      <td>42085.58</td>\n",
              "      <td>1</td>\n",
              "    </tr>\n",
              "    <tr>\n",
              "      <th>9998</th>\n",
              "      <td>15682355</td>\n",
              "      <td>772</td>\n",
              "      <td>Germany</td>\n",
              "      <td>Male</td>\n",
              "      <td>42</td>\n",
              "      <td>3</td>\n",
              "      <td>75075.31</td>\n",
              "      <td>2</td>\n",
              "      <td>1</td>\n",
              "      <td>0</td>\n",
              "      <td>92888.52</td>\n",
              "      <td>1</td>\n",
              "    </tr>\n",
              "    <tr>\n",
              "      <th>9999</th>\n",
              "      <td>15628319</td>\n",
              "      <td>792</td>\n",
              "      <td>France</td>\n",
              "      <td>Female</td>\n",
              "      <td>28</td>\n",
              "      <td>4</td>\n",
              "      <td>130142.79</td>\n",
              "      <td>1</td>\n",
              "      <td>1</td>\n",
              "      <td>0</td>\n",
              "      <td>38190.78</td>\n",
              "      <td>0</td>\n",
              "    </tr>\n",
              "  </tbody>\n",
              "</table>\n",
              "<p>10000 rows × 12 columns</p>\n",
              "</div>\n",
              "      <button class=\"colab-df-convert\" onclick=\"convertToInteractive('df-210ba0fd-446f-40d8-ba39-243c69d55f6d')\"\n",
              "              title=\"Convert this dataframe to an interactive table.\"\n",
              "              style=\"display:none;\">\n",
              "        \n",
              "  <svg xmlns=\"http://www.w3.org/2000/svg\" height=\"24px\"viewBox=\"0 0 24 24\"\n",
              "       width=\"24px\">\n",
              "    <path d=\"M0 0h24v24H0V0z\" fill=\"none\"/>\n",
              "    <path d=\"M18.56 5.44l.94 2.06.94-2.06 2.06-.94-2.06-.94-.94-2.06-.94 2.06-2.06.94zm-11 1L8.5 8.5l.94-2.06 2.06-.94-2.06-.94L8.5 2.5l-.94 2.06-2.06.94zm10 10l.94 2.06.94-2.06 2.06-.94-2.06-.94-.94-2.06-.94 2.06-2.06.94z\"/><path d=\"M17.41 7.96l-1.37-1.37c-.4-.4-.92-.59-1.43-.59-.52 0-1.04.2-1.43.59L10.3 9.45l-7.72 7.72c-.78.78-.78 2.05 0 2.83L4 21.41c.39.39.9.59 1.41.59.51 0 1.02-.2 1.41-.59l7.78-7.78 2.81-2.81c.8-.78.8-2.07 0-2.86zM5.41 20L4 18.59l7.72-7.72 1.47 1.35L5.41 20z\"/>\n",
              "  </svg>\n",
              "      </button>\n",
              "      \n",
              "  <style>\n",
              "    .colab-df-container {\n",
              "      display:flex;\n",
              "      flex-wrap:wrap;\n",
              "      gap: 12px;\n",
              "    }\n",
              "\n",
              "    .colab-df-convert {\n",
              "      background-color: #E8F0FE;\n",
              "      border: none;\n",
              "      border-radius: 50%;\n",
              "      cursor: pointer;\n",
              "      display: none;\n",
              "      fill: #1967D2;\n",
              "      height: 32px;\n",
              "      padding: 0 0 0 0;\n",
              "      width: 32px;\n",
              "    }\n",
              "\n",
              "    .colab-df-convert:hover {\n",
              "      background-color: #E2EBFA;\n",
              "      box-shadow: 0px 1px 2px rgba(60, 64, 67, 0.3), 0px 1px 3px 1px rgba(60, 64, 67, 0.15);\n",
              "      fill: #174EA6;\n",
              "    }\n",
              "\n",
              "    [theme=dark] .colab-df-convert {\n",
              "      background-color: #3B4455;\n",
              "      fill: #D2E3FC;\n",
              "    }\n",
              "\n",
              "    [theme=dark] .colab-df-convert:hover {\n",
              "      background-color: #434B5C;\n",
              "      box-shadow: 0px 1px 3px 1px rgba(0, 0, 0, 0.15);\n",
              "      filter: drop-shadow(0px 1px 2px rgba(0, 0, 0, 0.3));\n",
              "      fill: #FFFFFF;\n",
              "    }\n",
              "  </style>\n",
              "\n",
              "      <script>\n",
              "        const buttonEl =\n",
              "          document.querySelector('#df-210ba0fd-446f-40d8-ba39-243c69d55f6d button.colab-df-convert');\n",
              "        buttonEl.style.display =\n",
              "          google.colab.kernel.accessAllowed ? 'block' : 'none';\n",
              "\n",
              "        async function convertToInteractive(key) {\n",
              "          const element = document.querySelector('#df-210ba0fd-446f-40d8-ba39-243c69d55f6d');\n",
              "          const dataTable =\n",
              "            await google.colab.kernel.invokeFunction('convertToInteractive',\n",
              "                                                     [key], {});\n",
              "          if (!dataTable) return;\n",
              "\n",
              "          const docLinkHtml = 'Like what you see? Visit the ' +\n",
              "            '<a target=\"_blank\" href=https://colab.research.google.com/notebooks/data_table.ipynb>data table notebook</a>'\n",
              "            + ' to learn more about interactive tables.';\n",
              "          element.innerHTML = '';\n",
              "          dataTable['output_type'] = 'display_data';\n",
              "          await google.colab.output.renderOutput(dataTable, element);\n",
              "          const docLink = document.createElement('div');\n",
              "          docLink.innerHTML = docLinkHtml;\n",
              "          element.appendChild(docLink);\n",
              "        }\n",
              "      </script>\n",
              "    </div>\n",
              "  </div>\n",
              "  "
            ],
            "text/plain": [
              "      customer_id  credit_score  country  gender  age  tenure    balance  \\\n",
              "0        15634602           619   France  Female   42       2       0.00   \n",
              "1        15647311           608    Spain  Female   41       1   83807.86   \n",
              "2        15619304           502   France  Female   42       8  159660.80   \n",
              "3        15701354           699   France  Female   39       1       0.00   \n",
              "4        15737888           850    Spain  Female   43       2  125510.82   \n",
              "...           ...           ...      ...     ...  ...     ...        ...   \n",
              "9995     15606229           771   France    Male   39       5       0.00   \n",
              "9996     15569892           516   France    Male   35      10   57369.61   \n",
              "9997     15584532           709   France  Female   36       7       0.00   \n",
              "9998     15682355           772  Germany    Male   42       3   75075.31   \n",
              "9999     15628319           792   France  Female   28       4  130142.79   \n",
              "\n",
              "      products_number  credit_card  active_member  estimated_salary  churn  \n",
              "0                   1            1              1         101348.88      1  \n",
              "1                   1            0              1         112542.58      0  \n",
              "2                   3            1              0         113931.57      1  \n",
              "3                   2            0              0          93826.63      0  \n",
              "4                   1            1              1          79084.10      0  \n",
              "...               ...          ...            ...               ...    ...  \n",
              "9995                2            1              0          96270.64      0  \n",
              "9996                1            1              1         101699.77      0  \n",
              "9997                1            0              1          42085.58      1  \n",
              "9998                2            1              0          92888.52      1  \n",
              "9999                1            1              0          38190.78      0  \n",
              "\n",
              "[10000 rows x 12 columns]"
            ]
          },
          "execution_count": 5,
          "metadata": {},
          "output_type": "execute_result"
        }
      ],
      "source": [
        "data"
      ]
    },
    {
      "cell_type": "code",
      "execution_count": 6,
      "metadata": {
        "colab": {
          "base_uri": "https://localhost:8080/"
        },
        "id": "JNU8cVal2s_f",
        "outputId": "996be78e-e544-45b3-cefe-a2e3bd3e9e37"
      },
      "outputs": [
        {
          "name": "stdout",
          "output_type": "stream",
          "text": [
            "Data Frame Size: (10000, 12)\n"
          ]
        }
      ],
      "source": [
        "print(f\"Data Frame Size: {data.shape}\")"
      ]
    },
    {
      "cell_type": "code",
      "execution_count": 7,
      "metadata": {
        "colab": {
          "base_uri": "https://localhost:8080/"
        },
        "id": "a_xf5k6_1i1P",
        "outputId": "28f7dfde-85b8-44e9-b78c-5ba502e0761e"
      },
      "outputs": [
        {
          "name": "stdout",
          "output_type": "stream",
          "text": [
            "<class 'pandas.core.frame.DataFrame'>\n",
            "RangeIndex: 10000 entries, 0 to 9999\n",
            "Data columns (total 12 columns):\n",
            " #   Column            Non-Null Count  Dtype  \n",
            "---  ------            --------------  -----  \n",
            " 0   customer_id       10000 non-null  int64  \n",
            " 1   credit_score      10000 non-null  int64  \n",
            " 2   country           10000 non-null  object \n",
            " 3   gender            10000 non-null  object \n",
            " 4   age               10000 non-null  int64  \n",
            " 5   tenure            10000 non-null  int64  \n",
            " 6   balance           10000 non-null  float64\n",
            " 7   products_number   10000 non-null  int64  \n",
            " 8   credit_card       10000 non-null  int64  \n",
            " 9   active_member     10000 non-null  int64  \n",
            " 10  estimated_salary  10000 non-null  float64\n",
            " 11  churn             10000 non-null  int64  \n",
            "dtypes: float64(2), int64(8), object(2)\n",
            "memory usage: 937.6+ KB\n"
          ]
        }
      ],
      "source": [
        "data.info()"
      ]
    },
    {
      "cell_type": "code",
      "execution_count": 8,
      "metadata": {
        "colab": {
          "base_uri": "https://localhost:8080/",
          "height": 364
        },
        "id": "HxAh5esu2dDK",
        "outputId": "cefc89f7-4b15-41ef-847e-81359d5fcd35"
      },
      "outputs": [
        {
          "data": {
            "text/html": [
              "\n",
              "  <div id=\"df-f24ef9d9-4244-4014-9e28-595f10543d41\">\n",
              "    <div class=\"colab-df-container\">\n",
              "      <div>\n",
              "<style scoped>\n",
              "    .dataframe tbody tr th:only-of-type {\n",
              "        vertical-align: middle;\n",
              "    }\n",
              "\n",
              "    .dataframe tbody tr th {\n",
              "        vertical-align: top;\n",
              "    }\n",
              "\n",
              "    .dataframe thead th {\n",
              "        text-align: right;\n",
              "    }\n",
              "</style>\n",
              "<table border=\"1\" class=\"dataframe\">\n",
              "  <thead>\n",
              "    <tr style=\"text-align: right;\">\n",
              "      <th></th>\n",
              "      <th>customer_id</th>\n",
              "      <th>credit_score</th>\n",
              "      <th>age</th>\n",
              "      <th>tenure</th>\n",
              "      <th>balance</th>\n",
              "      <th>products_number</th>\n",
              "      <th>credit_card</th>\n",
              "      <th>active_member</th>\n",
              "      <th>estimated_salary</th>\n",
              "      <th>churn</th>\n",
              "    </tr>\n",
              "  </thead>\n",
              "  <tbody>\n",
              "    <tr>\n",
              "      <th>count</th>\n",
              "      <td>1.000000e+04</td>\n",
              "      <td>10000.000000</td>\n",
              "      <td>10000.000000</td>\n",
              "      <td>10000.000000</td>\n",
              "      <td>10000.000000</td>\n",
              "      <td>10000.000000</td>\n",
              "      <td>10000.00000</td>\n",
              "      <td>10000.000000</td>\n",
              "      <td>10000.000000</td>\n",
              "      <td>10000.000000</td>\n",
              "    </tr>\n",
              "    <tr>\n",
              "      <th>mean</th>\n",
              "      <td>1.569094e+07</td>\n",
              "      <td>650.528800</td>\n",
              "      <td>38.921800</td>\n",
              "      <td>5.012800</td>\n",
              "      <td>76485.889288</td>\n",
              "      <td>1.530200</td>\n",
              "      <td>0.70550</td>\n",
              "      <td>0.515100</td>\n",
              "      <td>100090.239881</td>\n",
              "      <td>0.203700</td>\n",
              "    </tr>\n",
              "    <tr>\n",
              "      <th>std</th>\n",
              "      <td>7.193619e+04</td>\n",
              "      <td>96.653299</td>\n",
              "      <td>10.487806</td>\n",
              "      <td>2.892174</td>\n",
              "      <td>62397.405202</td>\n",
              "      <td>0.581654</td>\n",
              "      <td>0.45584</td>\n",
              "      <td>0.499797</td>\n",
              "      <td>57510.492818</td>\n",
              "      <td>0.402769</td>\n",
              "    </tr>\n",
              "    <tr>\n",
              "      <th>min</th>\n",
              "      <td>1.556570e+07</td>\n",
              "      <td>350.000000</td>\n",
              "      <td>18.000000</td>\n",
              "      <td>0.000000</td>\n",
              "      <td>0.000000</td>\n",
              "      <td>1.000000</td>\n",
              "      <td>0.00000</td>\n",
              "      <td>0.000000</td>\n",
              "      <td>11.580000</td>\n",
              "      <td>0.000000</td>\n",
              "    </tr>\n",
              "    <tr>\n",
              "      <th>25%</th>\n",
              "      <td>1.562853e+07</td>\n",
              "      <td>584.000000</td>\n",
              "      <td>32.000000</td>\n",
              "      <td>3.000000</td>\n",
              "      <td>0.000000</td>\n",
              "      <td>1.000000</td>\n",
              "      <td>0.00000</td>\n",
              "      <td>0.000000</td>\n",
              "      <td>51002.110000</td>\n",
              "      <td>0.000000</td>\n",
              "    </tr>\n",
              "    <tr>\n",
              "      <th>50%</th>\n",
              "      <td>1.569074e+07</td>\n",
              "      <td>652.000000</td>\n",
              "      <td>37.000000</td>\n",
              "      <td>5.000000</td>\n",
              "      <td>97198.540000</td>\n",
              "      <td>1.000000</td>\n",
              "      <td>1.00000</td>\n",
              "      <td>1.000000</td>\n",
              "      <td>100193.915000</td>\n",
              "      <td>0.000000</td>\n",
              "    </tr>\n",
              "    <tr>\n",
              "      <th>75%</th>\n",
              "      <td>1.575323e+07</td>\n",
              "      <td>718.000000</td>\n",
              "      <td>44.000000</td>\n",
              "      <td>7.000000</td>\n",
              "      <td>127644.240000</td>\n",
              "      <td>2.000000</td>\n",
              "      <td>1.00000</td>\n",
              "      <td>1.000000</td>\n",
              "      <td>149388.247500</td>\n",
              "      <td>0.000000</td>\n",
              "    </tr>\n",
              "    <tr>\n",
              "      <th>max</th>\n",
              "      <td>1.581569e+07</td>\n",
              "      <td>850.000000</td>\n",
              "      <td>92.000000</td>\n",
              "      <td>10.000000</td>\n",
              "      <td>250898.090000</td>\n",
              "      <td>4.000000</td>\n",
              "      <td>1.00000</td>\n",
              "      <td>1.000000</td>\n",
              "      <td>199992.480000</td>\n",
              "      <td>1.000000</td>\n",
              "    </tr>\n",
              "  </tbody>\n",
              "</table>\n",
              "</div>\n",
              "      <button class=\"colab-df-convert\" onclick=\"convertToInteractive('df-f24ef9d9-4244-4014-9e28-595f10543d41')\"\n",
              "              title=\"Convert this dataframe to an interactive table.\"\n",
              "              style=\"display:none;\">\n",
              "        \n",
              "  <svg xmlns=\"http://www.w3.org/2000/svg\" height=\"24px\"viewBox=\"0 0 24 24\"\n",
              "       width=\"24px\">\n",
              "    <path d=\"M0 0h24v24H0V0z\" fill=\"none\"/>\n",
              "    <path d=\"M18.56 5.44l.94 2.06.94-2.06 2.06-.94-2.06-.94-.94-2.06-.94 2.06-2.06.94zm-11 1L8.5 8.5l.94-2.06 2.06-.94-2.06-.94L8.5 2.5l-.94 2.06-2.06.94zm10 10l.94 2.06.94-2.06 2.06-.94-2.06-.94-.94-2.06-.94 2.06-2.06.94z\"/><path d=\"M17.41 7.96l-1.37-1.37c-.4-.4-.92-.59-1.43-.59-.52 0-1.04.2-1.43.59L10.3 9.45l-7.72 7.72c-.78.78-.78 2.05 0 2.83L4 21.41c.39.39.9.59 1.41.59.51 0 1.02-.2 1.41-.59l7.78-7.78 2.81-2.81c.8-.78.8-2.07 0-2.86zM5.41 20L4 18.59l7.72-7.72 1.47 1.35L5.41 20z\"/>\n",
              "  </svg>\n",
              "      </button>\n",
              "      \n",
              "  <style>\n",
              "    .colab-df-container {\n",
              "      display:flex;\n",
              "      flex-wrap:wrap;\n",
              "      gap: 12px;\n",
              "    }\n",
              "\n",
              "    .colab-df-convert {\n",
              "      background-color: #E8F0FE;\n",
              "      border: none;\n",
              "      border-radius: 50%;\n",
              "      cursor: pointer;\n",
              "      display: none;\n",
              "      fill: #1967D2;\n",
              "      height: 32px;\n",
              "      padding: 0 0 0 0;\n",
              "      width: 32px;\n",
              "    }\n",
              "\n",
              "    .colab-df-convert:hover {\n",
              "      background-color: #E2EBFA;\n",
              "      box-shadow: 0px 1px 2px rgba(60, 64, 67, 0.3), 0px 1px 3px 1px rgba(60, 64, 67, 0.15);\n",
              "      fill: #174EA6;\n",
              "    }\n",
              "\n",
              "    [theme=dark] .colab-df-convert {\n",
              "      background-color: #3B4455;\n",
              "      fill: #D2E3FC;\n",
              "    }\n",
              "\n",
              "    [theme=dark] .colab-df-convert:hover {\n",
              "      background-color: #434B5C;\n",
              "      box-shadow: 0px 1px 3px 1px rgba(0, 0, 0, 0.15);\n",
              "      filter: drop-shadow(0px 1px 2px rgba(0, 0, 0, 0.3));\n",
              "      fill: #FFFFFF;\n",
              "    }\n",
              "  </style>\n",
              "\n",
              "      <script>\n",
              "        const buttonEl =\n",
              "          document.querySelector('#df-f24ef9d9-4244-4014-9e28-595f10543d41 button.colab-df-convert');\n",
              "        buttonEl.style.display =\n",
              "          google.colab.kernel.accessAllowed ? 'block' : 'none';\n",
              "\n",
              "        async function convertToInteractive(key) {\n",
              "          const element = document.querySelector('#df-f24ef9d9-4244-4014-9e28-595f10543d41');\n",
              "          const dataTable =\n",
              "            await google.colab.kernel.invokeFunction('convertToInteractive',\n",
              "                                                     [key], {});\n",
              "          if (!dataTable) return;\n",
              "\n",
              "          const docLinkHtml = 'Like what you see? Visit the ' +\n",
              "            '<a target=\"_blank\" href=https://colab.research.google.com/notebooks/data_table.ipynb>data table notebook</a>'\n",
              "            + ' to learn more about interactive tables.';\n",
              "          element.innerHTML = '';\n",
              "          dataTable['output_type'] = 'display_data';\n",
              "          await google.colab.output.renderOutput(dataTable, element);\n",
              "          const docLink = document.createElement('div');\n",
              "          docLink.innerHTML = docLinkHtml;\n",
              "          element.appendChild(docLink);\n",
              "        }\n",
              "      </script>\n",
              "    </div>\n",
              "  </div>\n",
              "  "
            ],
            "text/plain": [
              "        customer_id  credit_score           age        tenure        balance  \\\n",
              "count  1.000000e+04  10000.000000  10000.000000  10000.000000   10000.000000   \n",
              "mean   1.569094e+07    650.528800     38.921800      5.012800   76485.889288   \n",
              "std    7.193619e+04     96.653299     10.487806      2.892174   62397.405202   \n",
              "min    1.556570e+07    350.000000     18.000000      0.000000       0.000000   \n",
              "25%    1.562853e+07    584.000000     32.000000      3.000000       0.000000   \n",
              "50%    1.569074e+07    652.000000     37.000000      5.000000   97198.540000   \n",
              "75%    1.575323e+07    718.000000     44.000000      7.000000  127644.240000   \n",
              "max    1.581569e+07    850.000000     92.000000     10.000000  250898.090000   \n",
              "\n",
              "       products_number  credit_card  active_member  estimated_salary  \\\n",
              "count     10000.000000  10000.00000   10000.000000      10000.000000   \n",
              "mean          1.530200      0.70550       0.515100     100090.239881   \n",
              "std           0.581654      0.45584       0.499797      57510.492818   \n",
              "min           1.000000      0.00000       0.000000         11.580000   \n",
              "25%           1.000000      0.00000       0.000000      51002.110000   \n",
              "50%           1.000000      1.00000       1.000000     100193.915000   \n",
              "75%           2.000000      1.00000       1.000000     149388.247500   \n",
              "max           4.000000      1.00000       1.000000     199992.480000   \n",
              "\n",
              "              churn  \n",
              "count  10000.000000  \n",
              "mean       0.203700  \n",
              "std        0.402769  \n",
              "min        0.000000  \n",
              "25%        0.000000  \n",
              "50%        0.000000  \n",
              "75%        0.000000  \n",
              "max        1.000000  "
            ]
          },
          "execution_count": 8,
          "metadata": {},
          "output_type": "execute_result"
        }
      ],
      "source": [
        "data.describe()"
      ]
    },
    {
      "cell_type": "code",
      "execution_count": 9,
      "metadata": {
        "colab": {
          "base_uri": "https://localhost:8080/"
        },
        "id": "SrcJk9jn2iD5",
        "outputId": "152a11cc-8c7a-44f7-a9c6-b2cc7bbf5dfa"
      },
      "outputs": [
        {
          "data": {
            "text/plain": [
              "customer_id         0\n",
              "credit_score        0\n",
              "country             0\n",
              "gender              0\n",
              "age                 0\n",
              "tenure              0\n",
              "balance             0\n",
              "products_number     0\n",
              "credit_card         0\n",
              "active_member       0\n",
              "estimated_salary    0\n",
              "churn               0\n",
              "dtype: int64"
            ]
          },
          "execution_count": 9,
          "metadata": {},
          "output_type": "execute_result"
        }
      ],
      "source": [
        "data.isna().sum()"
      ]
    },
    {
      "cell_type": "code",
      "execution_count": 10,
      "metadata": {
        "colab": {
          "base_uri": "https://localhost:8080/",
          "height": 400
        },
        "id": "VNDNqQtj2mRz",
        "outputId": "9fed6319-7015-46a8-f565-7f280e68371f"
      },
      "outputs": [
        {
          "data": {
            "text/plain": [
              "<matplotlib.axes._subplots.AxesSubplot at 0x7fe07ebe91d0>"
            ]
          },
          "execution_count": 10,
          "metadata": {},
          "output_type": "execute_result"
        },
        {
          "data": {
            "image/png": "[encoded data removed]",
            "text/plain": [
              "<Figure size 600x400 with 1 Axes>"
            ]
          },
          "metadata": {
            "needs_background": "light"
          },
          "output_type": "display_data"
        }
      ],
      "source": [
        "target = (\n",
        "    data\n",
        "    .churn\n",
        "    .value_counts()\n",
        "    .reset_index()\n",
        ")\n",
        "\n",
        "plt.figure(dpi=100)\n",
        "\n",
        "sns.barplot(x='index', y='churn', data=target)"
      ]
    },
    {
      "cell_type": "code",
      "execution_count": 11,
      "metadata": {
        "colab": {
          "base_uri": "https://localhost:8080/",
          "height": 405
        },
        "id": "qXeF1OlW4JZb",
        "outputId": "77c29f44-e3b2-4935-b18a-35d95fd444e4"
      },
      "outputs": [
        {
          "data": {
            "text/plain": [
              "<seaborn.axisgrid.FacetGrid at 0x7fe07cf36cd0>"
            ]
          },
          "execution_count": 11,
          "metadata": {},
          "output_type": "execute_result"
        },
        {
          "data": {
            "text/plain": [
              "<Figure size 900x600 with 0 Axes>"
            ]
          },
          "metadata": {},
          "output_type": "display_data"
        },
        {
          "data": {
            "image/png": "[encoded data removed]",
            "text/plain": [
              "<Figure size 402.375x360 with 1 Axes>"
            ]
          },
          "metadata": {
            "needs_background": "light"
          },
          "output_type": "display_data"
        }
      ],
      "source": [
        "plt.figure(dpi=150)\n",
        "sns.displot(data=data, x='age', hue='churn', kind='kde')"
      ]
    },
    {
      "cell_type": "code",
      "execution_count": 75,
      "metadata": {
        "colab": {
          "base_uri": "https://localhost:8080/",
          "height": 405
        },
        "id": "IQVSYWLV5Q7V",
        "outputId": "20b9872d-f961-4bd1-95af-2b148da44b32"
      },
      "outputs": [
        {
          "data": {
            "text/plain": [
              "<seaborn.axisgrid.FacetGrid at 0x7fe0785d1d90>"
            ]
          },
          "execution_count": 75,
          "metadata": {},
          "output_type": "execute_result"
        },
        {
          "data": {
            "text/plain": [
              "<Figure size 900x600 with 0 Axes>"
            ]
          },
          "metadata": {},
          "output_type": "display_data"
        },
        {
          "data": {
            "image/png": "[encoded data removed]",
            "text/plain": [
              "<Figure size 441.875x360 with 1 Axes>"
            ]
          },
          "metadata": {
            "needs_background": "light"
          },
          "output_type": "display_data"
        }
      ],
      "source": [
        "plt.figure(dpi=150)\n",
        "sns.displot(data=data, x='age', hue='country', kind='kde', fill=True)"
      ]
    },
    {
      "cell_type": "code",
      "execution_count": 51,
      "metadata": {
        "colab": {
          "base_uri": "https://localhost:8080/",
          "height": 916
        },
        "id": "hdGZHuQy5tWI",
        "outputId": "83a0c849-1412-42f1-ee66-2251b1107155"
      },
      "outputs": [
        {
          "name": "stdout",
          "output_type": "stream",
          "text": [
            "   churn  country  count\n",
            "0      0   France   4204\n",
            "1      0    Spain   2064\n",
            "2      0  Germany   1695\n",
            "3      1  Germany    814\n",
            "4      1   France    810\n",
            "5      1    Spain    413\n",
            "-0.2 4204.0\n",
            "0.8 2064.0\n",
            "1.8 1695.0\n",
            "0.2 810.0\n",
            "1.2 413.0\n",
            "2.2 814.0\n"
          ]
        },
        {
          "data": {
            "image/png": "[encoded data removed]",
            "text/plain": [
              "<Figure size 1000x800 with 1 Axes>"
            ]
          },
          "metadata": {
            "needs_background": "light"
          },
          "output_type": "display_data"
        }
      ],
      "source": [
        "country_churn = (data\n",
        "                .groupby(['churn'])['country']\n",
        "                .value_counts()\n",
        "                .rename('count')\n",
        "                .reset_index())\n",
        "\n",
        "print(country_churn)\n",
        "\n",
        "plt.figure(figsize=(10, 8), dpi=100)\n",
        "\n",
        "ax = sns.barplot(data=country_churn, x='country', y='count', hue='churn')\n",
        "\n",
        "for p in ax.patches:\n",
        "  count = f\"{p.get_height()}\"\n",
        "\n",
        "  print(p.get_x() + p.get_width() / 2., p.get_height())\n",
        "  ax.annotate(\n",
        "      count,\n",
        "      (p.get_x() + p.get_width() / 2., p.get_height()),\n",
        "      ha='center',\n",
        "      va='center',\n",
        "      xytext=(0, 10),\n",
        "      textcoords=\"offset points\"\n",
        "  )"
      ]
    },
    {
      "cell_type": "code",
      "execution_count": 74,
      "metadata": {
        "colab": {
          "base_uri": "https://localhost:8080/",
          "height": 702
        },
        "id": "VBzN4D2a7d1F",
        "outputId": "c7378152-53c6-47ec-e331-f9af2edfc2af"
      },
      "outputs": [
        {
          "name": "stdout",
          "output_type": "stream",
          "text": [
            "\n"
          ]
        },
        {
          "data": {
            "image/png": "[encoded data removed]",
            "text/plain": [
              "<Figure size 1000x800 with 1 Axes>"
            ]
          },
          "metadata": {
            "needs_background": "light"
          },
          "output_type": "display_data"
        }
      ],
      "source": [
        "active_members = (\n",
        "    data.groupby(['churn'])['active_member'].value_counts().rename('count').reset_index()\n",
        "    \n",
        ")\n",
        "\n",
        "print()\n",
        "\n",
        "plt.figure(figsize=(10, 8), dpi=100)\n",
        "\n",
        "ax = sns.barplot(data=active_members, x=active_members['active_member'].map({0: 'No', 1 : 'Yes'}), y='count', hue='churn')\n",
        "\n",
        "for p in ax.patches:\n",
        "  count = f\"{p.get_height()}\"\n",
        "  ax.annotate(\n",
        "      count,\n",
        "      (p.get_x() + p.get_width() / 2., p.get_height()),\n",
        "      ha='center',\n",
        "      va='center',\n",
        "      xytext=(0, 10),\n",
        "      textcoords=\"offset points\"\n",
        "  )"
      ]
    },
    {
      "cell_type": "code",
      "execution_count": 94,
      "metadata": {
        "colab": {
          "base_uri": "https://localhost:8080/",
          "height": 387
        },
        "id": "sF4PIOrh_ygu",
        "outputId": "b6e99cd1-04fb-4a13-b586-6a2bf1304710"
      },
      "outputs": [
        {
          "name": "stdout",
          "output_type": "stream",
          "text": [
            "11.58\n"
          ]
        },
        {
          "data": {
            "image/png": "[encoded data removed]",
            "text/plain": [
              "<Figure size 402.375x360 with 1 Axes>"
            ]
          },
          "metadata": {
            "needs_background": "light"
          },
          "output_type": "display_data"
        }
      ],
      "source": [
        "sns.displot(data=data, x=data.estimated_salary.sort_values(), kind='kde', hue='churn')\n",
        "\n",
        "print(data.estimated_salary.min())"
      ]
    },
    {
      "cell_type": "code",
      "execution_count": 95,
      "metadata": {
        "colab": {
          "base_uri": "https://localhost:8080/",
          "height": 387
        },
        "id": "5L3k_5MwCQV3",
        "outputId": "49cd6463-fcc7-4146-f7d5-c010791ddb49"
      },
      "outputs": [
        {
          "data": {
            "text/plain": [
              "<seaborn.axisgrid.FacetGrid at 0x7fe067a7d110>"
            ]
          },
          "execution_count": 95,
          "metadata": {},
          "output_type": "execute_result"
        },
        {
          "data": {
            "image/png": "[encoded data removed]",
            "text/plain": [
              "<Figure size 402.375x360 with 1 Axes>"
            ]
          },
          "metadata": {
            "needs_background": "light"
          },
          "output_type": "display_data"
        }
      ],
      "source": [
        "sns.displot(data=data, x=data.tenure.sort_values(), kind='kde', hue='churn')"
      ]
    },
    {
      "cell_type": "code",
      "execution_count": 97,
      "metadata": {
        "colab": {
          "base_uri": "https://localhost:8080/",
          "height": 494
        },
        "id": "D1blGloiDhxd",
        "outputId": "9959b58a-f844-4335-f6e3-0ab83935d46d"
      },
      "outputs": [
        {
          "data": {
            "text/plain": [
              "<matplotlib.axes._subplots.AxesSubplot at 0x7fe06db87710>"
            ]
          },
          "execution_count": 97,
          "metadata": {},
          "output_type": "execute_result"
        },
        {
          "data": {
            "image/png": "[encoded data removed]",
            "text/plain": [
              "<Figure size 600x400 with 2 Axes>"
            ]
          },
          "metadata": {
            "needs_background": "light"
          },
          "output_type": "display_data"
        }
      ],
      "source": [
        "plt.figure(dpi=100)\n",
        "sns.heatmap(data=data.corr())"
      ]
    },
    {
      "cell_type": "code",
      "execution_count": 99,
      "metadata": {
        "id": "CxIxnyL-DvKU"
      },
      "outputs": [],
      "source": [
        "data = pd.get_dummies(data)"
      ]
    },
    {
      "cell_type": "code",
      "execution_count": 101,
      "metadata": {
        "id": "IyUc_dlkD7ue"
      },
      "outputs": [],
      "source": [
        "data = data.drop('customer_id', axis=1)"
      ]
    },
    {
      "cell_type": "code",
      "execution_count": 103,
      "metadata": {
        "id": "n_1-OeDUEGsj"
      },
      "outputs": [],
      "source": [
        "X = data.drop('churn', axis=1)\n",
        "y = data['churn']"
      ]
    },
    {
      "cell_type": "code",
      "execution_count": 105,
      "metadata": {
        "id": "szLbanTPEUoh"
      },
      "outputs": [],
      "source": [
        "sc = StandardScaler()"
      ]
    },
    {
      "cell_type": "code",
      "execution_count": 108,
      "metadata": {
        "id": "FiWH5EitEa6R"
      },
      "outputs": [],
      "source": [
        "X = sc.fit_transform(X)"
      ]
    },
    {
      "cell_type": "code",
      "execution_count": 109,
      "metadata": {
        "colab": {
          "base_uri": "https://localhost:8080/"
        },
        "id": "a1bIGRCJEkfu",
        "outputId": "e4ab367f-7a45-4642-96f5-344871c5c090"
      },
      "outputs": [
        {
          "data": {
            "text/plain": [
              "array([[-0.32622142,  0.29351742, -1.04175968, ..., -0.57380915,\n",
              "         1.09598752, -1.09598752],\n",
              "       [-0.44003595,  0.19816383, -1.38753759, ...,  1.74273971,\n",
              "         1.09598752, -1.09598752],\n",
              "       [-1.53679418,  0.29351742,  1.03290776, ..., -0.57380915,\n",
              "         1.09598752, -1.09598752],\n",
              "       ...,\n",
              "       [ 0.60498839, -0.27860412,  0.68712986, ..., -0.57380915,\n",
              "         1.09598752, -1.09598752],\n",
              "       [ 1.25683526,  0.29351742, -0.69598177, ..., -0.57380915,\n",
              "        -0.91241915,  0.91241915],\n",
              "       [ 1.46377078, -1.04143285, -0.35020386, ..., -0.57380915,\n",
              "         1.09598752, -1.09598752]])"
            ]
          },
          "execution_count": 109,
          "metadata": {},
          "output_type": "execute_result"
        }
      ],
      "source": [
        "X"
      ]
    },
    {
      "cell_type": "code",
      "execution_count": 110,
      "metadata": {
        "id": "2zMHUfpwEnPk"
      },
      "outputs": [],
      "source": [
        "X_train, X_test, y_train, y_test = train_test_split(X, y, test_size=0.1, random_state=42)"
      ]
    },
    {
      "cell_type": "code",
      "execution_count": 112,
      "metadata": {
        "colab": {
          "base_uri": "https://localhost:8080/"
        },
        "id": "fA5KbIS3Ewdi",
        "outputId": "cc38a43a-a627-4b23-d3c4-30ad8b2112ad"
      },
      "outputs": [
        {
          "name": "stdout",
          "output_type": "stream",
          "text": [
            "              precision    recall  f1-score   support\n",
            "\n",
            "           0       0.83      0.95      0.89       809\n",
            "           1       0.50      0.19      0.28       191\n",
            "\n",
            "    accuracy                           0.81      1000\n",
            "   macro avg       0.67      0.57      0.58      1000\n",
            "weighted avg       0.77      0.81      0.77      1000\n",
            "\n"
          ]
        }
      ],
      "source": [
        "lr = LogisticRegression()\n",
        "lr.fit(X_train, y_train)\n",
        "\n",
        "preds = lr.predict(X_test)\n",
        "\n",
        "print(classification_report(y_test, preds))"
      ]
    },
    {
      "cell_type": "code",
      "execution_count": 113,
      "metadata": {
        "id": "_NZv8cEWFKWS"
      },
      "outputs": [],
      "source": [
        "grid_params = {\n",
        "    'penalty': ['l1', 'l2', 'elasticnet'],\n",
        "    'C': [0.001, 0.1, 1, 3, 5, 7],\n",
        "    'max_iter': np.linspace(1, 100, 10)\n",
        "}"
      ]
    },
    {
      "cell_type": "code",
      "execution_count": 116,
      "metadata": {
        "id": "oqNKnaDVF7gF"
      },
      "outputs": [],
      "source": [
        "lr_grid = LogisticRegression()"
      ]
    },
    {
      "cell_type": "code",
      "execution_count": 117,
      "metadata": {
        "id": "wQlpuQAYFs2_"
      },
      "outputs": [],
      "source": [
        "grid = GridSearchCV(lr_grid, grid_params, verbose=2)"
      ]
    },
    {
      "cell_type": "code",
      "execution_count": 118,
      "metadata": {
        "colab": {
          "base_uri": "https://localhost:8080/"
        },
        "id": "TRPQbP0sGF1x",
        "outputId": "656caaa6-fe4d-45a0-b6cd-5cc21a4d435c"
      },
      "outputs": [
        {
          "name": "stdout",
          "output_type": "stream",
          "text": [
            "Fitting 5 folds for each of 180 candidates, totalling 900 fits\n",
            "[CV] END ..................C=0.001, max_iter=1.0, penalty=l1; total time=   0.0s\n",
            "[CV] END ..................C=0.001, max_iter=1.0, penalty=l1; total time=   0.0s\n",
            "[CV] END ..................C=0.001, max_iter=1.0, penalty=l1; total time=   0.0s\n",
            "[CV] END ..................C=0.001, max_iter=1.0, penalty=l1; total time=   0.0s\n",
            "[CV] END ..................C=0.001, max_iter=1.0, penalty=l1; total time=   0.0s\n",
            "[CV] END ..................C=0.001, max_iter=1.0, penalty=l2; total time=   0.0s\n",
            "[CV] END ..................C=0.001, max_iter=1.0, penalty=l2; total time=   0.0s\n",
            "[CV] END ..................C=0.001, max_iter=1.0, penalty=l2; total time=   0.0s\n",
            "[CV] END ..................C=0.001, max_iter=1.0, penalty=l2; total time=   0.0s\n",
            "[CV] END ..................C=0.001, max_iter=1.0, penalty=l2; total time=   0.0s\n",
            "[CV] END ..........C=0.001, max_iter=1.0, penalty=elasticnet; total time=   0.0s\n",
            "[CV] END ..........C=0.001, max_iter=1.0, penalty=elasticnet; total time=   0.0s\n",
            "[CV] END ..........C=0.001, max_iter=1.0, penalty=elasticnet; total time=   0.0s\n",
            "[CV] END ..........C=0.001, max_iter=1.0, penalty=elasticnet; total time=   0.0s\n",
            "[CV] END ..........C=0.001, max_iter=1.0, penalty=elasticnet; total time=   0.0s\n",
            "[CV] END .................C=0.001, max_iter=12.0, penalty=l1; total time=   0.0s\n",
            "[CV] END .................C=0.001, max_iter=12.0, penalty=l1; total time=   0.0s\n",
            "[CV] END .................C=0.001, max_iter=12.0, penalty=l1; total time=   0.0s\n",
            "[CV] END .................C=0.001, max_iter=12.0, penalty=l1; total time=   0.0s\n",
            "[CV] END .................C=0.001, max_iter=12.0, penalty=l1; total time=   0.0s\n",
            "[CV] END .................C=0.001, max_iter=12.0, penalty=l2; total time=   0.0s\n"
          ]
        },
        {
          "name": "stderr",
          "output_type": "stream",
          "text": [
            "/usr/local/lib/python3.7/dist-packages/sklearn/linear_model/_logistic.py:818: ConvergenceWarning: lbfgs failed to converge (status=1):\n",
            "STOP: TOTAL NO. of ITERATIONS REACHED LIMIT.\n",
            "\n",
            "Increase the number of iterations (max_iter) or scale the data as shown in:\n",
            "    https://scikit-learn.org/stable/modules/preprocessing.html\n",
            "Please also refer to the documentation for alternative solver options:\n",
            "    https://scikit-learn.org/stable/modules/linear_model.html#logistic-regression\n",
            "  extra_warning_msg=_LOGISTIC_SOLVER_CONVERGENCE_MSG,\n",
            "/usr/local/lib/python3.7/dist-packages/sklearn/linear_model/_logistic.py:818: ConvergenceWarning: lbfgs failed to converge (status=1):\n",
            "STOP: TOTAL NO. of ITERATIONS REACHED LIMIT.\n",
            "\n",
            "Increase the number of iterations (max_iter) or scale the data as shown in:\n",
            "    https://scikit-learn.org/stable/modules/preprocessing.html\n",
            "Please also refer to the documentation for alternative solver options:\n",
            "    https://scikit-learn.org/stable/modules/linear_model.html#logistic-regression\n",
            "  extra_warning_msg=_LOGISTIC_SOLVER_CONVERGENCE_MSG,\n",
            "/usr/local/lib/python3.7/dist-packages/sklearn/linear_model/_logistic.py:818: ConvergenceWarning: lbfgs failed to converge (status=1):\n",
            "STOP: TOTAL NO. of ITERATIONS REACHED LIMIT.\n",
            "\n",
            "Increase the number of iterations (max_iter) or scale the data as shown in:\n",
            "    https://scikit-learn.org/stable/modules/preprocessing.html\n",
            "Please also refer to the documentation for alternative solver options:\n",
            "    https://scikit-learn.org/stable/modules/linear_model.html#logistic-regression\n",
            "  extra_warning_msg=_LOGISTIC_SOLVER_CONVERGENCE_MSG,\n",
            "/usr/local/lib/python3.7/dist-packages/sklearn/linear_model/_logistic.py:818: ConvergenceWarning: lbfgs failed to converge (status=1):\n",
            "STOP: TOTAL NO. of ITERATIONS REACHED LIMIT.\n",
            "\n",
            "Increase the number of iterations (max_iter) or scale the data as shown in:\n",
            "    https://scikit-learn.org/stable/modules/preprocessing.html\n",
            "Please also refer to the documentation for alternative solver options:\n",
            "    https://scikit-learn.org/stable/modules/linear_model.html#logistic-regression\n",
            "  extra_warning_msg=_LOGISTIC_SOLVER_CONVERGENCE_MSG,\n",
            "/usr/local/lib/python3.7/dist-packages/sklearn/linear_model/_logistic.py:818: ConvergenceWarning: lbfgs failed to converge (status=1):\n",
            "STOP: TOTAL NO. of ITERATIONS REACHED LIMIT.\n",
            "\n",
            "Increase the number of iterations (max_iter) or scale the data as shown in:\n",
            "    https://scikit-learn.org/stable/modules/preprocessing.html\n",
            "Please also refer to the documentation for alternative solver options:\n",
            "    https://scikit-learn.org/stable/modules/linear_model.html#logistic-regression\n",
            "  extra_warning_msg=_LOGISTIC_SOLVER_CONVERGENCE_MSG,\n"
          ]
        },
        {
          "name": "stdout",
          "output_type": "stream",
          "text": [
            "[CV] END .................C=0.001, max_iter=12.0, penalty=l2; total time=   0.0s\n",
            "[CV] END .................C=0.001, max_iter=12.0, penalty=l2; total time=   0.0s\n",
            "[CV] END .................C=0.001, max_iter=12.0, penalty=l2; total time=   0.0s\n",
            "[CV] END .................C=0.001, max_iter=12.0, penalty=l2; total time=   0.0s\n",
            "[CV] END .........C=0.001, max_iter=12.0, penalty=elasticnet; total time=   0.0s\n",
            "[CV] END .........C=0.001, max_iter=12.0, penalty=elasticnet; total time=   0.0s\n",
            "[CV] END .........C=0.001, max_iter=12.0, penalty=elasticnet; total time=   0.0s\n",
            "[CV] END .........C=0.001, max_iter=12.0, penalty=elasticnet; total time=   0.0s\n",
            "[CV] END .........C=0.001, max_iter=12.0, penalty=elasticnet; total time=   0.0s\n",
            "[CV] END .................C=0.001, max_iter=23.0, penalty=l1; total time=   0.0s\n",
            "[CV] END .................C=0.001, max_iter=23.0, penalty=l1; total time=   0.0s\n",
            "[CV] END .................C=0.001, max_iter=23.0, penalty=l1; total time=   0.0s\n",
            "[CV] END .................C=0.001, max_iter=23.0, penalty=l1; total time=   0.0s\n",
            "[CV] END .................C=0.001, max_iter=23.0, penalty=l1; total time=   0.0s\n",
            "[CV] END .................C=0.001, max_iter=23.0, penalty=l2; total time=   0.0s\n",
            "[CV] END .................C=0.001, max_iter=23.0, penalty=l2; total time=   0.0s\n",
            "[CV] END .................C=0.001, max_iter=23.0, penalty=l2; total time=   0.0s\n",
            "[CV] END .................C=0.001, max_iter=23.0, penalty=l2; total time=   0.0s\n",
            "[CV] END .................C=0.001, max_iter=23.0, penalty=l2; total time=   0.0s\n",
            "[CV] END .........C=0.001, max_iter=23.0, penalty=elasticnet; total time=   0.0s\n",
            "[CV] END .........C=0.001, max_iter=23.0, penalty=elasticnet; total time=   0.0s\n",
            "[CV] END .........C=0.001, max_iter=23.0, penalty=elasticnet; total time=   0.0s\n",
            "[CV] END .........C=0.001, max_iter=23.0, penalty=elasticnet; total time=   0.0s\n",
            "[CV] END .........C=0.001, max_iter=23.0, penalty=elasticnet; total time=   0.0s\n",
            "[CV] END .................C=0.001, max_iter=34.0, penalty=l1; total time=   0.0s\n",
            "[CV] END .................C=0.001, max_iter=34.0, penalty=l1; total time=   0.0s\n",
            "[CV] END .................C=0.001, max_iter=34.0, penalty=l1; total time=   0.0s\n",
            "[CV] END .................C=0.001, max_iter=34.0, penalty=l1; total time=   0.0s\n",
            "[CV] END .................C=0.001, max_iter=34.0, penalty=l1; total time=   0.0s\n",
            "[CV] END .................C=0.001, max_iter=34.0, penalty=l2; total time=   0.0s\n",
            "[CV] END .................C=0.001, max_iter=34.0, penalty=l2; total time=   0.0s\n",
            "[CV] END .................C=0.001, max_iter=34.0, penalty=l2; total time=   0.0s\n",
            "[CV] END .................C=0.001, max_iter=34.0, penalty=l2; total time=   0.0s\n",
            "[CV] END .................C=0.001, max_iter=34.0, penalty=l2; total time=   0.0s\n",
            "[CV] END .........C=0.001, max_iter=34.0, penalty=elasticnet; total time=   0.0s\n",
            "[CV] END .........C=0.001, max_iter=34.0, penalty=elasticnet; total time=   0.0s\n",
            "[CV] END .........C=0.001, max_iter=34.0, penalty=elasticnet; total time=   0.0s\n",
            "[CV] END .........C=0.001, max_iter=34.0, penalty=elasticnet; total time=   0.0s\n",
            "[CV] END .........C=0.001, max_iter=34.0, penalty=elasticnet; total time=   0.0s\n",
            "[CV] END .................C=0.001, max_iter=45.0, penalty=l1; total time=   0.0s\n",
            "[CV] END .................C=0.001, max_iter=45.0, penalty=l1; total time=   0.0s\n",
            "[CV] END .................C=0.001, max_iter=45.0, penalty=l1; total time=   0.0s\n",
            "[CV] END .................C=0.001, max_iter=45.0, penalty=l1; total time=   0.0s\n",
            "[CV] END .................C=0.001, max_iter=45.0, penalty=l1; total time=   0.0s\n",
            "[CV] END .................C=0.001, max_iter=45.0, penalty=l2; total time=   0.0s\n",
            "[CV] END .................C=0.001, max_iter=45.0, penalty=l2; total time=   0.0s\n",
            "[CV] END .................C=0.001, max_iter=45.0, penalty=l2; total time=   0.1s\n",
            "[CV] END .................C=0.001, max_iter=45.0, penalty=l2; total time=   0.0s\n",
            "[CV] END .................C=0.001, max_iter=45.0, penalty=l2; total time=   0.0s\n",
            "[CV] END .........C=0.001, max_iter=45.0, penalty=elasticnet; total time=   0.0s\n",
            "[CV] END .........C=0.001, max_iter=45.0, penalty=elasticnet; total time=   0.0s\n",
            "[CV] END .........C=0.001, max_iter=45.0, penalty=elasticnet; total time=   0.0s\n",
            "[CV] END .........C=0.001, max_iter=45.0, penalty=elasticnet; total time=   0.0s\n",
            "[CV] END .........C=0.001, max_iter=45.0, penalty=elasticnet; total time=   0.0s\n",
            "[CV] END .................C=0.001, max_iter=56.0, penalty=l1; total time=   0.0s\n",
            "[CV] END .................C=0.001, max_iter=56.0, penalty=l1; total time=   0.0s\n",
            "[CV] END .................C=0.001, max_iter=56.0, penalty=l1; total time=   0.0s\n",
            "[CV] END .................C=0.001, max_iter=56.0, penalty=l1; total time=   0.0s\n",
            "[CV] END .................C=0.001, max_iter=56.0, penalty=l1; total time=   0.0s\n",
            "[CV] END .................C=0.001, max_iter=56.0, penalty=l2; total time=   0.0s\n",
            "[CV] END .................C=0.001, max_iter=56.0, penalty=l2; total time=   0.0s\n",
            "[CV] END .................C=0.001, max_iter=56.0, penalty=l2; total time=   0.0s\n",
            "[CV] END .................C=0.001, max_iter=56.0, penalty=l2; total time=   0.0s\n",
            "[CV] END .................C=0.001, max_iter=56.0, penalty=l2; total time=   0.0s\n",
            "[CV] END .........C=0.001, max_iter=56.0, penalty=elasticnet; total time=   0.0s\n",
            "[CV] END .........C=0.001, max_iter=56.0, penalty=elasticnet; total time=   0.0s\n",
            "[CV] END .........C=0.001, max_iter=56.0, penalty=elasticnet; total time=   0.0s\n",
            "[CV] END .........C=0.001, max_iter=56.0, penalty=elasticnet; total time=   0.0s\n",
            "[CV] END .........C=0.001, max_iter=56.0, penalty=elasticnet; total time=   0.0s\n",
            "[CV] END .................C=0.001, max_iter=67.0, penalty=l1; total time=   0.0s\n",
            "[CV] END .................C=0.001, max_iter=67.0, penalty=l1; total time=   0.0s\n",
            "[CV] END .................C=0.001, max_iter=67.0, penalty=l1; total time=   0.0s\n",
            "[CV] END .................C=0.001, max_iter=67.0, penalty=l1; total time=   0.0s\n",
            "[CV] END .................C=0.001, max_iter=67.0, penalty=l1; total time=   0.0s\n",
            "[CV] END .................C=0.001, max_iter=67.0, penalty=l2; total time=   0.1s\n",
            "[CV] END .................C=0.001, max_iter=67.0, penalty=l2; total time=   0.0s\n",
            "[CV] END .................C=0.001, max_iter=67.0, penalty=l2; total time=   0.1s\n",
            "[CV] END .................C=0.001, max_iter=67.0, penalty=l2; total time=   0.0s\n",
            "[CV] END .................C=0.001, max_iter=67.0, penalty=l2; total time=   0.0s\n",
            "[CV] END .........C=0.001, max_iter=67.0, penalty=elasticnet; total time=   0.0s\n",
            "[CV] END .........C=0.001, max_iter=67.0, penalty=elasticnet; total time=   0.0s\n",
            "[CV] END .........C=0.001, max_iter=67.0, penalty=elasticnet; total time=   0.0s\n",
            "[CV] END .........C=0.001, max_iter=67.0, penalty=elasticnet; total time=   0.0s\n",
            "[CV] END .........C=0.001, max_iter=67.0, penalty=elasticnet; total time=   0.0s\n",
            "[CV] END .................C=0.001, max_iter=78.0, penalty=l1; total time=   0.0s\n",
            "[CV] END .................C=0.001, max_iter=78.0, penalty=l1; total time=   0.0s\n",
            "[CV] END .................C=0.001, max_iter=78.0, penalty=l1; total time=   0.0s\n",
            "[CV] END .................C=0.001, max_iter=78.0, penalty=l1; total time=   0.0s\n",
            "[CV] END .................C=0.001, max_iter=78.0, penalty=l1; total time=   0.0s\n",
            "[CV] END .................C=0.001, max_iter=78.0, penalty=l2; total time=   0.0s\n",
            "[CV] END .................C=0.001, max_iter=78.0, penalty=l2; total time=   0.0s\n",
            "[CV] END .................C=0.001, max_iter=78.0, penalty=l2; total time=   0.0s\n",
            "[CV] END .................C=0.001, max_iter=78.0, penalty=l2; total time=   0.0s\n",
            "[CV] END .................C=0.001, max_iter=78.0, penalty=l2; total time=   0.0s\n",
            "[CV] END .........C=0.001, max_iter=78.0, penalty=elasticnet; total time=   0.0s\n",
            "[CV] END .........C=0.001, max_iter=78.0, penalty=elasticnet; total time=   0.0s\n",
            "[CV] END .........C=0.001, max_iter=78.0, penalty=elasticnet; total time=   0.0s\n",
            "[CV] END .........C=0.001, max_iter=78.0, penalty=elasticnet; total time=   0.0s\n",
            "[CV] END .........C=0.001, max_iter=78.0, penalty=elasticnet; total time=   0.0s\n",
            "[CV] END .................C=0.001, max_iter=89.0, penalty=l1; total time=   0.0s\n",
            "[CV] END .................C=0.001, max_iter=89.0, penalty=l1; total time=   0.0s\n",
            "[CV] END .................C=0.001, max_iter=89.0, penalty=l1; total time=   0.0s\n",
            "[CV] END .................C=0.001, max_iter=89.0, penalty=l1; total time=   0.0s\n",
            "[CV] END .................C=0.001, max_iter=89.0, penalty=l1; total time=   0.0s\n",
            "[CV] END .................C=0.001, max_iter=89.0, penalty=l2; total time=   0.0s\n",
            "[CV] END .................C=0.001, max_iter=89.0, penalty=l2; total time=   0.0s\n",
            "[CV] END .................C=0.001, max_iter=89.0, penalty=l2; total time=   0.0s\n",
            "[CV] END .................C=0.001, max_iter=89.0, penalty=l2; total time=   0.0s\n",
            "[CV] END .................C=0.001, max_iter=89.0, penalty=l2; total time=   0.0s\n",
            "[CV] END .........C=0.001, max_iter=89.0, penalty=elasticnet; total time=   0.0s\n",
            "[CV] END .........C=0.001, max_iter=89.0, penalty=elasticnet; total time=   0.0s\n",
            "[CV] END .........C=0.001, max_iter=89.0, penalty=elasticnet; total time=   0.0s\n",
            "[CV] END .........C=0.001, max_iter=89.0, penalty=elasticnet; total time=   0.0s\n",
            "[CV] END .........C=0.001, max_iter=89.0, penalty=elasticnet; total time=   0.0s\n",
            "[CV] END ................C=0.001, max_iter=100.0, penalty=l1; total time=   0.0s\n",
            "[CV] END ................C=0.001, max_iter=100.0, penalty=l1; total time=   0.0s\n",
            "[CV] END ................C=0.001, max_iter=100.0, penalty=l1; total time=   0.0s\n",
            "[CV] END ................C=0.001, max_iter=100.0, penalty=l1; total time=   0.0s\n",
            "[CV] END ................C=0.001, max_iter=100.0, penalty=l1; total time=   0.0s\n",
            "[CV] END ................C=0.001, max_iter=100.0, penalty=l2; total time=   0.0s\n",
            "[CV] END ................C=0.001, max_iter=100.0, penalty=l2; total time=   0.0s\n",
            "[CV] END ................C=0.001, max_iter=100.0, penalty=l2; total time=   0.0s\n",
            "[CV] END ................C=0.001, max_iter=100.0, penalty=l2; total time=   0.0s\n",
            "[CV] END ................C=0.001, max_iter=100.0, penalty=l2; total time=   0.0s\n",
            "[CV] END ........C=0.001, max_iter=100.0, penalty=elasticnet; total time=   0.0s\n",
            "[CV] END ........C=0.001, max_iter=100.0, penalty=elasticnet; total time=   0.0s\n",
            "[CV] END ........C=0.001, max_iter=100.0, penalty=elasticnet; total time=   0.0s\n",
            "[CV] END ........C=0.001, max_iter=100.0, penalty=elasticnet; total time=   0.0s\n",
            "[CV] END ........C=0.001, max_iter=100.0, penalty=elasticnet; total time=   0.0s\n",
            "[CV] END ....................C=0.1, max_iter=1.0, penalty=l1; total time=   0.0s\n",
            "[CV] END ....................C=0.1, max_iter=1.0, penalty=l1; total time=   0.0s\n",
            "[CV] END ....................C=0.1, max_iter=1.0, penalty=l1; total time=   0.0s\n",
            "[CV] END ....................C=0.1, max_iter=1.0, penalty=l1; total time=   0.0s\n",
            "[CV] END ....................C=0.1, max_iter=1.0, penalty=l1; total time=   0.0s\n",
            "[CV] END ....................C=0.1, max_iter=1.0, penalty=l2; total time=   0.0s\n",
            "[CV] END ....................C=0.1, max_iter=1.0, penalty=l2; total time=   0.0s\n"
          ]
        },
        {
          "name": "stderr",
          "output_type": "stream",
          "text": [
            "/usr/local/lib/python3.7/dist-packages/sklearn/linear_model/_logistic.py:818: ConvergenceWarning: lbfgs failed to converge (status=1):\n",
            "STOP: TOTAL NO. of ITERATIONS REACHED LIMIT.\n",
            "\n",
            "Increase the number of iterations (max_iter) or scale the data as shown in:\n",
            "    https://scikit-learn.org/stable/modules/preprocessing.html\n",
            "Please also refer to the documentation for alternative solver options:\n",
            "    https://scikit-learn.org/stable/modules/linear_model.html#logistic-regression\n",
            "  extra_warning_msg=_LOGISTIC_SOLVER_CONVERGENCE_MSG,\n",
            "/usr/local/lib/python3.7/dist-packages/sklearn/linear_model/_logistic.py:818: ConvergenceWarning: lbfgs failed to converge (status=1):\n",
            "STOP: TOTAL NO. of ITERATIONS REACHED LIMIT.\n",
            "\n",
            "Increase the number of iterations (max_iter) or scale the data as shown in:\n",
            "    https://scikit-learn.org/stable/modules/preprocessing.html\n",
            "Please also refer to the documentation for alternative solver options:\n",
            "    https://scikit-learn.org/stable/modules/linear_model.html#logistic-regression\n",
            "  extra_warning_msg=_LOGISTIC_SOLVER_CONVERGENCE_MSG,\n",
            "/usr/local/lib/python3.7/dist-packages/sklearn/linear_model/_logistic.py:818: ConvergenceWarning: lbfgs failed to converge (status=1):\n",
            "STOP: TOTAL NO. of ITERATIONS REACHED LIMIT.\n",
            "\n",
            "Increase the number of iterations (max_iter) or scale the data as shown in:\n",
            "    https://scikit-learn.org/stable/modules/preprocessing.html\n",
            "Please also refer to the documentation for alternative solver options:\n",
            "    https://scikit-learn.org/stable/modules/linear_model.html#logistic-regression\n",
            "  extra_warning_msg=_LOGISTIC_SOLVER_CONVERGENCE_MSG,\n",
            "/usr/local/lib/python3.7/dist-packages/sklearn/linear_model/_logistic.py:818: ConvergenceWarning: lbfgs failed to converge (status=1):\n",
            "STOP: TOTAL NO. of ITERATIONS REACHED LIMIT.\n",
            "\n",
            "Increase the number of iterations (max_iter) or scale the data as shown in:\n",
            "    https://scikit-learn.org/stable/modules/preprocessing.html\n",
            "Please also refer to the documentation for alternative solver options:\n",
            "    https://scikit-learn.org/stable/modules/linear_model.html#logistic-regression\n",
            "  extra_warning_msg=_LOGISTIC_SOLVER_CONVERGENCE_MSG,\n",
            "/usr/local/lib/python3.7/dist-packages/sklearn/linear_model/_logistic.py:818: ConvergenceWarning: lbfgs failed to converge (status=1):\n",
            "STOP: TOTAL NO. of ITERATIONS REACHED LIMIT.\n",
            "\n",
            "Increase the number of iterations (max_iter) or scale the data as shown in:\n",
            "    https://scikit-learn.org/stable/modules/preprocessing.html\n",
            "Please also refer to the documentation for alternative solver options:\n",
            "    https://scikit-learn.org/stable/modules/linear_model.html#logistic-regression\n",
            "  extra_warning_msg=_LOGISTIC_SOLVER_CONVERGENCE_MSG,\n"
          ]
        },
        {
          "name": "stdout",
          "output_type": "stream",
          "text": [
            "[CV] END ....................C=0.1, max_iter=1.0, penalty=l2; total time=   0.0s\n",
            "[CV] END ....................C=0.1, max_iter=1.0, penalty=l2; total time=   0.0s\n",
            "[CV] END ....................C=0.1, max_iter=1.0, penalty=l2; total time=   0.0s\n",
            "[CV] END ............C=0.1, max_iter=1.0, penalty=elasticnet; total time=   0.0s\n",
            "[CV] END ............C=0.1, max_iter=1.0, penalty=elasticnet; total time=   0.0s\n",
            "[CV] END ............C=0.1, max_iter=1.0, penalty=elasticnet; total time=   0.0s\n",
            "[CV] END ............C=0.1, max_iter=1.0, penalty=elasticnet; total time=   0.0s\n",
            "[CV] END ............C=0.1, max_iter=1.0, penalty=elasticnet; total time=   0.0s\n",
            "[CV] END ...................C=0.1, max_iter=12.0, penalty=l1; total time=   0.0s\n",
            "[CV] END ...................C=0.1, max_iter=12.0, penalty=l1; total time=   0.0s\n",
            "[CV] END ...................C=0.1, max_iter=12.0, penalty=l1; total time=   0.0s\n",
            "[CV] END ...................C=0.1, max_iter=12.0, penalty=l1; total time=   0.0s\n",
            "[CV] END ...................C=0.1, max_iter=12.0, penalty=l1; total time=   0.0s\n",
            "[CV] END ...................C=0.1, max_iter=12.0, penalty=l2; total time=   0.1s\n",
            "[CV] END ...................C=0.1, max_iter=12.0, penalty=l2; total time=   0.1s\n",
            "[CV] END ...................C=0.1, max_iter=12.0, penalty=l2; total time=   0.0s\n",
            "[CV] END ...................C=0.1, max_iter=12.0, penalty=l2; total time=   0.0s\n",
            "[CV] END ...................C=0.1, max_iter=12.0, penalty=l2; total time=   0.0s\n",
            "[CV] END ...........C=0.1, max_iter=12.0, penalty=elasticnet; total time=   0.0s\n",
            "[CV] END ...........C=0.1, max_iter=12.0, penalty=elasticnet; total time=   0.0s\n",
            "[CV] END ...........C=0.1, max_iter=12.0, penalty=elasticnet; total time=   0.0s\n",
            "[CV] END ...........C=0.1, max_iter=12.0, penalty=elasticnet; total time=   0.0s\n",
            "[CV] END ...........C=0.1, max_iter=12.0, penalty=elasticnet; total time=   0.0s\n",
            "[CV] END ...................C=0.1, max_iter=23.0, penalty=l1; total time=   0.0s\n",
            "[CV] END ...................C=0.1, max_iter=23.0, penalty=l1; total time=   0.0s\n",
            "[CV] END ...................C=0.1, max_iter=23.0, penalty=l1; total time=   0.0s\n",
            "[CV] END ...................C=0.1, max_iter=23.0, penalty=l1; total time=   0.0s\n",
            "[CV] END ...................C=0.1, max_iter=23.0, penalty=l1; total time=   0.0s\n",
            "[CV] END ...................C=0.1, max_iter=23.0, penalty=l2; total time=   0.0s\n",
            "[CV] END ...................C=0.1, max_iter=23.0, penalty=l2; total time=   0.0s\n",
            "[CV] END ...................C=0.1, max_iter=23.0, penalty=l2; total time=   0.1s\n",
            "[CV] END ...................C=0.1, max_iter=23.0, penalty=l2; total time=   0.1s\n",
            "[CV] END ...................C=0.1, max_iter=23.0, penalty=l2; total time=   0.0s\n",
            "[CV] END ...........C=0.1, max_iter=23.0, penalty=elasticnet; total time=   0.0s\n",
            "[CV] END ...........C=0.1, max_iter=23.0, penalty=elasticnet; total time=   0.0s\n",
            "[CV] END ...........C=0.1, max_iter=23.0, penalty=elasticnet; total time=   0.0s\n",
            "[CV] END ...........C=0.1, max_iter=23.0, penalty=elasticnet; total time=   0.0s\n",
            "[CV] END ...........C=0.1, max_iter=23.0, penalty=elasticnet; total time=   0.0s\n",
            "[CV] END ...................C=0.1, max_iter=34.0, penalty=l1; total time=   0.0s\n",
            "[CV] END ...................C=0.1, max_iter=34.0, penalty=l1; total time=   0.0s\n",
            "[CV] END ...................C=0.1, max_iter=34.0, penalty=l1; total time=   0.0s\n",
            "[CV] END ...................C=0.1, max_iter=34.0, penalty=l1; total time=   0.0s\n",
            "[CV] END ...................C=0.1, max_iter=34.0, penalty=l1; total time=   0.0s\n",
            "[CV] END ...................C=0.1, max_iter=34.0, penalty=l2; total time=   0.0s\n",
            "[CV] END ...................C=0.1, max_iter=34.0, penalty=l2; total time=   0.1s\n",
            "[CV] END ...................C=0.1, max_iter=34.0, penalty=l2; total time=   0.1s\n",
            "[CV] END ...................C=0.1, max_iter=34.0, penalty=l2; total time=   0.0s\n",
            "[CV] END ...................C=0.1, max_iter=34.0, penalty=l2; total time=   0.0s\n",
            "[CV] END ...........C=0.1, max_iter=34.0, penalty=elasticnet; total time=   0.0s\n",
            "[CV] END ...........C=0.1, max_iter=34.0, penalty=elasticnet; total time=   0.0s\n",
            "[CV] END ...........C=0.1, max_iter=34.0, penalty=elasticnet; total time=   0.0s\n",
            "[CV] END ...........C=0.1, max_iter=34.0, penalty=elasticnet; total time=   0.0s\n",
            "[CV] END ...........C=0.1, max_iter=34.0, penalty=elasticnet; total time=   0.0s\n",
            "[CV] END ...................C=0.1, max_iter=45.0, penalty=l1; total time=   0.0s\n",
            "[CV] END ...................C=0.1, max_iter=45.0, penalty=l1; total time=   0.0s\n",
            "[CV] END ...................C=0.1, max_iter=45.0, penalty=l1; total time=   0.0s\n",
            "[CV] END ...................C=0.1, max_iter=45.0, penalty=l1; total time=   0.0s\n",
            "[CV] END ...................C=0.1, max_iter=45.0, penalty=l1; total time=   0.0s\n",
            "[CV] END ...................C=0.1, max_iter=45.0, penalty=l2; total time=   0.0s\n",
            "[CV] END ...................C=0.1, max_iter=45.0, penalty=l2; total time=   0.1s\n",
            "[CV] END ...................C=0.1, max_iter=45.0, penalty=l2; total time=   0.0s\n",
            "[CV] END ...................C=0.1, max_iter=45.0, penalty=l2; total time=   0.1s\n",
            "[CV] END ...................C=0.1, max_iter=45.0, penalty=l2; total time=   0.0s\n",
            "[CV] END ...........C=0.1, max_iter=45.0, penalty=elasticnet; total time=   0.0s\n",
            "[CV] END ...........C=0.1, max_iter=45.0, penalty=elasticnet; total time=   0.0s\n",
            "[CV] END ...........C=0.1, max_iter=45.0, penalty=elasticnet; total time=   0.0s\n",
            "[CV] END ...........C=0.1, max_iter=45.0, penalty=elasticnet; total time=   0.0s\n",
            "[CV] END ...........C=0.1, max_iter=45.0, penalty=elasticnet; total time=   0.0s\n",
            "[CV] END ...................C=0.1, max_iter=56.0, penalty=l1; total time=   0.0s\n",
            "[CV] END ...................C=0.1, max_iter=56.0, penalty=l1; total time=   0.0s\n",
            "[CV] END ...................C=0.1, max_iter=56.0, penalty=l1; total time=   0.0s\n",
            "[CV] END ...................C=0.1, max_iter=56.0, penalty=l1; total time=   0.0s\n",
            "[CV] END ...................C=0.1, max_iter=56.0, penalty=l1; total time=   0.0s\n",
            "[CV] END ...................C=0.1, max_iter=56.0, penalty=l2; total time=   0.1s\n",
            "[CV] END ...................C=0.1, max_iter=56.0, penalty=l2; total time=   0.0s\n",
            "[CV] END ...................C=0.1, max_iter=56.0, penalty=l2; total time=   0.0s\n",
            "[CV] END ...................C=0.1, max_iter=56.0, penalty=l2; total time=   0.0s\n",
            "[CV] END ...................C=0.1, max_iter=56.0, penalty=l2; total time=   0.0s\n",
            "[CV] END ...........C=0.1, max_iter=56.0, penalty=elasticnet; total time=   0.0s\n",
            "[CV] END ...........C=0.1, max_iter=56.0, penalty=elasticnet; total time=   0.0s\n",
            "[CV] END ...........C=0.1, max_iter=56.0, penalty=elasticnet; total time=   0.0s\n",
            "[CV] END ...........C=0.1, max_iter=56.0, penalty=elasticnet; total time=   0.0s\n",
            "[CV] END ...........C=0.1, max_iter=56.0, penalty=elasticnet; total time=   0.0s\n",
            "[CV] END ...................C=0.1, max_iter=67.0, penalty=l1; total time=   0.0s\n",
            "[CV] END ...................C=0.1, max_iter=67.0, penalty=l1; total time=   0.0s\n",
            "[CV] END ...................C=0.1, max_iter=67.0, penalty=l1; total time=   0.0s\n",
            "[CV] END ...................C=0.1, max_iter=67.0, penalty=l1; total time=   0.0s\n",
            "[CV] END ...................C=0.1, max_iter=67.0, penalty=l1; total time=   0.0s\n",
            "[CV] END ...................C=0.1, max_iter=67.0, penalty=l2; total time=   0.0s\n",
            "[CV] END ...................C=0.1, max_iter=67.0, penalty=l2; total time=   0.0s\n",
            "[CV] END ...................C=0.1, max_iter=67.0, penalty=l2; total time=   0.0s\n",
            "[CV] END ...................C=0.1, max_iter=67.0, penalty=l2; total time=   0.0s\n",
            "[CV] END ...................C=0.1, max_iter=67.0, penalty=l2; total time=   0.0s\n",
            "[CV] END ...........C=0.1, max_iter=67.0, penalty=elasticnet; total time=   0.0s\n",
            "[CV] END ...........C=0.1, max_iter=67.0, penalty=elasticnet; total time=   0.0s\n",
            "[CV] END ...........C=0.1, max_iter=67.0, penalty=elasticnet; total time=   0.0s\n",
            "[CV] END ...........C=0.1, max_iter=67.0, penalty=elasticnet; total time=   0.0s\n",
            "[CV] END ...........C=0.1, max_iter=67.0, penalty=elasticnet; total time=   0.0s\n",
            "[CV] END ...................C=0.1, max_iter=78.0, penalty=l1; total time=   0.0s\n",
            "[CV] END ...................C=0.1, max_iter=78.0, penalty=l1; total time=   0.0s\n",
            "[CV] END ...................C=0.1, max_iter=78.0, penalty=l1; total time=   0.0s\n",
            "[CV] END ...................C=0.1, max_iter=78.0, penalty=l1; total time=   0.0s\n",
            "[CV] END ...................C=0.1, max_iter=78.0, penalty=l1; total time=   0.0s\n",
            "[CV] END ...................C=0.1, max_iter=78.0, penalty=l2; total time=   0.0s\n",
            "[CV] END ...................C=0.1, max_iter=78.0, penalty=l2; total time=   0.0s\n",
            "[CV] END ...................C=0.1, max_iter=78.0, penalty=l2; total time=   0.0s\n",
            "[CV] END ...................C=0.1, max_iter=78.0, penalty=l2; total time=   0.0s\n",
            "[CV] END ...................C=0.1, max_iter=78.0, penalty=l2; total time=   0.0s\n",
            "[CV] END ...........C=0.1, max_iter=78.0, penalty=elasticnet; total time=   0.0s\n",
            "[CV] END ...........C=0.1, max_iter=78.0, penalty=elasticnet; total time=   0.0s\n",
            "[CV] END ...........C=0.1, max_iter=78.0, penalty=elasticnet; total time=   0.0s\n",
            "[CV] END ...........C=0.1, max_iter=78.0, penalty=elasticnet; total time=   0.0s\n",
            "[CV] END ...........C=0.1, max_iter=78.0, penalty=elasticnet; total time=   0.0s\n",
            "[CV] END ...................C=0.1, max_iter=89.0, penalty=l1; total time=   0.0s\n",
            "[CV] END ...................C=0.1, max_iter=89.0, penalty=l1; total time=   0.0s\n",
            "[CV] END ...................C=0.1, max_iter=89.0, penalty=l1; total time=   0.0s\n",
            "[CV] END ...................C=0.1, max_iter=89.0, penalty=l1; total time=   0.0s\n",
            "[CV] END ...................C=0.1, max_iter=89.0, penalty=l1; total time=   0.0s\n",
            "[CV] END ...................C=0.1, max_iter=89.0, penalty=l2; total time=   0.0s\n",
            "[CV] END ...................C=0.1, max_iter=89.0, penalty=l2; total time=   0.0s\n",
            "[CV] END ...................C=0.1, max_iter=89.0, penalty=l2; total time=   0.0s\n",
            "[CV] END ...................C=0.1, max_iter=89.0, penalty=l2; total time=   0.0s\n",
            "[CV] END ...................C=0.1, max_iter=89.0, penalty=l2; total time=   0.0s\n",
            "[CV] END ...........C=0.1, max_iter=89.0, penalty=elasticnet; total time=   0.0s\n",
            "[CV] END ...........C=0.1, max_iter=89.0, penalty=elasticnet; total time=   0.0s\n",
            "[CV] END ...........C=0.1, max_iter=89.0, penalty=elasticnet; total time=   0.0s\n",
            "[CV] END ...........C=0.1, max_iter=89.0, penalty=elasticnet; total time=   0.0s\n",
            "[CV] END ...........C=0.1, max_iter=89.0, penalty=elasticnet; total time=   0.0s\n",
            "[CV] END ..................C=0.1, max_iter=100.0, penalty=l1; total time=   0.0s\n",
            "[CV] END ..................C=0.1, max_iter=100.0, penalty=l1; total time=   0.0s\n",
            "[CV] END ..................C=0.1, max_iter=100.0, penalty=l1; total time=   0.0s\n",
            "[CV] END ..................C=0.1, max_iter=100.0, penalty=l1; total time=   0.0s\n",
            "[CV] END ..................C=0.1, max_iter=100.0, penalty=l1; total time=   0.0s\n",
            "[CV] END ..................C=0.1, max_iter=100.0, penalty=l2; total time=   0.0s\n",
            "[CV] END ..................C=0.1, max_iter=100.0, penalty=l2; total time=   0.0s\n",
            "[CV] END ..................C=0.1, max_iter=100.0, penalty=l2; total time=   0.0s\n",
            "[CV] END ..................C=0.1, max_iter=100.0, penalty=l2; total time=   0.0s\n",
            "[CV] END ..................C=0.1, max_iter=100.0, penalty=l2; total time=   0.0s\n",
            "[CV] END ..........C=0.1, max_iter=100.0, penalty=elasticnet; total time=   0.0s\n",
            "[CV] END ..........C=0.1, max_iter=100.0, penalty=elasticnet; total time=   0.0s\n",
            "[CV] END ..........C=0.1, max_iter=100.0, penalty=elasticnet; total time=   0.0s\n",
            "[CV] END ..........C=0.1, max_iter=100.0, penalty=elasticnet; total time=   0.0s\n",
            "[CV] END ..........C=0.1, max_iter=100.0, penalty=elasticnet; total time=   0.0s\n",
            "[CV] END ......................C=1, max_iter=1.0, penalty=l1; total time=   0.0s\n",
            "[CV] END ......................C=1, max_iter=1.0, penalty=l1; total time=   0.0s\n",
            "[CV] END ......................C=1, max_iter=1.0, penalty=l1; total time=   0.0s\n",
            "[CV] END ......................C=1, max_iter=1.0, penalty=l1; total time=   0.0s\n",
            "[CV] END ......................C=1, max_iter=1.0, penalty=l1; total time=   0.0s\n",
            "[CV] END ......................C=1, max_iter=1.0, penalty=l2; total time=   0.0s\n",
            "[CV] END ......................C=1, max_iter=1.0, penalty=l2; total time=   0.0s\n",
            "[CV] END ......................C=1, max_iter=1.0, penalty=l2; total time=   0.0s\n",
            "[CV] END ......................C=1, max_iter=1.0, penalty=l2; total time=   0.0s\n",
            "[CV] END ......................C=1, max_iter=1.0, penalty=l2; total time=   0.0s\n",
            "[CV] END ..............C=1, max_iter=1.0, penalty=elasticnet; total time=   0.0s\n",
            "[CV] END ..............C=1, max_iter=1.0, penalty=elasticnet; total time=   0.0s\n",
            "[CV] END ..............C=1, max_iter=1.0, penalty=elasticnet; total time=   0.0s\n",
            "[CV] END ..............C=1, max_iter=1.0, penalty=elasticnet; total time=   0.0s\n",
            "[CV] END ..............C=1, max_iter=1.0, penalty=elasticnet; total time=   0.0s\n",
            "[CV] END .....................C=1, max_iter=12.0, penalty=l1; total time=   0.0s\n",
            "[CV] END .....................C=1, max_iter=12.0, penalty=l1; total time=   0.0s\n",
            "[CV] END .....................C=1, max_iter=12.0, penalty=l1; total time=   0.0s\n",
            "[CV] END .....................C=1, max_iter=12.0, penalty=l1; total time=   0.0s\n",
            "[CV] END .....................C=1, max_iter=12.0, penalty=l1; total time=   0.0s\n"
          ]
        },
        {
          "name": "stderr",
          "output_type": "stream",
          "text": [
            "/usr/local/lib/python3.7/dist-packages/sklearn/linear_model/_logistic.py:818: ConvergenceWarning: lbfgs failed to converge (status=1):\n",
            "STOP: TOTAL NO. of ITERATIONS REACHED LIMIT.\n",
            "\n",
            "Increase the number of iterations (max_iter) or scale the data as shown in:\n",
            "    https://scikit-learn.org/stable/modules/preprocessing.html\n",
            "Please also refer to the documentation for alternative solver options:\n",
            "    https://scikit-learn.org/stable/modules/linear_model.html#logistic-regression\n",
            "  extra_warning_msg=_LOGISTIC_SOLVER_CONVERGENCE_MSG,\n",
            "/usr/local/lib/python3.7/dist-packages/sklearn/linear_model/_logistic.py:818: ConvergenceWarning: lbfgs failed to converge (status=1):\n",
            "STOP: TOTAL NO. of ITERATIONS REACHED LIMIT.\n",
            "\n",
            "Increase the number of iterations (max_iter) or scale the data as shown in:\n",
            "    https://scikit-learn.org/stable/modules/preprocessing.html\n",
            "Please also refer to the documentation for alternative solver options:\n",
            "    https://scikit-learn.org/stable/modules/linear_model.html#logistic-regression\n",
            "  extra_warning_msg=_LOGISTIC_SOLVER_CONVERGENCE_MSG,\n",
            "/usr/local/lib/python3.7/dist-packages/sklearn/linear_model/_logistic.py:818: ConvergenceWarning: lbfgs failed to converge (status=1):\n",
            "STOP: TOTAL NO. of ITERATIONS REACHED LIMIT.\n",
            "\n",
            "Increase the number of iterations (max_iter) or scale the data as shown in:\n",
            "    https://scikit-learn.org/stable/modules/preprocessing.html\n",
            "Please also refer to the documentation for alternative solver options:\n",
            "    https://scikit-learn.org/stable/modules/linear_model.html#logistic-regression\n",
            "  extra_warning_msg=_LOGISTIC_SOLVER_CONVERGENCE_MSG,\n",
            "/usr/local/lib/python3.7/dist-packages/sklearn/linear_model/_logistic.py:818: ConvergenceWarning: lbfgs failed to converge (status=1):\n",
            "STOP: TOTAL NO. of ITERATIONS REACHED LIMIT.\n",
            "\n",
            "Increase the number of iterations (max_iter) or scale the data as shown in:\n",
            "    https://scikit-learn.org/stable/modules/preprocessing.html\n",
            "Please also refer to the documentation for alternative solver options:\n",
            "    https://scikit-learn.org/stable/modules/linear_model.html#logistic-regression\n",
            "  extra_warning_msg=_LOGISTIC_SOLVER_CONVERGENCE_MSG,\n",
            "/usr/local/lib/python3.7/dist-packages/sklearn/linear_model/_logistic.py:818: ConvergenceWarning: lbfgs failed to converge (status=1):\n",
            "STOP: TOTAL NO. of ITERATIONS REACHED LIMIT.\n",
            "\n",
            "Increase the number of iterations (max_iter) or scale the data as shown in:\n",
            "    https://scikit-learn.org/stable/modules/preprocessing.html\n",
            "Please also refer to the documentation for alternative solver options:\n",
            "    https://scikit-learn.org/stable/modules/linear_model.html#logistic-regression\n",
            "  extra_warning_msg=_LOGISTIC_SOLVER_CONVERGENCE_MSG,\n"
          ]
        },
        {
          "name": "stdout",
          "output_type": "stream",
          "text": [
            "[CV] END .....................C=1, max_iter=12.0, penalty=l2; total time=   0.0s\n",
            "[CV] END .....................C=1, max_iter=12.0, penalty=l2; total time=   0.0s\n",
            "[CV] END .....................C=1, max_iter=12.0, penalty=l2; total time=   0.0s\n",
            "[CV] END .....................C=1, max_iter=12.0, penalty=l2; total time=   0.0s\n",
            "[CV] END .....................C=1, max_iter=12.0, penalty=l2; total time=   0.0s\n",
            "[CV] END .............C=1, max_iter=12.0, penalty=elasticnet; total time=   0.0s\n",
            "[CV] END .............C=1, max_iter=12.0, penalty=elasticnet; total time=   0.0s\n",
            "[CV] END .............C=1, max_iter=12.0, penalty=elasticnet; total time=   0.0s\n",
            "[CV] END .............C=1, max_iter=12.0, penalty=elasticnet; total time=   0.0s\n",
            "[CV] END .............C=1, max_iter=12.0, penalty=elasticnet; total time=   0.0s\n",
            "[CV] END .....................C=1, max_iter=23.0, penalty=l1; total time=   0.0s\n",
            "[CV] END .....................C=1, max_iter=23.0, penalty=l1; total time=   0.0s\n",
            "[CV] END .....................C=1, max_iter=23.0, penalty=l1; total time=   0.0s\n",
            "[CV] END .....................C=1, max_iter=23.0, penalty=l1; total time=   0.0s\n",
            "[CV] END .....................C=1, max_iter=23.0, penalty=l1; total time=   0.0s\n",
            "[CV] END .....................C=1, max_iter=23.0, penalty=l2; total time=   0.0s\n",
            "[CV] END .....................C=1, max_iter=23.0, penalty=l2; total time=   0.0s\n",
            "[CV] END .....................C=1, max_iter=23.0, penalty=l2; total time=   0.0s\n",
            "[CV] END .....................C=1, max_iter=23.0, penalty=l2; total time=   0.0s\n",
            "[CV] END .....................C=1, max_iter=23.0, penalty=l2; total time=   0.0s\n",
            "[CV] END .............C=1, max_iter=23.0, penalty=elasticnet; total time=   0.0s\n",
            "[CV] END .............C=1, max_iter=23.0, penalty=elasticnet; total time=   0.0s\n",
            "[CV] END .............C=1, max_iter=23.0, penalty=elasticnet; total time=   0.0s\n",
            "[CV] END .............C=1, max_iter=23.0, penalty=elasticnet; total time=   0.0s\n",
            "[CV] END .............C=1, max_iter=23.0, penalty=elasticnet; total time=   0.0s\n",
            "[CV] END .....................C=1, max_iter=34.0, penalty=l1; total time=   0.0s\n",
            "[CV] END .....................C=1, max_iter=34.0, penalty=l1; total time=   0.0s\n",
            "[CV] END .....................C=1, max_iter=34.0, penalty=l1; total time=   0.0s\n",
            "[CV] END .....................C=1, max_iter=34.0, penalty=l1; total time=   0.0s\n",
            "[CV] END .....................C=1, max_iter=34.0, penalty=l1; total time=   0.0s\n",
            "[CV] END .....................C=1, max_iter=34.0, penalty=l2; total time=   0.0s\n",
            "[CV] END .....................C=1, max_iter=34.0, penalty=l2; total time=   0.0s\n",
            "[CV] END .....................C=1, max_iter=34.0, penalty=l2; total time=   0.0s\n",
            "[CV] END .....................C=1, max_iter=34.0, penalty=l2; total time=   0.0s\n",
            "[CV] END .....................C=1, max_iter=34.0, penalty=l2; total time=   0.0s\n",
            "[CV] END .............C=1, max_iter=34.0, penalty=elasticnet; total time=   0.0s\n",
            "[CV] END .............C=1, max_iter=34.0, penalty=elasticnet; total time=   0.0s\n",
            "[CV] END .............C=1, max_iter=34.0, penalty=elasticnet; total time=   0.0s\n",
            "[CV] END .............C=1, max_iter=34.0, penalty=elasticnet; total time=   0.0s\n",
            "[CV] END .............C=1, max_iter=34.0, penalty=elasticnet; total time=   0.0s\n",
            "[CV] END .....................C=1, max_iter=45.0, penalty=l1; total time=   0.0s\n",
            "[CV] END .....................C=1, max_iter=45.0, penalty=l1; total time=   0.0s\n",
            "[CV] END .....................C=1, max_iter=45.0, penalty=l1; total time=   0.0s\n",
            "[CV] END .....................C=1, max_iter=45.0, penalty=l1; total time=   0.0s\n",
            "[CV] END .....................C=1, max_iter=45.0, penalty=l1; total time=   0.0s\n",
            "[CV] END .....................C=1, max_iter=45.0, penalty=l2; total time=   0.0s\n",
            "[CV] END .....................C=1, max_iter=45.0, penalty=l2; total time=   0.0s\n",
            "[CV] END .....................C=1, max_iter=45.0, penalty=l2; total time=   0.0s\n",
            "[CV] END .....................C=1, max_iter=45.0, penalty=l2; total time=   0.0s\n",
            "[CV] END .....................C=1, max_iter=45.0, penalty=l2; total time=   0.0s\n",
            "[CV] END .............C=1, max_iter=45.0, penalty=elasticnet; total time=   0.0s\n",
            "[CV] END .............C=1, max_iter=45.0, penalty=elasticnet; total time=   0.0s\n",
            "[CV] END .............C=1, max_iter=45.0, penalty=elasticnet; total time=   0.0s\n",
            "[CV] END .............C=1, max_iter=45.0, penalty=elasticnet; total time=   0.0s\n",
            "[CV] END .............C=1, max_iter=45.0, penalty=elasticnet; total time=   0.0s\n",
            "[CV] END .....................C=1, max_iter=56.0, penalty=l1; total time=   0.0s\n",
            "[CV] END .....................C=1, max_iter=56.0, penalty=l1; total time=   0.0s\n",
            "[CV] END .....................C=1, max_iter=56.0, penalty=l1; total time=   0.0s\n",
            "[CV] END .....................C=1, max_iter=56.0, penalty=l1; total time=   0.0s\n",
            "[CV] END .....................C=1, max_iter=56.0, penalty=l1; total time=   0.0s\n",
            "[CV] END .....................C=1, max_iter=56.0, penalty=l2; total time=   0.0s\n",
            "[CV] END .....................C=1, max_iter=56.0, penalty=l2; total time=   0.0s\n",
            "[CV] END .....................C=1, max_iter=56.0, penalty=l2; total time=   0.0s\n",
            "[CV] END .....................C=1, max_iter=56.0, penalty=l2; total time=   0.0s\n",
            "[CV] END .....................C=1, max_iter=56.0, penalty=l2; total time=   0.0s\n",
            "[CV] END .............C=1, max_iter=56.0, penalty=elasticnet; total time=   0.0s\n",
            "[CV] END .............C=1, max_iter=56.0, penalty=elasticnet; total time=   0.0s\n",
            "[CV] END .............C=1, max_iter=56.0, penalty=elasticnet; total time=   0.0s\n",
            "[CV] END .............C=1, max_iter=56.0, penalty=elasticnet; total time=   0.0s\n",
            "[CV] END .............C=1, max_iter=56.0, penalty=elasticnet; total time=   0.0s\n",
            "[CV] END .....................C=1, max_iter=67.0, penalty=l1; total time=   0.0s\n",
            "[CV] END .....................C=1, max_iter=67.0, penalty=l1; total time=   0.0s\n",
            "[CV] END .....................C=1, max_iter=67.0, penalty=l1; total time=   0.0s\n",
            "[CV] END .....................C=1, max_iter=67.0, penalty=l1; total time=   0.0s\n",
            "[CV] END .....................C=1, max_iter=67.0, penalty=l1; total time=   0.0s\n",
            "[CV] END .....................C=1, max_iter=67.0, penalty=l2; total time=   0.0s\n",
            "[CV] END .....................C=1, max_iter=67.0, penalty=l2; total time=   0.0s\n",
            "[CV] END .....................C=1, max_iter=67.0, penalty=l2; total time=   0.0s\n",
            "[CV] END .....................C=1, max_iter=67.0, penalty=l2; total time=   0.0s\n",
            "[CV] END .....................C=1, max_iter=67.0, penalty=l2; total time=   0.0s\n",
            "[CV] END .............C=1, max_iter=67.0, penalty=elasticnet; total time=   0.0s\n",
            "[CV] END .............C=1, max_iter=67.0, penalty=elasticnet; total time=   0.0s\n",
            "[CV] END .............C=1, max_iter=67.0, penalty=elasticnet; total time=   0.0s\n",
            "[CV] END .............C=1, max_iter=67.0, penalty=elasticnet; total time=   0.0s\n",
            "[CV] END .............C=1, max_iter=67.0, penalty=elasticnet; total time=   0.0s\n",
            "[CV] END .....................C=1, max_iter=78.0, penalty=l1; total time=   0.0s\n",
            "[CV] END .....................C=1, max_iter=78.0, penalty=l1; total time=   0.0s\n",
            "[CV] END .....................C=1, max_iter=78.0, penalty=l1; total time=   0.0s\n",
            "[CV] END .....................C=1, max_iter=78.0, penalty=l1; total time=   0.0s\n",
            "[CV] END .....................C=1, max_iter=78.0, penalty=l1; total time=   0.0s\n",
            "[CV] END .....................C=1, max_iter=78.0, penalty=l2; total time=   0.0s\n",
            "[CV] END .....................C=1, max_iter=78.0, penalty=l2; total time=   0.0s\n",
            "[CV] END .....................C=1, max_iter=78.0, penalty=l2; total time=   0.0s\n",
            "[CV] END .....................C=1, max_iter=78.0, penalty=l2; total time=   0.0s\n",
            "[CV] END .....................C=1, max_iter=78.0, penalty=l2; total time=   0.0s\n",
            "[CV] END .............C=1, max_iter=78.0, penalty=elasticnet; total time=   0.0s\n",
            "[CV] END .............C=1, max_iter=78.0, penalty=elasticnet; total time=   0.0s\n",
            "[CV] END .............C=1, max_iter=78.0, penalty=elasticnet; total time=   0.0s\n",
            "[CV] END .............C=1, max_iter=78.0, penalty=elasticnet; total time=   0.0s\n",
            "[CV] END .............C=1, max_iter=78.0, penalty=elasticnet; total time=   0.0s\n",
            "[CV] END .....................C=1, max_iter=89.0, penalty=l1; total time=   0.0s\n",
            "[CV] END .....................C=1, max_iter=89.0, penalty=l1; total time=   0.0s\n",
            "[CV] END .....................C=1, max_iter=89.0, penalty=l1; total time=   0.0s\n",
            "[CV] END .....................C=1, max_iter=89.0, penalty=l1; total time=   0.0s\n",
            "[CV] END .....................C=1, max_iter=89.0, penalty=l1; total time=   0.0s\n",
            "[CV] END .....................C=1, max_iter=89.0, penalty=l2; total time=   0.0s\n",
            "[CV] END .....................C=1, max_iter=89.0, penalty=l2; total time=   0.0s\n",
            "[CV] END .....................C=1, max_iter=89.0, penalty=l2; total time=   0.0s\n",
            "[CV] END .....................C=1, max_iter=89.0, penalty=l2; total time=   0.0s\n",
            "[CV] END .....................C=1, max_iter=89.0, penalty=l2; total time=   0.0s\n",
            "[CV] END .............C=1, max_iter=89.0, penalty=elasticnet; total time=   0.0s\n",
            "[CV] END .............C=1, max_iter=89.0, penalty=elasticnet; total time=   0.0s\n",
            "[CV] END .............C=1, max_iter=89.0, penalty=elasticnet; total time=   0.0s\n",
            "[CV] END .............C=1, max_iter=89.0, penalty=elasticnet; total time=   0.0s\n",
            "[CV] END .............C=1, max_iter=89.0, penalty=elasticnet; total time=   0.0s\n",
            "[CV] END ....................C=1, max_iter=100.0, penalty=l1; total time=   0.0s\n",
            "[CV] END ....................C=1, max_iter=100.0, penalty=l1; total time=   0.0s\n",
            "[CV] END ....................C=1, max_iter=100.0, penalty=l1; total time=   0.0s\n",
            "[CV] END ....................C=1, max_iter=100.0, penalty=l1; total time=   0.0s\n",
            "[CV] END ....................C=1, max_iter=100.0, penalty=l1; total time=   0.0s\n",
            "[CV] END ....................C=1, max_iter=100.0, penalty=l2; total time=   0.0s\n",
            "[CV] END ....................C=1, max_iter=100.0, penalty=l2; total time=   0.0s\n",
            "[CV] END ....................C=1, max_iter=100.0, penalty=l2; total time=   0.0s\n",
            "[CV] END ....................C=1, max_iter=100.0, penalty=l2; total time=   0.0s\n",
            "[CV] END ....................C=1, max_iter=100.0, penalty=l2; total time=   0.0s\n",
            "[CV] END ............C=1, max_iter=100.0, penalty=elasticnet; total time=   0.0s\n",
            "[CV] END ............C=1, max_iter=100.0, penalty=elasticnet; total time=   0.0s\n",
            "[CV] END ............C=1, max_iter=100.0, penalty=elasticnet; total time=   0.0s\n",
            "[CV] END ............C=1, max_iter=100.0, penalty=elasticnet; total time=   0.0s\n",
            "[CV] END ............C=1, max_iter=100.0, penalty=elasticnet; total time=   0.0s\n",
            "[CV] END ......................C=3, max_iter=1.0, penalty=l1; total time=   0.0s\n",
            "[CV] END ......................C=3, max_iter=1.0, penalty=l1; total time=   0.0s\n",
            "[CV] END ......................C=3, max_iter=1.0, penalty=l1; total time=   0.0s\n",
            "[CV] END ......................C=3, max_iter=1.0, penalty=l1; total time=   0.0s\n",
            "[CV] END ......................C=3, max_iter=1.0, penalty=l1; total time=   0.0s\n",
            "[CV] END ......................C=3, max_iter=1.0, penalty=l2; total time=   0.0s\n",
            "[CV] END ......................C=3, max_iter=1.0, penalty=l2; total time=   0.0s\n",
            "[CV] END ......................C=3, max_iter=1.0, penalty=l2; total time=   0.0s\n",
            "[CV] END ......................C=3, max_iter=1.0, penalty=l2; total time=   0.0s\n",
            "[CV] END ......................C=3, max_iter=1.0, penalty=l2; total time=   0.0s\n"
          ]
        },
        {
          "name": "stderr",
          "output_type": "stream",
          "text": [
            "/usr/local/lib/python3.7/dist-packages/sklearn/linear_model/_logistic.py:818: ConvergenceWarning: lbfgs failed to converge (status=1):\n",
            "STOP: TOTAL NO. of ITERATIONS REACHED LIMIT.\n",
            "\n",
            "Increase the number of iterations (max_iter) or scale the data as shown in:\n",
            "    https://scikit-learn.org/stable/modules/preprocessing.html\n",
            "Please also refer to the documentation for alternative solver options:\n",
            "    https://scikit-learn.org/stable/modules/linear_model.html#logistic-regression\n",
            "  extra_warning_msg=_LOGISTIC_SOLVER_CONVERGENCE_MSG,\n",
            "/usr/local/lib/python3.7/dist-packages/sklearn/linear_model/_logistic.py:818: ConvergenceWarning: lbfgs failed to converge (status=1):\n",
            "STOP: TOTAL NO. of ITERATIONS REACHED LIMIT.\n",
            "\n",
            "Increase the number of iterations (max_iter) or scale the data as shown in:\n",
            "    https://scikit-learn.org/stable/modules/preprocessing.html\n",
            "Please also refer to the documentation for alternative solver options:\n",
            "    https://scikit-learn.org/stable/modules/linear_model.html#logistic-regression\n",
            "  extra_warning_msg=_LOGISTIC_SOLVER_CONVERGENCE_MSG,\n",
            "/usr/local/lib/python3.7/dist-packages/sklearn/linear_model/_logistic.py:818: ConvergenceWarning: lbfgs failed to converge (status=1):\n",
            "STOP: TOTAL NO. of ITERATIONS REACHED LIMIT.\n",
            "\n",
            "Increase the number of iterations (max_iter) or scale the data as shown in:\n",
            "    https://scikit-learn.org/stable/modules/preprocessing.html\n",
            "Please also refer to the documentation for alternative solver options:\n",
            "    https://scikit-learn.org/stable/modules/linear_model.html#logistic-regression\n",
            "  extra_warning_msg=_LOGISTIC_SOLVER_CONVERGENCE_MSG,\n",
            "/usr/local/lib/python3.7/dist-packages/sklearn/linear_model/_logistic.py:818: ConvergenceWarning: lbfgs failed to converge (status=1):\n",
            "STOP: TOTAL NO. of ITERATIONS REACHED LIMIT.\n",
            "\n",
            "Increase the number of iterations (max_iter) or scale the data as shown in:\n",
            "    https://scikit-learn.org/stable/modules/preprocessing.html\n",
            "Please also refer to the documentation for alternative solver options:\n",
            "    https://scikit-learn.org/stable/modules/linear_model.html#logistic-regression\n",
            "  extra_warning_msg=_LOGISTIC_SOLVER_CONVERGENCE_MSG,\n",
            "/usr/local/lib/python3.7/dist-packages/sklearn/linear_model/_logistic.py:818: ConvergenceWarning: lbfgs failed to converge (status=1):\n",
            "STOP: TOTAL NO. of ITERATIONS REACHED LIMIT.\n",
            "\n",
            "Increase the number of iterations (max_iter) or scale the data as shown in:\n",
            "    https://scikit-learn.org/stable/modules/preprocessing.html\n",
            "Please also refer to the documentation for alternative solver options:\n",
            "    https://scikit-learn.org/stable/modules/linear_model.html#logistic-regression\n",
            "  extra_warning_msg=_LOGISTIC_SOLVER_CONVERGENCE_MSG,\n"
          ]
        },
        {
          "name": "stdout",
          "output_type": "stream",
          "text": [
            "[CV] END ..............C=3, max_iter=1.0, penalty=elasticnet; total time=   0.0s\n",
            "[CV] END ..............C=3, max_iter=1.0, penalty=elasticnet; total time=   0.0s\n",
            "[CV] END ..............C=3, max_iter=1.0, penalty=elasticnet; total time=   0.0s\n",
            "[CV] END ..............C=3, max_iter=1.0, penalty=elasticnet; total time=   0.0s\n",
            "[CV] END ..............C=3, max_iter=1.0, penalty=elasticnet; total time=   0.0s\n",
            "[CV] END .....................C=3, max_iter=12.0, penalty=l1; total time=   0.0s\n",
            "[CV] END .....................C=3, max_iter=12.0, penalty=l1; total time=   0.0s\n",
            "[CV] END .....................C=3, max_iter=12.0, penalty=l1; total time=   0.0s\n",
            "[CV] END .....................C=3, max_iter=12.0, penalty=l1; total time=   0.0s\n",
            "[CV] END .....................C=3, max_iter=12.0, penalty=l1; total time=   0.0s\n",
            "[CV] END .....................C=3, max_iter=12.0, penalty=l2; total time=   0.0s\n",
            "[CV] END .....................C=3, max_iter=12.0, penalty=l2; total time=   0.0s\n",
            "[CV] END .....................C=3, max_iter=12.0, penalty=l2; total time=   0.0s\n",
            "[CV] END .....................C=3, max_iter=12.0, penalty=l2; total time=   0.0s\n",
            "[CV] END .....................C=3, max_iter=12.0, penalty=l2; total time=   0.0s\n",
            "[CV] END .............C=3, max_iter=12.0, penalty=elasticnet; total time=   0.0s\n",
            "[CV] END .............C=3, max_iter=12.0, penalty=elasticnet; total time=   0.0s\n",
            "[CV] END .............C=3, max_iter=12.0, penalty=elasticnet; total time=   0.0s\n",
            "[CV] END .............C=3, max_iter=12.0, penalty=elasticnet; total time=   0.0s\n",
            "[CV] END .............C=3, max_iter=12.0, penalty=elasticnet; total time=   0.0s\n",
            "[CV] END .....................C=3, max_iter=23.0, penalty=l1; total time=   0.0s\n",
            "[CV] END .....................C=3, max_iter=23.0, penalty=l1; total time=   0.0s\n",
            "[CV] END .....................C=3, max_iter=23.0, penalty=l1; total time=   0.0s\n",
            "[CV] END .....................C=3, max_iter=23.0, penalty=l1; total time=   0.0s\n",
            "[CV] END .....................C=3, max_iter=23.0, penalty=l1; total time=   0.0s\n",
            "[CV] END .....................C=3, max_iter=23.0, penalty=l2; total time=   0.0s\n",
            "[CV] END .....................C=3, max_iter=23.0, penalty=l2; total time=   0.0s\n",
            "[CV] END .....................C=3, max_iter=23.0, penalty=l2; total time=   0.0s\n",
            "[CV] END .....................C=3, max_iter=23.0, penalty=l2; total time=   0.0s\n",
            "[CV] END .....................C=3, max_iter=23.0, penalty=l2; total time=   0.0s\n",
            "[CV] END .............C=3, max_iter=23.0, penalty=elasticnet; total time=   0.0s\n",
            "[CV] END .............C=3, max_iter=23.0, penalty=elasticnet; total time=   0.0s\n",
            "[CV] END .............C=3, max_iter=23.0, penalty=elasticnet; total time=   0.0s\n",
            "[CV] END .............C=3, max_iter=23.0, penalty=elasticnet; total time=   0.0s\n",
            "[CV] END .............C=3, max_iter=23.0, penalty=elasticnet; total time=   0.0s\n",
            "[CV] END .....................C=3, max_iter=34.0, penalty=l1; total time=   0.0s\n",
            "[CV] END .....................C=3, max_iter=34.0, penalty=l1; total time=   0.0s\n",
            "[CV] END .....................C=3, max_iter=34.0, penalty=l1; total time=   0.0s\n",
            "[CV] END .....................C=3, max_iter=34.0, penalty=l1; total time=   0.0s\n",
            "[CV] END .....................C=3, max_iter=34.0, penalty=l1; total time=   0.0s\n",
            "[CV] END .....................C=3, max_iter=34.0, penalty=l2; total time=   0.0s\n",
            "[CV] END .....................C=3, max_iter=34.0, penalty=l2; total time=   0.0s\n",
            "[CV] END .....................C=3, max_iter=34.0, penalty=l2; total time=   0.0s\n",
            "[CV] END .....................C=3, max_iter=34.0, penalty=l2; total time=   0.0s\n",
            "[CV] END .....................C=3, max_iter=34.0, penalty=l2; total time=   0.0s\n",
            "[CV] END .............C=3, max_iter=34.0, penalty=elasticnet; total time=   0.0s\n",
            "[CV] END .............C=3, max_iter=34.0, penalty=elasticnet; total time=   0.0s\n",
            "[CV] END .............C=3, max_iter=34.0, penalty=elasticnet; total time=   0.0s\n",
            "[CV] END .............C=3, max_iter=34.0, penalty=elasticnet; total time=   0.0s\n",
            "[CV] END .............C=3, max_iter=34.0, penalty=elasticnet; total time=   0.0s\n",
            "[CV] END .....................C=3, max_iter=45.0, penalty=l1; total time=   0.0s\n",
            "[CV] END .....................C=3, max_iter=45.0, penalty=l1; total time=   0.0s\n",
            "[CV] END .....................C=3, max_iter=45.0, penalty=l1; total time=   0.0s\n",
            "[CV] END .....................C=3, max_iter=45.0, penalty=l1; total time=   0.0s\n",
            "[CV] END .....................C=3, max_iter=45.0, penalty=l1; total time=   0.0s\n",
            "[CV] END .....................C=3, max_iter=45.0, penalty=l2; total time=   0.0s\n",
            "[CV] END .....................C=3, max_iter=45.0, penalty=l2; total time=   0.0s\n",
            "[CV] END .....................C=3, max_iter=45.0, penalty=l2; total time=   0.0s\n",
            "[CV] END .....................C=3, max_iter=45.0, penalty=l2; total time=   0.0s\n",
            "[CV] END .....................C=3, max_iter=45.0, penalty=l2; total time=   0.0s\n",
            "[CV] END .............C=3, max_iter=45.0, penalty=elasticnet; total time=   0.0s\n",
            "[CV] END .............C=3, max_iter=45.0, penalty=elasticnet; total time=   0.0s\n",
            "[CV] END .............C=3, max_iter=45.0, penalty=elasticnet; total time=   0.0s\n",
            "[CV] END .............C=3, max_iter=45.0, penalty=elasticnet; total time=   0.0s\n",
            "[CV] END .............C=3, max_iter=45.0, penalty=elasticnet; total time=   0.0s\n",
            "[CV] END .....................C=3, max_iter=56.0, penalty=l1; total time=   0.0s\n",
            "[CV] END .....................C=3, max_iter=56.0, penalty=l1; total time=   0.0s\n",
            "[CV] END .....................C=3, max_iter=56.0, penalty=l1; total time=   0.0s\n",
            "[CV] END .....................C=3, max_iter=56.0, penalty=l1; total time=   0.0s\n",
            "[CV] END .....................C=3, max_iter=56.0, penalty=l1; total time=   0.0s\n",
            "[CV] END .....................C=3, max_iter=56.0, penalty=l2; total time=   0.0s\n",
            "[CV] END .....................C=3, max_iter=56.0, penalty=l2; total time=   0.0s\n",
            "[CV] END .....................C=3, max_iter=56.0, penalty=l2; total time=   0.0s\n",
            "[CV] END .....................C=3, max_iter=56.0, penalty=l2; total time=   0.0s\n",
            "[CV] END .....................C=3, max_iter=56.0, penalty=l2; total time=   0.0s\n",
            "[CV] END .............C=3, max_iter=56.0, penalty=elasticnet; total time=   0.0s\n",
            "[CV] END .............C=3, max_iter=56.0, penalty=elasticnet; total time=   0.0s\n",
            "[CV] END .............C=3, max_iter=56.0, penalty=elasticnet; total time=   0.0s\n",
            "[CV] END .............C=3, max_iter=56.0, penalty=elasticnet; total time=   0.0s\n",
            "[CV] END .............C=3, max_iter=56.0, penalty=elasticnet; total time=   0.0s\n",
            "[CV] END .....................C=3, max_iter=67.0, penalty=l1; total time=   0.0s\n",
            "[CV] END .....................C=3, max_iter=67.0, penalty=l1; total time=   0.0s\n",
            "[CV] END .....................C=3, max_iter=67.0, penalty=l1; total time=   0.0s\n",
            "[CV] END .....................C=3, max_iter=67.0, penalty=l1; total time=   0.0s\n",
            "[CV] END .....................C=3, max_iter=67.0, penalty=l1; total time=   0.0s\n",
            "[CV] END .....................C=3, max_iter=67.0, penalty=l2; total time=   0.0s\n",
            "[CV] END .....................C=3, max_iter=67.0, penalty=l2; total time=   0.0s\n",
            "[CV] END .....................C=3, max_iter=67.0, penalty=l2; total time=   0.0s\n",
            "[CV] END .....................C=3, max_iter=67.0, penalty=l2; total time=   0.0s\n",
            "[CV] END .....................C=3, max_iter=67.0, penalty=l2; total time=   0.0s\n",
            "[CV] END .............C=3, max_iter=67.0, penalty=elasticnet; total time=   0.0s\n",
            "[CV] END .............C=3, max_iter=67.0, penalty=elasticnet; total time=   0.0s\n",
            "[CV] END .............C=3, max_iter=67.0, penalty=elasticnet; total time=   0.0s\n",
            "[CV] END .............C=3, max_iter=67.0, penalty=elasticnet; total time=   0.0s\n",
            "[CV] END .............C=3, max_iter=67.0, penalty=elasticnet; total time=   0.0s\n",
            "[CV] END .....................C=3, max_iter=78.0, penalty=l1; total time=   0.0s\n",
            "[CV] END .....................C=3, max_iter=78.0, penalty=l1; total time=   0.0s\n",
            "[CV] END .....................C=3, max_iter=78.0, penalty=l1; total time=   0.0s\n",
            "[CV] END .....................C=3, max_iter=78.0, penalty=l1; total time=   0.0s\n",
            "[CV] END .....................C=3, max_iter=78.0, penalty=l1; total time=   0.0s\n",
            "[CV] END .....................C=3, max_iter=78.0, penalty=l2; total time=   0.0s\n",
            "[CV] END .....................C=3, max_iter=78.0, penalty=l2; total time=   0.0s\n",
            "[CV] END .....................C=3, max_iter=78.0, penalty=l2; total time=   0.0s\n",
            "[CV] END .....................C=3, max_iter=78.0, penalty=l2; total time=   0.0s\n",
            "[CV] END .....................C=3, max_iter=78.0, penalty=l2; total time=   0.0s\n",
            "[CV] END .............C=3, max_iter=78.0, penalty=elasticnet; total time=   0.0s\n",
            "[CV] END .............C=3, max_iter=78.0, penalty=elasticnet; total time=   0.0s\n",
            "[CV] END .............C=3, max_iter=78.0, penalty=elasticnet; total time=   0.0s\n",
            "[CV] END .............C=3, max_iter=78.0, penalty=elasticnet; total time=   0.0s\n",
            "[CV] END .............C=3, max_iter=78.0, penalty=elasticnet; total time=   0.0s\n",
            "[CV] END .....................C=3, max_iter=89.0, penalty=l1; total time=   0.0s\n",
            "[CV] END .....................C=3, max_iter=89.0, penalty=l1; total time=   0.0s\n",
            "[CV] END .....................C=3, max_iter=89.0, penalty=l1; total time=   0.0s\n",
            "[CV] END .....................C=3, max_iter=89.0, penalty=l1; total time=   0.0s\n",
            "[CV] END .....................C=3, max_iter=89.0, penalty=l1; total time=   0.0s\n",
            "[CV] END .....................C=3, max_iter=89.0, penalty=l2; total time=   0.0s\n",
            "[CV] END .....................C=3, max_iter=89.0, penalty=l2; total time=   0.0s\n",
            "[CV] END .....................C=3, max_iter=89.0, penalty=l2; total time=   0.0s\n",
            "[CV] END .....................C=3, max_iter=89.0, penalty=l2; total time=   0.0s\n",
            "[CV] END .....................C=3, max_iter=89.0, penalty=l2; total time=   0.0s\n",
            "[CV] END .............C=3, max_iter=89.0, penalty=elasticnet; total time=   0.0s\n",
            "[CV] END .............C=3, max_iter=89.0, penalty=elasticnet; total time=   0.0s\n",
            "[CV] END .............C=3, max_iter=89.0, penalty=elasticnet; total time=   0.0s\n",
            "[CV] END .............C=3, max_iter=89.0, penalty=elasticnet; total time=   0.0s\n",
            "[CV] END .............C=3, max_iter=89.0, penalty=elasticnet; total time=   0.0s\n",
            "[CV] END ....................C=3, max_iter=100.0, penalty=l1; total time=   0.0s\n",
            "[CV] END ....................C=3, max_iter=100.0, penalty=l1; total time=   0.0s\n",
            "[CV] END ....................C=3, max_iter=100.0, penalty=l1; total time=   0.0s\n",
            "[CV] END ....................C=3, max_iter=100.0, penalty=l1; total time=   0.0s\n",
            "[CV] END ....................C=3, max_iter=100.0, penalty=l1; total time=   0.0s\n",
            "[CV] END ....................C=3, max_iter=100.0, penalty=l2; total time=   0.0s\n",
            "[CV] END ....................C=3, max_iter=100.0, penalty=l2; total time=   0.0s\n",
            "[CV] END ....................C=3, max_iter=100.0, penalty=l2; total time=   0.0s\n",
            "[CV] END ....................C=3, max_iter=100.0, penalty=l2; total time=   0.0s\n",
            "[CV] END ....................C=3, max_iter=100.0, penalty=l2; total time=   0.0s\n",
            "[CV] END ............C=3, max_iter=100.0, penalty=elasticnet; total time=   0.0s\n",
            "[CV] END ............C=3, max_iter=100.0, penalty=elasticnet; total time=   0.0s\n",
            "[CV] END ............C=3, max_iter=100.0, penalty=elasticnet; total time=   0.0s\n",
            "[CV] END ............C=3, max_iter=100.0, penalty=elasticnet; total time=   0.0s\n",
            "[CV] END ............C=3, max_iter=100.0, penalty=elasticnet; total time=   0.0s\n",
            "[CV] END ......................C=5, max_iter=1.0, penalty=l1; total time=   0.0s\n",
            "[CV] END ......................C=5, max_iter=1.0, penalty=l1; total time=   0.0s\n",
            "[CV] END ......................C=5, max_iter=1.0, penalty=l1; total time=   0.0s\n",
            "[CV] END ......................C=5, max_iter=1.0, penalty=l1; total time=   0.0s\n",
            "[CV] END ......................C=5, max_iter=1.0, penalty=l1; total time=   0.0s\n",
            "[CV] END ......................C=5, max_iter=1.0, penalty=l2; total time=   0.0s\n",
            "[CV] END ......................C=5, max_iter=1.0, penalty=l2; total time=   0.0s\n",
            "[CV] END ......................C=5, max_iter=1.0, penalty=l2; total time=   0.0s\n",
            "[CV] END ......................C=5, max_iter=1.0, penalty=l2; total time=   0.0s\n",
            "[CV] END ......................C=5, max_iter=1.0, penalty=l2; total time=   0.0s\n",
            "[CV] END ..............C=5, max_iter=1.0, penalty=elasticnet; total time=   0.0s\n",
            "[CV] END ..............C=5, max_iter=1.0, penalty=elasticnet; total time=   0.0s\n",
            "[CV] END ..............C=5, max_iter=1.0, penalty=elasticnet; total time=   0.0s\n",
            "[CV] END ..............C=5, max_iter=1.0, penalty=elasticnet; total time=   0.0s\n",
            "[CV] END ..............C=5, max_iter=1.0, penalty=elasticnet; total time=   0.0s\n",
            "[CV] END .....................C=5, max_iter=12.0, penalty=l1; total time=   0.0s\n",
            "[CV] END .....................C=5, max_iter=12.0, penalty=l1; total time=   0.0s\n",
            "[CV] END .....................C=5, max_iter=12.0, penalty=l1; total time=   0.0s\n",
            "[CV] END .....................C=5, max_iter=12.0, penalty=l1; total time=   0.0s\n",
            "[CV] END .....................C=5, max_iter=12.0, penalty=l1; total time=   0.0s\n",
            "[CV] END .....................C=5, max_iter=12.0, penalty=l2; total time=   0.0s\n",
            "[CV] END .....................C=5, max_iter=12.0, penalty=l2; total time=   0.0s\n",
            "[CV] END .....................C=5, max_iter=12.0, penalty=l2; total time=   0.0s\n",
            "[CV] END .....................C=5, max_iter=12.0, penalty=l2; total time=   0.0s\n",
            "[CV] END .....................C=5, max_iter=12.0, penalty=l2; total time=   0.0s\n",
            "[CV] END .............C=5, max_iter=12.0, penalty=elasticnet; total time=   0.0s\n",
            "[CV] END .............C=5, max_iter=12.0, penalty=elasticnet; total time=   0.0s\n",
            "[CV] END .............C=5, max_iter=12.0, penalty=elasticnet; total time=   0.0s\n",
            "[CV] END .............C=5, max_iter=12.0, penalty=elasticnet; total time=   0.0s\n",
            "[CV] END .............C=5, max_iter=12.0, penalty=elasticnet; total time=   0.0s"
          ]
        },
        {
          "name": "stderr",
          "output_type": "stream",
          "text": [
            "/usr/local/lib/python3.7/dist-packages/sklearn/linear_model/_logistic.py:818: ConvergenceWarning: lbfgs failed to converge (status=1):\n",
            "STOP: TOTAL NO. of ITERATIONS REACHED LIMIT.\n",
            "\n",
            "Increase the number of iterations (max_iter) or scale the data as shown in:\n",
            "    https://scikit-learn.org/stable/modules/preprocessing.html\n",
            "Please also refer to the documentation for alternative solver options:\n",
            "    https://scikit-learn.org/stable/modules/linear_model.html#logistic-regression\n",
            "  extra_warning_msg=_LOGISTIC_SOLVER_CONVERGENCE_MSG,\n",
            "/usr/local/lib/python3.7/dist-packages/sklearn/linear_model/_logistic.py:818: ConvergenceWarning: lbfgs failed to converge (status=1):\n",
            "STOP: TOTAL NO. of ITERATIONS REACHED LIMIT.\n",
            "\n",
            "Increase the number of iterations (max_iter) or scale the data as shown in:\n",
            "    https://scikit-learn.org/stable/modules/preprocessing.html\n",
            "Please also refer to the documentation for alternative solver options:\n",
            "    https://scikit-learn.org/stable/modules/linear_model.html#logistic-regression\n",
            "  extra_warning_msg=_LOGISTIC_SOLVER_CONVERGENCE_MSG,\n",
            "/usr/local/lib/python3.7/dist-packages/sklearn/linear_model/_logistic.py:818: ConvergenceWarning: lbfgs failed to converge (status=1):\n",
            "STOP: TOTAL NO. of ITERATIONS REACHED LIMIT.\n",
            "\n",
            "Increase the number of iterations (max_iter) or scale the data as shown in:\n",
            "    https://scikit-learn.org/stable/modules/preprocessing.html\n",
            "Please also refer to the documentation for alternative solver options:\n",
            "    https://scikit-learn.org/stable/modules/linear_model.html#logistic-regression\n",
            "  extra_warning_msg=_LOGISTIC_SOLVER_CONVERGENCE_MSG,\n",
            "/usr/local/lib/python3.7/dist-packages/sklearn/linear_model/_logistic.py:818: ConvergenceWarning: lbfgs failed to converge (status=1):\n",
            "STOP: TOTAL NO. of ITERATIONS REACHED LIMIT.\n",
            "\n",
            "Increase the number of iterations (max_iter) or scale the data as shown in:\n",
            "    https://scikit-learn.org/stable/modules/preprocessing.html\n",
            "Please also refer to the documentation for alternative solver options:\n",
            "    https://scikit-learn.org/stable/modules/linear_model.html#logistic-regression\n",
            "  extra_warning_msg=_LOGISTIC_SOLVER_CONVERGENCE_MSG,\n",
            "/usr/local/lib/python3.7/dist-packages/sklearn/linear_model/_logistic.py:818: ConvergenceWarning: lbfgs failed to converge (status=1):\n",
            "STOP: TOTAL NO. of ITERATIONS REACHED LIMIT.\n",
            "\n",
            "Increase the number of iterations (max_iter) or scale the data as shown in:\n",
            "    https://scikit-learn.org/stable/modules/preprocessing.html\n",
            "Please also refer to the documentation for alternative solver options:\n",
            "    https://scikit-learn.org/stable/modules/linear_model.html#logistic-regression\n",
            "  extra_warning_msg=_LOGISTIC_SOLVER_CONVERGENCE_MSG,\n"
          ]
        },
        {
          "name": "stdout",
          "output_type": "stream",
          "text": [
            "\n",
            "[CV] END .....................C=5, max_iter=23.0, penalty=l1; total time=   0.0s\n",
            "[CV] END .....................C=5, max_iter=23.0, penalty=l1; total time=   0.0s\n",
            "[CV] END .....................C=5, max_iter=23.0, penalty=l1; total time=   0.0s\n",
            "[CV] END .....................C=5, max_iter=23.0, penalty=l1; total time=   0.0s\n",
            "[CV] END .....................C=5, max_iter=23.0, penalty=l1; total time=   0.0s\n",
            "[CV] END .....................C=5, max_iter=23.0, penalty=l2; total time=   0.0s\n",
            "[CV] END .....................C=5, max_iter=23.0, penalty=l2; total time=   0.0s\n",
            "[CV] END .....................C=5, max_iter=23.0, penalty=l2; total time=   0.0s\n",
            "[CV] END .....................C=5, max_iter=23.0, penalty=l2; total time=   0.0s\n",
            "[CV] END .....................C=5, max_iter=23.0, penalty=l2; total time=   0.0s\n",
            "[CV] END .............C=5, max_iter=23.0, penalty=elasticnet; total time=   0.0s\n",
            "[CV] END .............C=5, max_iter=23.0, penalty=elasticnet; total time=   0.0s\n",
            "[CV] END .............C=5, max_iter=23.0, penalty=elasticnet; total time=   0.0s\n",
            "[CV] END .............C=5, max_iter=23.0, penalty=elasticnet; total time=   0.0s\n",
            "[CV] END .............C=5, max_iter=23.0, penalty=elasticnet; total time=   0.0s\n",
            "[CV] END .....................C=5, max_iter=34.0, penalty=l1; total time=   0.0s\n",
            "[CV] END .....................C=5, max_iter=34.0, penalty=l1; total time=   0.0s\n",
            "[CV] END .....................C=5, max_iter=34.0, penalty=l1; total time=   0.0s\n",
            "[CV] END .....................C=5, max_iter=34.0, penalty=l1; total time=   0.0s\n",
            "[CV] END .....................C=5, max_iter=34.0, penalty=l1; total time=   0.0s\n",
            "[CV] END .....................C=5, max_iter=34.0, penalty=l2; total time=   0.0s\n",
            "[CV] END .....................C=5, max_iter=34.0, penalty=l2; total time=   0.0s\n",
            "[CV] END .....................C=5, max_iter=34.0, penalty=l2; total time=   0.0s\n",
            "[CV] END .....................C=5, max_iter=34.0, penalty=l2; total time=   0.0s\n",
            "[CV] END .....................C=5, max_iter=34.0, penalty=l2; total time=   0.0s\n",
            "[CV] END .............C=5, max_iter=34.0, penalty=elasticnet; total time=   0.0s\n",
            "[CV] END .............C=5, max_iter=34.0, penalty=elasticnet; total time=   0.0s\n",
            "[CV] END .............C=5, max_iter=34.0, penalty=elasticnet; total time=   0.0s\n",
            "[CV] END .............C=5, max_iter=34.0, penalty=elasticnet; total time=   0.0s\n",
            "[CV] END .............C=5, max_iter=34.0, penalty=elasticnet; total time=   0.0s\n",
            "[CV] END .....................C=5, max_iter=45.0, penalty=l1; total time=   0.0s\n",
            "[CV] END .....................C=5, max_iter=45.0, penalty=l1; total time=   0.0s\n",
            "[CV] END .....................C=5, max_iter=45.0, penalty=l1; total time=   0.0s\n",
            "[CV] END .....................C=5, max_iter=45.0, penalty=l1; total time=   0.0s\n",
            "[CV] END .....................C=5, max_iter=45.0, penalty=l1; total time=   0.0s\n",
            "[CV] END .....................C=5, max_iter=45.0, penalty=l2; total time=   0.0s\n",
            "[CV] END .....................C=5, max_iter=45.0, penalty=l2; total time=   0.0s\n",
            "[CV] END .....................C=5, max_iter=45.0, penalty=l2; total time=   0.0s\n",
            "[CV] END .....................C=5, max_iter=45.0, penalty=l2; total time=   0.0s\n",
            "[CV] END .....................C=5, max_iter=45.0, penalty=l2; total time=   0.0s\n",
            "[CV] END .............C=5, max_iter=45.0, penalty=elasticnet; total time=   0.0s\n",
            "[CV] END .............C=5, max_iter=45.0, penalty=elasticnet; total time=   0.0s\n",
            "[CV] END .............C=5, max_iter=45.0, penalty=elasticnet; total time=   0.0s\n",
            "[CV] END .............C=5, max_iter=45.0, penalty=elasticnet; total time=   0.0s\n",
            "[CV] END .............C=5, max_iter=45.0, penalty=elasticnet; total time=   0.0s\n",
            "[CV] END .....................C=5, max_iter=56.0, penalty=l1; total time=   0.0s\n",
            "[CV] END .....................C=5, max_iter=56.0, penalty=l1; total time=   0.0s\n",
            "[CV] END .....................C=5, max_iter=56.0, penalty=l1; total time=   0.0s\n",
            "[CV] END .....................C=5, max_iter=56.0, penalty=l1; total time=   0.0s\n",
            "[CV] END .....................C=5, max_iter=56.0, penalty=l1; total time=   0.0s\n",
            "[CV] END .....................C=5, max_iter=56.0, penalty=l2; total time=   0.0s\n",
            "[CV] END .....................C=5, max_iter=56.0, penalty=l2; total time=   0.0s\n",
            "[CV] END .....................C=5, max_iter=56.0, penalty=l2; total time=   0.0s\n",
            "[CV] END .....................C=5, max_iter=56.0, penalty=l2; total time=   0.0s\n",
            "[CV] END .....................C=5, max_iter=56.0, penalty=l2; total time=   0.0s\n",
            "[CV] END .............C=5, max_iter=56.0, penalty=elasticnet; total time=   0.0s\n",
            "[CV] END .............C=5, max_iter=56.0, penalty=elasticnet; total time=   0.0s\n",
            "[CV] END .............C=5, max_iter=56.0, penalty=elasticnet; total time=   0.0s\n",
            "[CV] END .............C=5, max_iter=56.0, penalty=elasticnet; total time=   0.0s\n",
            "[CV] END .............C=5, max_iter=56.0, penalty=elasticnet; total time=   0.0s\n",
            "[CV] END .....................C=5, max_iter=67.0, penalty=l1; total time=   0.0s\n",
            "[CV] END .....................C=5, max_iter=67.0, penalty=l1; total time=   0.0s\n",
            "[CV] END .....................C=5, max_iter=67.0, penalty=l1; total time=   0.0s\n",
            "[CV] END .....................C=5, max_iter=67.0, penalty=l1; total time=   0.0s\n",
            "[CV] END .....................C=5, max_iter=67.0, penalty=l1; total time=   0.0s\n",
            "[CV] END .....................C=5, max_iter=67.0, penalty=l2; total time=   0.0s\n",
            "[CV] END .....................C=5, max_iter=67.0, penalty=l2; total time=   0.0s\n",
            "[CV] END .....................C=5, max_iter=67.0, penalty=l2; total time=   0.0s\n",
            "[CV] END .....................C=5, max_iter=67.0, penalty=l2; total time=   0.0s\n",
            "[CV] END .....................C=5, max_iter=67.0, penalty=l2; total time=   0.0s\n",
            "[CV] END .............C=5, max_iter=67.0, penalty=elasticnet; total time=   0.0s\n",
            "[CV] END .............C=5, max_iter=67.0, penalty=elasticnet; total time=   0.0s\n",
            "[CV] END .............C=5, max_iter=67.0, penalty=elasticnet; total time=   0.0s\n",
            "[CV] END .............C=5, max_iter=67.0, penalty=elasticnet; total time=   0.0s\n",
            "[CV] END .............C=5, max_iter=67.0, penalty=elasticnet; total time=   0.0s\n",
            "[CV] END .....................C=5, max_iter=78.0, penalty=l1; total time=   0.0s\n",
            "[CV] END .....................C=5, max_iter=78.0, penalty=l1; total time=   0.0s\n",
            "[CV] END .....................C=5, max_iter=78.0, penalty=l1; total time=   0.0s\n",
            "[CV] END .....................C=5, max_iter=78.0, penalty=l1; total time=   0.0s\n",
            "[CV] END .....................C=5, max_iter=78.0, penalty=l1; total time=   0.0s\n",
            "[CV] END .....................C=5, max_iter=78.0, penalty=l2; total time=   0.0s\n",
            "[CV] END .....................C=5, max_iter=78.0, penalty=l2; total time=   0.0s\n",
            "[CV] END .....................C=5, max_iter=78.0, penalty=l2; total time=   0.0s\n",
            "[CV] END .....................C=5, max_iter=78.0, penalty=l2; total time=   0.0s\n",
            "[CV] END .....................C=5, max_iter=78.0, penalty=l2; total time=   0.0s\n",
            "[CV] END .............C=5, max_iter=78.0, penalty=elasticnet; total time=   0.0s\n",
            "[CV] END .............C=5, max_iter=78.0, penalty=elasticnet; total time=   0.0s\n",
            "[CV] END .............C=5, max_iter=78.0, penalty=elasticnet; total time=   0.0s\n",
            "[CV] END .............C=5, max_iter=78.0, penalty=elasticnet; total time=   0.0s\n",
            "[CV] END .............C=5, max_iter=78.0, penalty=elasticnet; total time=   0.0s\n",
            "[CV] END .....................C=5, max_iter=89.0, penalty=l1; total time=   0.0s\n",
            "[CV] END .....................C=5, max_iter=89.0, penalty=l1; total time=   0.0s\n",
            "[CV] END .....................C=5, max_iter=89.0, penalty=l1; total time=   0.0s\n",
            "[CV] END .....................C=5, max_iter=89.0, penalty=l1; total time=   0.0s\n",
            "[CV] END .....................C=5, max_iter=89.0, penalty=l1; total time=   0.0s\n",
            "[CV] END .....................C=5, max_iter=89.0, penalty=l2; total time=   0.0s\n",
            "[CV] END .....................C=5, max_iter=89.0, penalty=l2; total time=   0.0s\n",
            "[CV] END .....................C=5, max_iter=89.0, penalty=l2; total time=   0.0s\n",
            "[CV] END .....................C=5, max_iter=89.0, penalty=l2; total time=   0.0s\n",
            "[CV] END .....................C=5, max_iter=89.0, penalty=l2; total time=   0.0s\n",
            "[CV] END .............C=5, max_iter=89.0, penalty=elasticnet; total time=   0.0s\n",
            "[CV] END .............C=5, max_iter=89.0, penalty=elasticnet; total time=   0.0s\n",
            "[CV] END .............C=5, max_iter=89.0, penalty=elasticnet; total time=   0.0s\n",
            "[CV] END .............C=5, max_iter=89.0, penalty=elasticnet; total time=   0.0s\n",
            "[CV] END .............C=5, max_iter=89.0, penalty=elasticnet; total time=   0.0s\n",
            "[CV] END ....................C=5, max_iter=100.0, penalty=l1; total time=   0.0s\n",
            "[CV] END ....................C=5, max_iter=100.0, penalty=l1; total time=   0.0s\n",
            "[CV] END ....................C=5, max_iter=100.0, penalty=l1; total time=   0.0s\n",
            "[CV] END ....................C=5, max_iter=100.0, penalty=l1; total time=   0.0s\n",
            "[CV] END ....................C=5, max_iter=100.0, penalty=l1; total time=   0.0s\n",
            "[CV] END ....................C=5, max_iter=100.0, penalty=l2; total time=   0.0s\n",
            "[CV] END ....................C=5, max_iter=100.0, penalty=l2; total time=   0.0s\n",
            "[CV] END ....................C=5, max_iter=100.0, penalty=l2; total time=   0.0s\n",
            "[CV] END ....................C=5, max_iter=100.0, penalty=l2; total time=   0.0s\n",
            "[CV] END ....................C=5, max_iter=100.0, penalty=l2; total time=   0.0s\n",
            "[CV] END ............C=5, max_iter=100.0, penalty=elasticnet; total time=   0.0s\n",
            "[CV] END ............C=5, max_iter=100.0, penalty=elasticnet; total time=   0.0s\n",
            "[CV] END ............C=5, max_iter=100.0, penalty=elasticnet; total time=   0.0s\n",
            "[CV] END ............C=5, max_iter=100.0, penalty=elasticnet; total time=   0.0s\n",
            "[CV] END ............C=5, max_iter=100.0, penalty=elasticnet; total time=   0.0s\n",
            "[CV] END ......................C=7, max_iter=1.0, penalty=l1; total time=   0.0s\n",
            "[CV] END ......................C=7, max_iter=1.0, penalty=l1; total time=   0.0s\n",
            "[CV] END ......................C=7, max_iter=1.0, penalty=l1; total time=   0.0s\n",
            "[CV] END ......................C=7, max_iter=1.0, penalty=l1; total time=   0.0s\n",
            "[CV] END ......................C=7, max_iter=1.0, penalty=l1; total time=   0.0s\n",
            "[CV] END ......................C=7, max_iter=1.0, penalty=l2; total time=   0.0s\n",
            "[CV] END ......................C=7, max_iter=1.0, penalty=l2; total time=   0.0s\n",
            "[CV] END ......................C=7, max_iter=1.0, penalty=l2; total time=   0.0s\n",
            "[CV] END ......................C=7, max_iter=1.0, penalty=l2; total time=   0.0s\n",
            "[CV] END ......................C=7, max_iter=1.0, penalty=l2; total time=   0.0s\n",
            "[CV] END ..............C=7, max_iter=1.0, penalty=elasticnet; total time=   0.0s\n",
            "[CV] END ..............C=7, max_iter=1.0, penalty=elasticnet; total time=   0.0s\n",
            "[CV] END ..............C=7, max_iter=1.0, penalty=elasticnet; total time=   0.0s\n",
            "[CV] END ..............C=7, max_iter=1.0, penalty=elasticnet; total time=   0.0s\n",
            "[CV] END ..............C=7, max_iter=1.0, penalty=elasticnet; total time=   0.0s\n",
            "[CV] END .....................C=7, max_iter=12.0, penalty=l1; total time=   0.0s\n",
            "[CV] END .....................C=7, max_iter=12.0, penalty=l1; total time=   0.0s\n",
            "[CV] END .....................C=7, max_iter=12.0, penalty=l1; total time=   0.0s\n",
            "[CV] END .....................C=7, max_iter=12.0, penalty=l1; total time=   0.0s\n",
            "[CV] END .....................C=7, max_iter=12.0, penalty=l1; total time=   0.0s\n",
            "[CV] END .....................C=7, max_iter=12.0, penalty=l2; total time=   0.0s\n"
          ]
        },
        {
          "name": "stderr",
          "output_type": "stream",
          "text": [
            "/usr/local/lib/python3.7/dist-packages/sklearn/linear_model/_logistic.py:818: ConvergenceWarning: lbfgs failed to converge (status=1):\n",
            "STOP: TOTAL NO. of ITERATIONS REACHED LIMIT.\n",
            "\n",
            "Increase the number of iterations (max_iter) or scale the data as shown in:\n",
            "    https://scikit-learn.org/stable/modules/preprocessing.html\n",
            "Please also refer to the documentation for alternative solver options:\n",
            "    https://scikit-learn.org/stable/modules/linear_model.html#logistic-regression\n",
            "  extra_warning_msg=_LOGISTIC_SOLVER_CONVERGENCE_MSG,\n",
            "/usr/local/lib/python3.7/dist-packages/sklearn/linear_model/_logistic.py:818: ConvergenceWarning: lbfgs failed to converge (status=1):\n",
            "STOP: TOTAL NO. of ITERATIONS REACHED LIMIT.\n",
            "\n",
            "Increase the number of iterations (max_iter) or scale the data as shown in:\n",
            "    https://scikit-learn.org/stable/modules/preprocessing.html\n",
            "Please also refer to the documentation for alternative solver options:\n",
            "    https://scikit-learn.org/stable/modules/linear_model.html#logistic-regression\n",
            "  extra_warning_msg=_LOGISTIC_SOLVER_CONVERGENCE_MSG,\n",
            "/usr/local/lib/python3.7/dist-packages/sklearn/linear_model/_logistic.py:818: ConvergenceWarning: lbfgs failed to converge (status=1):\n",
            "STOP: TOTAL NO. of ITERATIONS REACHED LIMIT.\n",
            "\n",
            "Increase the number of iterations (max_iter) or scale the data as shown in:\n",
            "    https://scikit-learn.org/stable/modules/preprocessing.html\n",
            "Please also refer to the documentation for alternative solver options:\n",
            "    https://scikit-learn.org/stable/modules/linear_model.html#logistic-regression\n",
            "  extra_warning_msg=_LOGISTIC_SOLVER_CONVERGENCE_MSG,\n",
            "/usr/local/lib/python3.7/dist-packages/sklearn/linear_model/_logistic.py:818: ConvergenceWarning: lbfgs failed to converge (status=1):\n",
            "STOP: TOTAL NO. of ITERATIONS REACHED LIMIT.\n",
            "\n",
            "Increase the number of iterations (max_iter) or scale the data as shown in:\n",
            "    https://scikit-learn.org/stable/modules/preprocessing.html\n",
            "Please also refer to the documentation for alternative solver options:\n",
            "    https://scikit-learn.org/stable/modules/linear_model.html#logistic-regression\n",
            "  extra_warning_msg=_LOGISTIC_SOLVER_CONVERGENCE_MSG,\n",
            "/usr/local/lib/python3.7/dist-packages/sklearn/linear_model/_logistic.py:818: ConvergenceWarning: lbfgs failed to converge (status=1):\n",
            "STOP: TOTAL NO. of ITERATIONS REACHED LIMIT.\n",
            "\n",
            "Increase the number of iterations (max_iter) or scale the data as shown in:\n",
            "    https://scikit-learn.org/stable/modules/preprocessing.html\n",
            "Please also refer to the documentation for alternative solver options:\n",
            "    https://scikit-learn.org/stable/modules/linear_model.html#logistic-regression\n",
            "  extra_warning_msg=_LOGISTIC_SOLVER_CONVERGENCE_MSG,\n"
          ]
        },
        {
          "name": "stdout",
          "output_type": "stream",
          "text": [
            "[CV] END .....................C=7, max_iter=12.0, penalty=l2; total time=   0.0s\n",
            "[CV] END .....................C=7, max_iter=12.0, penalty=l2; total time=   0.0s\n",
            "[CV] END .....................C=7, max_iter=12.0, penalty=l2; total time=   0.0s\n",
            "[CV] END .....................C=7, max_iter=12.0, penalty=l2; total time=   0.0s\n",
            "[CV] END .............C=7, max_iter=12.0, penalty=elasticnet; total time=   0.0s\n",
            "[CV] END .............C=7, max_iter=12.0, penalty=elasticnet; total time=   0.0s\n",
            "[CV] END .............C=7, max_iter=12.0, penalty=elasticnet; total time=   0.0s\n",
            "[CV] END .............C=7, max_iter=12.0, penalty=elasticnet; total time=   0.0s\n",
            "[CV] END .............C=7, max_iter=12.0, penalty=elasticnet; total time=   0.0s\n",
            "[CV] END .....................C=7, max_iter=23.0, penalty=l1; total time=   0.0s\n",
            "[CV] END .....................C=7, max_iter=23.0, penalty=l1; total time=   0.0s\n",
            "[CV] END .....................C=7, max_iter=23.0, penalty=l1; total time=   0.0s\n",
            "[CV] END .....................C=7, max_iter=23.0, penalty=l1; total time=   0.0s\n",
            "[CV] END .....................C=7, max_iter=23.0, penalty=l1; total time=   0.0s\n",
            "[CV] END .....................C=7, max_iter=23.0, penalty=l2; total time=   0.0s\n",
            "[CV] END .....................C=7, max_iter=23.0, penalty=l2; total time=   0.0s\n",
            "[CV] END .....................C=7, max_iter=23.0, penalty=l2; total time=   0.0s\n",
            "[CV] END .....................C=7, max_iter=23.0, penalty=l2; total time=   0.0s\n",
            "[CV] END .....................C=7, max_iter=23.0, penalty=l2; total time=   0.0s\n",
            "[CV] END .............C=7, max_iter=23.0, penalty=elasticnet; total time=   0.0s\n",
            "[CV] END .............C=7, max_iter=23.0, penalty=elasticnet; total time=   0.0s\n",
            "[CV] END .............C=7, max_iter=23.0, penalty=elasticnet; total time=   0.0s\n",
            "[CV] END .............C=7, max_iter=23.0, penalty=elasticnet; total time=   0.0s\n",
            "[CV] END .............C=7, max_iter=23.0, penalty=elasticnet; total time=   0.0s\n",
            "[CV] END .....................C=7, max_iter=34.0, penalty=l1; total time=   0.0s\n",
            "[CV] END .....................C=7, max_iter=34.0, penalty=l1; total time=   0.0s\n",
            "[CV] END .....................C=7, max_iter=34.0, penalty=l1; total time=   0.0s\n",
            "[CV] END .....................C=7, max_iter=34.0, penalty=l1; total time=   0.0s\n",
            "[CV] END .....................C=7, max_iter=34.0, penalty=l1; total time=   0.0s\n",
            "[CV] END .....................C=7, max_iter=34.0, penalty=l2; total time=   0.0s\n",
            "[CV] END .....................C=7, max_iter=34.0, penalty=l2; total time=   0.0s\n",
            "[CV] END .....................C=7, max_iter=34.0, penalty=l2; total time=   0.0s\n",
            "[CV] END .....................C=7, max_iter=34.0, penalty=l2; total time=   0.0s\n",
            "[CV] END .....................C=7, max_iter=34.0, penalty=l2; total time=   0.0s\n",
            "[CV] END .............C=7, max_iter=34.0, penalty=elasticnet; total time=   0.0s\n",
            "[CV] END .............C=7, max_iter=34.0, penalty=elasticnet; total time=   0.0s\n",
            "[CV] END .............C=7, max_iter=34.0, penalty=elasticnet; total time=   0.0s\n",
            "[CV] END .............C=7, max_iter=34.0, penalty=elasticnet; total time=   0.0s\n",
            "[CV] END .............C=7, max_iter=34.0, penalty=elasticnet; total time=   0.0s\n",
            "[CV] END .....................C=7, max_iter=45.0, penalty=l1; total time=   0.0s\n",
            "[CV] END .....................C=7, max_iter=45.0, penalty=l1; total time=   0.0s\n",
            "[CV] END .....................C=7, max_iter=45.0, penalty=l1; total time=   0.0s\n",
            "[CV] END .....................C=7, max_iter=45.0, penalty=l1; total time=   0.0s\n",
            "[CV] END .....................C=7, max_iter=45.0, penalty=l1; total time=   0.0s\n",
            "[CV] END .....................C=7, max_iter=45.0, penalty=l2; total time=   0.0s\n",
            "[CV] END .....................C=7, max_iter=45.0, penalty=l2; total time=   0.0s\n",
            "[CV] END .....................C=7, max_iter=45.0, penalty=l2; total time=   0.0s\n",
            "[CV] END .....................C=7, max_iter=45.0, penalty=l2; total time=   0.0s\n",
            "[CV] END .....................C=7, max_iter=45.0, penalty=l2; total time=   0.0s\n",
            "[CV] END .............C=7, max_iter=45.0, penalty=elasticnet; total time=   0.0s\n",
            "[CV] END .............C=7, max_iter=45.0, penalty=elasticnet; total time=   0.0s\n",
            "[CV] END .............C=7, max_iter=45.0, penalty=elasticnet; total time=   0.0s\n",
            "[CV] END .............C=7, max_iter=45.0, penalty=elasticnet; total time=   0.0s\n",
            "[CV] END .............C=7, max_iter=45.0, penalty=elasticnet; total time=   0.0s\n",
            "[CV] END .....................C=7, max_iter=56.0, penalty=l1; total time=   0.0s\n",
            "[CV] END .....................C=7, max_iter=56.0, penalty=l1; total time=   0.0s\n",
            "[CV] END .....................C=7, max_iter=56.0, penalty=l1; total time=   0.0s\n",
            "[CV] END .....................C=7, max_iter=56.0, penalty=l1; total time=   0.0s\n",
            "[CV] END .....................C=7, max_iter=56.0, penalty=l1; total time=   0.0s\n",
            "[CV] END .....................C=7, max_iter=56.0, penalty=l2; total time=   0.0s\n",
            "[CV] END .....................C=7, max_iter=56.0, penalty=l2; total time=   0.0s\n",
            "[CV] END .....................C=7, max_iter=56.0, penalty=l2; total time=   0.0s\n",
            "[CV] END .....................C=7, max_iter=56.0, penalty=l2; total time=   0.0s\n",
            "[CV] END .....................C=7, max_iter=56.0, penalty=l2; total time=   0.0s\n",
            "[CV] END .............C=7, max_iter=56.0, penalty=elasticnet; total time=   0.0s\n",
            "[CV] END .............C=7, max_iter=56.0, penalty=elasticnet; total time=   0.0s\n",
            "[CV] END .............C=7, max_iter=56.0, penalty=elasticnet; total time=   0.0s\n",
            "[CV] END .............C=7, max_iter=56.0, penalty=elasticnet; total time=   0.0s\n",
            "[CV] END .............C=7, max_iter=56.0, penalty=elasticnet; total time=   0.0s\n",
            "[CV] END .....................C=7, max_iter=67.0, penalty=l1; total time=   0.0s\n",
            "[CV] END .....................C=7, max_iter=67.0, penalty=l1; total time=   0.0s\n",
            "[CV] END .....................C=7, max_iter=67.0, penalty=l1; total time=   0.0s\n",
            "[CV] END .....................C=7, max_iter=67.0, penalty=l1; total time=   0.0s\n",
            "[CV] END .....................C=7, max_iter=67.0, penalty=l1; total time=   0.0s\n",
            "[CV] END .....................C=7, max_iter=67.0, penalty=l2; total time=   0.0s\n",
            "[CV] END .....................C=7, max_iter=67.0, penalty=l2; total time=   0.0s\n",
            "[CV] END .....................C=7, max_iter=67.0, penalty=l2; total time=   0.0s\n",
            "[CV] END .....................C=7, max_iter=67.0, penalty=l2; total time=   0.0s\n",
            "[CV] END .....................C=7, max_iter=67.0, penalty=l2; total time=   0.0s\n",
            "[CV] END .............C=7, max_iter=67.0, penalty=elasticnet; total time=   0.0s\n",
            "[CV] END .............C=7, max_iter=67.0, penalty=elasticnet; total time=   0.0s\n",
            "[CV] END .............C=7, max_iter=67.0, penalty=elasticnet; total time=   0.0s\n",
            "[CV] END .............C=7, max_iter=67.0, penalty=elasticnet; total time=   0.0s\n",
            "[CV] END .............C=7, max_iter=67.0, penalty=elasticnet; total time=   0.0s\n",
            "[CV] END .....................C=7, max_iter=78.0, penalty=l1; total time=   0.0s\n",
            "[CV] END .....................C=7, max_iter=78.0, penalty=l1; total time=   0.0s\n",
            "[CV] END .....................C=7, max_iter=78.0, penalty=l1; total time=   0.0s\n",
            "[CV] END .....................C=7, max_iter=78.0, penalty=l1; total time=   0.0s\n",
            "[CV] END .....................C=7, max_iter=78.0, penalty=l1; total time=   0.0s\n",
            "[CV] END .....................C=7, max_iter=78.0, penalty=l2; total time=   0.0s\n",
            "[CV] END .....................C=7, max_iter=78.0, penalty=l2; total time=   0.0s\n",
            "[CV] END .....................C=7, max_iter=78.0, penalty=l2; total time=   0.0s\n",
            "[CV] END .....................C=7, max_iter=78.0, penalty=l2; total time=   0.0s\n",
            "[CV] END .....................C=7, max_iter=78.0, penalty=l2; total time=   0.0s\n",
            "[CV] END .............C=7, max_iter=78.0, penalty=elasticnet; total time=   0.0s\n",
            "[CV] END .............C=7, max_iter=78.0, penalty=elasticnet; total time=   0.0s\n",
            "[CV] END .............C=7, max_iter=78.0, penalty=elasticnet; total time=   0.0s\n",
            "[CV] END .............C=7, max_iter=78.0, penalty=elasticnet; total time=   0.0s\n",
            "[CV] END .............C=7, max_iter=78.0, penalty=elasticnet; total time=   0.0s\n",
            "[CV] END .....................C=7, max_iter=89.0, penalty=l1; total time=   0.0s\n",
            "[CV] END .....................C=7, max_iter=89.0, penalty=l1; total time=   0.0s\n",
            "[CV] END .....................C=7, max_iter=89.0, penalty=l1; total time=   0.0s\n",
            "[CV] END .....................C=7, max_iter=89.0, penalty=l1; total time=   0.0s\n",
            "[CV] END .....................C=7, max_iter=89.0, penalty=l1; total time=   0.0s\n",
            "[CV] END .....................C=7, max_iter=89.0, penalty=l2; total time=   0.0s\n",
            "[CV] END .....................C=7, max_iter=89.0, penalty=l2; total time=   0.0s\n",
            "[CV] END .....................C=7, max_iter=89.0, penalty=l2; total time=   0.0s\n",
            "[CV] END .....................C=7, max_iter=89.0, penalty=l2; total time=   0.0s\n",
            "[CV] END .....................C=7, max_iter=89.0, penalty=l2; total time=   0.0s\n",
            "[CV] END .............C=7, max_iter=89.0, penalty=elasticnet; total time=   0.0s\n",
            "[CV] END .............C=7, max_iter=89.0, penalty=elasticnet; total time=   0.0s\n",
            "[CV] END .............C=7, max_iter=89.0, penalty=elasticnet; total time=   0.0s\n",
            "[CV] END .............C=7, max_iter=89.0, penalty=elasticnet; total time=   0.0s\n",
            "[CV] END .............C=7, max_iter=89.0, penalty=elasticnet; total time=   0.0s\n",
            "[CV] END ....................C=7, max_iter=100.0, penalty=l1; total time=   0.0s\n",
            "[CV] END ....................C=7, max_iter=100.0, penalty=l1; total time=   0.0s\n",
            "[CV] END ....................C=7, max_iter=100.0, penalty=l1; total time=   0.0s\n",
            "[CV] END ....................C=7, max_iter=100.0, penalty=l1; total time=   0.0s\n",
            "[CV] END ....................C=7, max_iter=100.0, penalty=l1; total time=   0.0s\n",
            "[CV] END ....................C=7, max_iter=100.0, penalty=l2; total time=   0.0s\n",
            "[CV] END ....................C=7, max_iter=100.0, penalty=l2; total time=   0.0s\n",
            "[CV] END ....................C=7, max_iter=100.0, penalty=l2; total time=   0.0s\n",
            "[CV] END ....................C=7, max_iter=100.0, penalty=l2; total time=   0.0s\n",
            "[CV] END ....................C=7, max_iter=100.0, penalty=l2; total time=   0.0s\n",
            "[CV] END ............C=7, max_iter=100.0, penalty=elasticnet; total time=   0.0s\n",
            "[CV] END ............C=7, max_iter=100.0, penalty=elasticnet; total time=   0.0s\n",
            "[CV] END ............C=7, max_iter=100.0, penalty=elasticnet; total time=   0.0s\n",
            "[CV] END ............C=7, max_iter=100.0, penalty=elasticnet; total time=   0.0s\n",
            "[CV] END ............C=7, max_iter=100.0, penalty=elasticnet; total time=   0.0s\n"
          ]
        },
        {
          "name": "stderr",
          "output_type": "stream",
          "text": [
            "/usr/local/lib/python3.7/dist-packages/sklearn/model_selection/_validation.py:372: FitFailedWarning: \n",
            "600 fits failed out of a total of 900.\n",
            "The score on these train-test partitions for these parameters will be set to nan.\n",
            "If these failures are not expected, you can try to debug them by setting error_score='raise'.\n",
            "\n",
            "Below are more details about the failures:\n",
            "--------------------------------------------------------------------------------\n",
            "300 fits failed with the following error:\n",
            "Traceback (most recent call last):\n",
            "  File \"/usr/local/lib/python3.7/dist-packages/sklearn/model_selection/_validation.py\", line 680, in _fit_and_score\n",
            "    estimator.fit(X_train, y_train, **fit_params)\n",
            "  File \"/usr/local/lib/python3.7/dist-packages/sklearn/linear_model/_logistic.py\", line 1461, in fit\n",
            "    solver = _check_solver(self.solver, self.penalty, self.dual)\n",
            "  File \"/usr/local/lib/python3.7/dist-packages/sklearn/linear_model/_logistic.py\", line 449, in _check_solver\n",
            "    % (solver, penalty)\n",
            "ValueError: Solver lbfgs supports only 'l2' or 'none' penalties, got l1 penalty.\n",
            "\n",
            "--------------------------------------------------------------------------------\n",
            "300 fits failed with the following error:\n",
            "Traceback (most recent call last):\n",
            "  File \"/usr/local/lib/python3.7/dist-packages/sklearn/model_selection/_validation.py\", line 680, in _fit_and_score\n",
            "    estimator.fit(X_train, y_train, **fit_params)\n",
            "  File \"/usr/local/lib/python3.7/dist-packages/sklearn/linear_model/_logistic.py\", line 1461, in fit\n",
            "    solver = _check_solver(self.solver, self.penalty, self.dual)\n",
            "  File \"/usr/local/lib/python3.7/dist-packages/sklearn/linear_model/_logistic.py\", line 449, in _check_solver\n",
            "    % (solver, penalty)\n",
            "ValueError: Solver lbfgs supports only 'l2' or 'none' penalties, got elasticnet penalty.\n",
            "\n",
            "  warnings.warn(some_fits_failed_message, FitFailedWarning)\n",
            "/usr/local/lib/python3.7/dist-packages/sklearn/model_selection/_search.py:972: UserWarning: One or more of the test scores are non-finite: [       nan 0.80077778        nan        nan 0.79855556        nan\n",
            "        nan 0.79855556        nan        nan 0.79855556        nan\n",
            "        nan 0.79855556        nan        nan 0.79855556        nan\n",
            "        nan 0.79855556        nan        nan 0.79855556        nan\n",
            "        nan 0.79855556        nan        nan 0.79855556        nan\n",
            "        nan 0.80077778        nan        nan 0.80988889        nan\n",
            "        nan 0.80988889        nan        nan 0.80988889        nan\n",
            "        nan 0.80988889        nan        nan 0.80988889        nan\n",
            "        nan 0.80988889        nan        nan 0.80988889        nan\n",
            "        nan 0.80988889        nan        nan 0.80988889        nan\n",
            "        nan 0.80077778        nan        nan 0.80955556        nan\n",
            "        nan 0.80955556        nan        nan 0.80955556        nan\n",
            "        nan 0.80955556        nan        nan 0.80955556        nan\n",
            "        nan 0.80955556        nan        nan 0.80955556        nan\n",
            "        nan 0.80955556        nan        nan 0.80955556        nan\n",
            "        nan 0.80077778        nan        nan 0.80966667        nan\n",
            "        nan 0.80966667        nan        nan 0.80966667        nan\n",
            "        nan 0.80966667        nan        nan 0.80966667        nan\n",
            "        nan 0.80966667        nan        nan 0.80966667        nan\n",
            "        nan 0.80966667        nan        nan 0.80966667        nan\n",
            "        nan 0.80077778        nan        nan 0.80966667        nan\n",
            "        nan 0.80966667        nan        nan 0.80966667        nan\n",
            "        nan 0.80966667        nan        nan 0.80966667        nan\n",
            "        nan 0.80966667        nan        nan 0.80966667        nan\n",
            "        nan 0.80966667        nan        nan 0.80966667        nan\n",
            "        nan 0.80077778        nan        nan 0.80966667        nan\n",
            "        nan 0.80966667        nan        nan 0.80966667        nan\n",
            "        nan 0.80966667        nan        nan 0.80966667        nan\n",
            "        nan 0.80966667        nan        nan 0.80966667        nan\n",
            "        nan 0.80966667        nan        nan 0.80966667        nan]\n",
            "  category=UserWarning,\n"
          ]
        },
        {
          "data": {
            "text/plain": [
              "GridSearchCV(estimator=LogisticRegression(),\n",
              "             param_grid={'C': [0.001, 0.1, 1, 3, 5, 7],\n",
              "                         'max_iter': array([  1.,  12.,  23.,  34.,  45.,  56.,  67.,  78.,  89., 100.]),\n",
              "                         'penalty': ['l1', 'l2', 'elasticnet']},\n",
              "             verbose=2)"
            ]
          },
          "execution_count": 118,
          "metadata": {},
          "output_type": "execute_result"
        }
      ],
      "source": [
        "grid.fit(X_train, y_train)"
      ]
    },
    {
      "cell_type": "code",
      "execution_count": 119,
      "metadata": {
        "colab": {
          "base_uri": "https://localhost:8080/"
        },
        "id": "wXuv03U1GLCo",
        "outputId": "cbe15e8d-99d5-42af-fe98-146a800c0ff6"
      },
      "outputs": [
        {
          "data": {
            "text/plain": [
              "LogisticRegression(C=0.1, max_iter=12.0)"
            ]
          },
          "execution_count": 119,
          "metadata": {},
          "output_type": "execute_result"
        }
      ],
      "source": [
        "grid.best_estimator_"
      ]
    },
    {
      "cell_type": "code",
      "execution_count": 122,
      "metadata": {
        "id": "MWeWlz3uGlx7"
      },
      "outputs": [],
      "source": [
        "final_lr = LogisticRegression(penalty='l2', C=0.1, max_iter=12.0)"
      ]
    },
    {
      "cell_type": "code",
      "execution_count": 125,
      "metadata": {
        "id": "WrafuWyLHp2Y"
      },
      "outputs": [],
      "source": [
        "def get_model_preds(model):\n",
        "  model.fit(X_train, y_train)\n",
        "  preds = model.predict(X_test)\n",
        "  print(classification_report(y_test, preds))"
      ]
    },
    {
      "cell_type": "code",
      "execution_count": 123,
      "metadata": {
        "colab": {
          "base_uri": "https://localhost:8080/"
        },
        "id": "qigDWpDcGxN-",
        "outputId": "d8eefc01-2760-4d5d-e6b4-cf723b7a9479"
      },
      "outputs": [
        {
          "name": "stdout",
          "output_type": "stream",
          "text": [
            "              precision    recall  f1-score   support\n",
            "\n",
            "           0       0.83      0.95      0.89       809\n",
            "           1       0.50      0.19      0.28       191\n",
            "\n",
            "    accuracy                           0.81      1000\n",
            "   macro avg       0.67      0.57      0.58      1000\n",
            "weighted avg       0.77      0.81      0.77      1000\n",
            "\n"
          ]
        }
      ],
      "source": [
        "final_lr.fit(X_train, y_train)\n",
        "\n",
        "preds = lr.predict(X_test)\n",
        "\n",
        "print(classification_report(y_test, preds))"
      ]
    },
    {
      "cell_type": "code",
      "execution_count": 124,
      "metadata": {
        "id": "RLKhQ0LtHBU2"
      },
      "outputs": [],
      "source": [
        "svc = SVC()"
      ]
    },
    {
      "cell_type": "code",
      "execution_count": 126,
      "metadata": {
        "colab": {
          "base_uri": "https://localhost:8080/"
        },
        "id": "ECPBvUmmHdLo",
        "outputId": "a1e889e3-3b94-44eb-a633-8aa336ffaa72"
      },
      "outputs": [
        {
          "name": "stdout",
          "output_type": "stream",
          "text": [
            "              precision    recall  f1-score   support\n",
            "\n",
            "           0       0.87      0.98      0.92       809\n",
            "           1       0.79      0.39      0.52       191\n",
            "\n",
            "    accuracy                           0.86      1000\n",
            "   macro avg       0.83      0.68      0.72      1000\n",
            "weighted avg       0.85      0.86      0.84      1000\n",
            "\n"
          ]
        }
      ],
      "source": [
        "get_model_preds(svc)"
      ]
    },
    {
      "cell_type": "code",
      "execution_count": 133,
      "metadata": {
        "id": "FwuYLqCyIJo9"
      },
      "outputs": [],
      "source": [
        "grid_params = {\n",
        "    'C': [0.01, 0.1, 1, 3, 5],\n",
        "    'kernel': ['poly', 'rbf', 'sigmoid'],\n",
        "    'gamma': ['auto'],\n",
        "    'degree': [1, 3, 5, 7]\n",
        "}"
      ]
    },
    {
      "cell_type": "code",
      "execution_count": 130,
      "metadata": {
        "id": "a68anSyoI1ZM"
      },
      "outputs": [],
      "source": [
        "svc_grid = SVC()"
      ]
    },
    {
      "cell_type": "code",
      "execution_count": 135,
      "metadata": {
        "id": "fKNNG4mPIBko"
      },
      "outputs": [],
      "source": [
        "grid = GridSearchCV(svc_grid, grid_params, verbose=2)"
      ]
    },
    {
      "cell_type": "code",
      "execution_count": 136,
      "metadata": {
        "colab": {
          "base_uri": "https://localhost:8080/"
        },
        "id": "zlOtnTYBJCPh",
        "outputId": "596d9d6a-37b7-4081-f9af-23b7a1b18578"
      },
      "outputs": [
        {
          "name": "stdout",
          "output_type": "stream",
          "text": [
            "Fitting 5 folds for each of 60 candidates, totalling 300 fits\n",
            "[CV] END ..........C=0.01, degree=1, gamma=auto, kernel=poly; total time=   1.1s\n",
            "[CV] END ..........C=0.01, degree=1, gamma=auto, kernel=poly; total time=   1.0s\n",
            "[CV] END ..........C=0.01, degree=1, gamma=auto, kernel=poly; total time=   1.0s\n",
            "[CV] END ..........C=0.01, degree=1, gamma=auto, kernel=poly; total time=   1.0s\n",
            "[CV] END ..........C=0.01, degree=1, gamma=auto, kernel=poly; total time=   1.0s\n",
            "[CV] END ...........C=0.01, degree=1, gamma=auto, kernel=rbf; total time=   1.8s\n",
            "[CV] END ...........C=0.01, degree=1, gamma=auto, kernel=rbf; total time=   1.8s\n",
            "[CV] END ...........C=0.01, degree=1, gamma=auto, kernel=rbf; total time=   1.8s\n",
            "[CV] END ...........C=0.01, degree=1, gamma=auto, kernel=rbf; total time=   1.8s\n",
            "[CV] END ...........C=0.01, degree=1, gamma=auto, kernel=rbf; total time=   1.8s\n",
            "[CV] END .......C=0.01, degree=1, gamma=auto, kernel=sigmoid; total time=   2.8s\n",
            "[CV] END .......C=0.01, degree=1, gamma=auto, kernel=sigmoid; total time=   2.7s\n",
            "[CV] END .......C=0.01, degree=1, gamma=auto, kernel=sigmoid; total time=   2.7s\n",
            "[CV] END .......C=0.01, degree=1, gamma=auto, kernel=sigmoid; total time=   2.6s\n",
            "[CV] END .......C=0.01, degree=1, gamma=auto, kernel=sigmoid; total time=   2.5s\n",
            "[CV] END ..........C=0.01, degree=3, gamma=auto, kernel=poly; total time=   1.2s\n",
            "[CV] END ..........C=0.01, degree=3, gamma=auto, kernel=poly; total time=   1.2s\n",
            "[CV] END ..........C=0.01, degree=3, gamma=auto, kernel=poly; total time=   1.2s\n",
            "[CV] END ..........C=0.01, degree=3, gamma=auto, kernel=poly; total time=   1.2s\n",
            "[CV] END ..........C=0.01, degree=3, gamma=auto, kernel=poly; total time=   1.2s\n",
            "[CV] END ...........C=0.01, degree=3, gamma=auto, kernel=rbf; total time=   1.8s\n",
            "[CV] END ...........C=0.01, degree=3, gamma=auto, kernel=rbf; total time=   1.8s\n",
            "[CV] END ...........C=0.01, degree=3, gamma=auto, kernel=rbf; total time=   1.8s\n",
            "[CV] END ...........C=0.01, degree=3, gamma=auto, kernel=rbf; total time=   1.8s\n",
            "[CV] END ...........C=0.01, degree=3, gamma=auto, kernel=rbf; total time=   1.8s\n",
            "[CV] END .......C=0.01, degree=3, gamma=auto, kernel=sigmoid; total time=   2.7s\n",
            "[CV] END .......C=0.01, degree=3, gamma=auto, kernel=sigmoid; total time=   2.7s\n",
            "[CV] END .......C=0.01, degree=3, gamma=auto, kernel=sigmoid; total time=   2.7s\n",
            "[CV] END .......C=0.01, degree=3, gamma=auto, kernel=sigmoid; total time=   3.1s\n",
            "[CV] END .......C=0.01, degree=3, gamma=auto, kernel=sigmoid; total time=   2.6s\n",
            "[CV] END ..........C=0.01, degree=5, gamma=auto, kernel=poly; total time=   1.4s\n",
            "[CV] END ..........C=0.01, degree=5, gamma=auto, kernel=poly; total time=   1.4s\n",
            "[CV] END ..........C=0.01, degree=5, gamma=auto, kernel=poly; total time=   1.5s\n",
            "[CV] END ..........C=0.01, degree=5, gamma=auto, kernel=poly; total time=   1.4s\n",
            "[CV] END ..........C=0.01, degree=5, gamma=auto, kernel=poly; total time=   1.4s\n",
            "[CV] END ...........C=0.01, degree=5, gamma=auto, kernel=rbf; total time=   1.8s\n",
            "[CV] END ...........C=0.01, degree=5, gamma=auto, kernel=rbf; total time=   1.8s\n",
            "[CV] END ...........C=0.01, degree=5, gamma=auto, kernel=rbf; total time=   1.9s\n",
            "[CV] END ...........C=0.01, degree=5, gamma=auto, kernel=rbf; total time=   1.8s\n",
            "[CV] END ...........C=0.01, degree=5, gamma=auto, kernel=rbf; total time=   1.8s\n",
            "[CV] END .......C=0.01, degree=5, gamma=auto, kernel=sigmoid; total time=   2.7s\n",
            "[CV] END .......C=0.01, degree=5, gamma=auto, kernel=sigmoid; total time=   2.6s\n",
            "[CV] END .......C=0.01, degree=5, gamma=auto, kernel=sigmoid; total time=   2.7s\n",
            "[CV] END .......C=0.01, degree=5, gamma=auto, kernel=sigmoid; total time=   2.6s\n",
            "[CV] END .......C=0.01, degree=5, gamma=auto, kernel=sigmoid; total time=   2.4s\n",
            "[CV] END ..........C=0.01, degree=7, gamma=auto, kernel=poly; total time=   1.5s\n",
            "[CV] END ..........C=0.01, degree=7, gamma=auto, kernel=poly; total time=   1.5s\n",
            "[CV] END ..........C=0.01, degree=7, gamma=auto, kernel=poly; total time=   1.5s\n",
            "[CV] END ..........C=0.01, degree=7, gamma=auto, kernel=poly; total time=   1.4s\n",
            "[CV] END ..........C=0.01, degree=7, gamma=auto, kernel=poly; total time=   4.2s\n",
            "[CV] END ...........C=0.01, degree=7, gamma=auto, kernel=rbf; total time=   3.2s\n",
            "[CV] END ...........C=0.01, degree=7, gamma=auto, kernel=rbf; total time=   1.8s\n",
            "[CV] END ...........C=0.01, degree=7, gamma=auto, kernel=rbf; total time=   1.8s\n",
            "[CV] END ...........C=0.01, degree=7, gamma=auto, kernel=rbf; total time=   1.8s\n",
            "[CV] END ...........C=0.01, degree=7, gamma=auto, kernel=rbf; total time=   1.8s\n",
            "[CV] END .......C=0.01, degree=7, gamma=auto, kernel=sigmoid; total time=   2.8s\n",
            "[CV] END .......C=0.01, degree=7, gamma=auto, kernel=sigmoid; total time=   2.6s\n",
            "[CV] END .......C=0.01, degree=7, gamma=auto, kernel=sigmoid; total time=   2.7s\n",
            "[CV] END .......C=0.01, degree=7, gamma=auto, kernel=sigmoid; total time=   2.6s\n",
            "[CV] END .......C=0.01, degree=7, gamma=auto, kernel=sigmoid; total time=   2.5s\n",
            "[CV] END ...........C=0.1, degree=1, gamma=auto, kernel=poly; total time=   1.0s\n",
            "[CV] END ...........C=0.1, degree=1, gamma=auto, kernel=poly; total time=   1.0s\n",
            "[CV] END ...........C=0.1, degree=1, gamma=auto, kernel=poly; total time=   1.0s\n",
            "[CV] END ...........C=0.1, degree=1, gamma=auto, kernel=poly; total time=   1.0s\n",
            "[CV] END ...........C=0.1, degree=1, gamma=auto, kernel=poly; total time=   1.0s\n",
            "[CV] END ............C=0.1, degree=1, gamma=auto, kernel=rbf; total time=   1.8s\n",
            "[CV] END ............C=0.1, degree=1, gamma=auto, kernel=rbf; total time=   1.8s\n",
            "[CV] END ............C=0.1, degree=1, gamma=auto, kernel=rbf; total time=   1.8s\n",
            "[CV] END ............C=0.1, degree=1, gamma=auto, kernel=rbf; total time=   1.8s\n",
            "[CV] END ............C=0.1, degree=1, gamma=auto, kernel=rbf; total time=   1.8s\n",
            "[CV] END ........C=0.1, degree=1, gamma=auto, kernel=sigmoid; total time=   2.6s\n",
            "[CV] END ........C=0.1, degree=1, gamma=auto, kernel=sigmoid; total time=   2.6s\n",
            "[CV] END ........C=0.1, degree=1, gamma=auto, kernel=sigmoid; total time=   2.7s\n",
            "[CV] END ........C=0.1, degree=1, gamma=auto, kernel=sigmoid; total time=   2.6s\n",
            "[CV] END ........C=0.1, degree=1, gamma=auto, kernel=sigmoid; total time=   2.8s\n",
            "[CV] END ...........C=0.1, degree=3, gamma=auto, kernel=poly; total time=   1.2s\n",
            "[CV] END ...........C=0.1, degree=3, gamma=auto, kernel=poly; total time=   1.2s\n",
            "[CV] END ...........C=0.1, degree=3, gamma=auto, kernel=poly; total time=   1.2s\n",
            "[CV] END ...........C=0.1, degree=3, gamma=auto, kernel=poly; total time=   1.2s\n",
            "[CV] END ...........C=0.1, degree=3, gamma=auto, kernel=poly; total time=   1.2s\n",
            "[CV] END ............C=0.1, degree=3, gamma=auto, kernel=rbf; total time=   1.8s\n",
            "[CV] END ............C=0.1, degree=3, gamma=auto, kernel=rbf; total time=   1.8s\n",
            "[CV] END ............C=0.1, degree=3, gamma=auto, kernel=rbf; total time=   1.8s\n",
            "[CV] END ............C=0.1, degree=3, gamma=auto, kernel=rbf; total time=   1.8s\n",
            "[CV] END ............C=0.1, degree=3, gamma=auto, kernel=rbf; total time=   1.8s\n",
            "[CV] END ........C=0.1, degree=3, gamma=auto, kernel=sigmoid; total time=   2.6s\n",
            "[CV] END ........C=0.1, degree=3, gamma=auto, kernel=sigmoid; total time=   2.6s\n",
            "[CV] END ........C=0.1, degree=3, gamma=auto, kernel=sigmoid; total time=   2.7s\n",
            "[CV] END ........C=0.1, degree=3, gamma=auto, kernel=sigmoid; total time=   2.6s\n",
            "[CV] END ........C=0.1, degree=3, gamma=auto, kernel=sigmoid; total time=   2.8s\n",
            "[CV] END ...........C=0.1, degree=5, gamma=auto, kernel=poly; total time=   1.4s\n",
            "[CV] END ...........C=0.1, degree=5, gamma=auto, kernel=poly; total time=   1.4s\n",
            "[CV] END ...........C=0.1, degree=5, gamma=auto, kernel=poly; total time=   1.4s\n",
            "[CV] END ...........C=0.1, degree=5, gamma=auto, kernel=poly; total time=   1.4s\n",
            "[CV] END ...........C=0.1, degree=5, gamma=auto, kernel=poly; total time=   1.4s\n",
            "[CV] END ............C=0.1, degree=5, gamma=auto, kernel=rbf; total time=   1.8s\n",
            "[CV] END ............C=0.1, degree=5, gamma=auto, kernel=rbf; total time=   1.8s\n",
            "[CV] END ............C=0.1, degree=5, gamma=auto, kernel=rbf; total time=   1.8s\n",
            "[CV] END ............C=0.1, degree=5, gamma=auto, kernel=rbf; total time=   1.8s\n",
            "[CV] END ............C=0.1, degree=5, gamma=auto, kernel=rbf; total time=   1.8s\n",
            "[CV] END ........C=0.1, degree=5, gamma=auto, kernel=sigmoid; total time=   2.6s\n",
            "[CV] END ........C=0.1, degree=5, gamma=auto, kernel=sigmoid; total time=   2.6s\n",
            "[CV] END ........C=0.1, degree=5, gamma=auto, kernel=sigmoid; total time=   2.6s\n",
            "[CV] END ........C=0.1, degree=5, gamma=auto, kernel=sigmoid; total time=   2.6s\n",
            "[CV] END ........C=0.1, degree=5, gamma=auto, kernel=sigmoid; total time=   2.8s\n",
            "[CV] END ...........C=0.1, degree=7, gamma=auto, kernel=poly; total time=   1.5s\n",
            "[CV] END ...........C=0.1, degree=7, gamma=auto, kernel=poly; total time=   1.5s\n",
            "[CV] END ...........C=0.1, degree=7, gamma=auto, kernel=poly; total time=   1.5s\n",
            "[CV] END ...........C=0.1, degree=7, gamma=auto, kernel=poly; total time=   1.5s\n",
            "[CV] END ...........C=0.1, degree=7, gamma=auto, kernel=poly; total time=   1.5s\n",
            "[CV] END ............C=0.1, degree=7, gamma=auto, kernel=rbf; total time=   1.8s\n",
            "[CV] END ............C=0.1, degree=7, gamma=auto, kernel=rbf; total time=   1.8s\n",
            "[CV] END ............C=0.1, degree=7, gamma=auto, kernel=rbf; total time=   1.8s\n",
            "[CV] END ............C=0.1, degree=7, gamma=auto, kernel=rbf; total time=   1.8s\n",
            "[CV] END ............C=0.1, degree=7, gamma=auto, kernel=rbf; total time=   1.8s\n",
            "[CV] END ........C=0.1, degree=7, gamma=auto, kernel=sigmoid; total time=   2.6s\n",
            "[CV] END ........C=0.1, degree=7, gamma=auto, kernel=sigmoid; total time=   2.6s\n",
            "[CV] END ........C=0.1, degree=7, gamma=auto, kernel=sigmoid; total time=   2.7s\n",
            "[CV] END ........C=0.1, degree=7, gamma=auto, kernel=sigmoid; total time=   2.6s\n",
            "[CV] END ........C=0.1, degree=7, gamma=auto, kernel=sigmoid; total time=   2.8s\n",
            "[CV] END .............C=1, degree=1, gamma=auto, kernel=poly; total time=   1.0s\n",
            "[CV] END .............C=1, degree=1, gamma=auto, kernel=poly; total time=   1.0s\n",
            "[CV] END .............C=1, degree=1, gamma=auto, kernel=poly; total time=   1.0s\n",
            "[CV] END .............C=1, degree=1, gamma=auto, kernel=poly; total time=   1.0s\n",
            "[CV] END .............C=1, degree=1, gamma=auto, kernel=poly; total time=   1.0s\n",
            "[CV] END ..............C=1, degree=1, gamma=auto, kernel=rbf; total time=   1.9s\n",
            "[CV] END ..............C=1, degree=1, gamma=auto, kernel=rbf; total time=   1.8s\n",
            "[CV] END ..............C=1, degree=1, gamma=auto, kernel=rbf; total time=   1.9s\n",
            "[CV] END ..............C=1, degree=1, gamma=auto, kernel=rbf; total time=   1.8s\n",
            "[CV] END ..............C=1, degree=1, gamma=auto, kernel=rbf; total time=   1.8s\n",
            "[CV] END ..........C=1, degree=1, gamma=auto, kernel=sigmoid; total time=   2.7s\n",
            "[CV] END ..........C=1, degree=1, gamma=auto, kernel=sigmoid; total time=   2.3s\n",
            "[CV] END ..........C=1, degree=1, gamma=auto, kernel=sigmoid; total time=   2.5s\n",
            "[CV] END ..........C=1, degree=1, gamma=auto, kernel=sigmoid; total time=   2.7s\n",
            "[CV] END ..........C=1, degree=1, gamma=auto, kernel=sigmoid; total time=   2.2s\n",
            "[CV] END .............C=1, degree=3, gamma=auto, kernel=poly; total time=   1.4s\n",
            "[CV] END .............C=1, degree=3, gamma=auto, kernel=poly; total time=   1.4s\n",
            "[CV] END .............C=1, degree=3, gamma=auto, kernel=poly; total time=   1.4s\n",
            "[CV] END .............C=1, degree=3, gamma=auto, kernel=poly; total time=   1.4s\n",
            "[CV] END .............C=1, degree=3, gamma=auto, kernel=poly; total time=   1.4s\n",
            "[CV] END ..............C=1, degree=3, gamma=auto, kernel=rbf; total time=   1.9s\n",
            "[CV] END ..............C=1, degree=3, gamma=auto, kernel=rbf; total time=   1.8s\n",
            "[CV] END ..............C=1, degree=3, gamma=auto, kernel=rbf; total time=   1.8s\n",
            "[CV] END ..............C=1, degree=3, gamma=auto, kernel=rbf; total time=   1.9s\n",
            "[CV] END ..............C=1, degree=3, gamma=auto, kernel=rbf; total time=   1.8s\n",
            "[CV] END ..........C=1, degree=3, gamma=auto, kernel=sigmoid; total time=   2.7s\n",
            "[CV] END ..........C=1, degree=3, gamma=auto, kernel=sigmoid; total time=   2.3s\n",
            "[CV] END ..........C=1, degree=3, gamma=auto, kernel=sigmoid; total time=   2.5s\n",
            "[CV] END ..........C=1, degree=3, gamma=auto, kernel=sigmoid; total time=   2.7s\n",
            "[CV] END ..........C=1, degree=3, gamma=auto, kernel=sigmoid; total time=   2.2s\n",
            "[CV] END .............C=1, degree=5, gamma=auto, kernel=poly; total time=   1.6s\n",
            "[CV] END .............C=1, degree=5, gamma=auto, kernel=poly; total time=   1.5s\n",
            "[CV] END .............C=1, degree=5, gamma=auto, kernel=poly; total time=   1.6s\n",
            "[CV] END .............C=1, degree=5, gamma=auto, kernel=poly; total time=   1.6s\n",
            "[CV] END .............C=1, degree=5, gamma=auto, kernel=poly; total time=   1.6s\n",
            "[CV] END ..............C=1, degree=5, gamma=auto, kernel=rbf; total time=   1.9s\n",
            "[CV] END ..............C=1, degree=5, gamma=auto, kernel=rbf; total time=   1.8s\n",
            "[CV] END ..............C=1, degree=5, gamma=auto, kernel=rbf; total time=   1.8s\n",
            "[CV] END ..............C=1, degree=5, gamma=auto, kernel=rbf; total time=   1.8s\n",
            "[CV] END ..............C=1, degree=5, gamma=auto, kernel=rbf; total time=   1.8s\n",
            "[CV] END ..........C=1, degree=5, gamma=auto, kernel=sigmoid; total time=   2.7s\n",
            "[CV] END ..........C=1, degree=5, gamma=auto, kernel=sigmoid; total time=   2.3s\n",
            "[CV] END ..........C=1, degree=5, gamma=auto, kernel=sigmoid; total time=   2.5s\n",
            "[CV] END ..........C=1, degree=5, gamma=auto, kernel=sigmoid; total time=   2.7s\n",
            "[CV] END ..........C=1, degree=5, gamma=auto, kernel=sigmoid; total time=   2.2s\n",
            "[CV] END .............C=1, degree=7, gamma=auto, kernel=poly; total time=   1.7s\n",
            "[CV] END .............C=1, degree=7, gamma=auto, kernel=poly; total time=   1.7s\n",
            "[CV] END .............C=1, degree=7, gamma=auto, kernel=poly; total time=   1.7s\n",
            "[CV] END .............C=1, degree=7, gamma=auto, kernel=poly; total time=   1.7s\n",
            "[CV] END .............C=1, degree=7, gamma=auto, kernel=poly; total time=   1.7s\n",
            "[CV] END ..............C=1, degree=7, gamma=auto, kernel=rbf; total time=   1.9s\n",
            "[CV] END ..............C=1, degree=7, gamma=auto, kernel=rbf; total time=   1.8s\n",
            "[CV] END ..............C=1, degree=7, gamma=auto, kernel=rbf; total time=   1.8s\n",
            "[CV] END ..............C=1, degree=7, gamma=auto, kernel=rbf; total time=   1.8s\n",
            "[CV] END ..............C=1, degree=7, gamma=auto, kernel=rbf; total time=   1.8s\n",
            "[CV] END ..........C=1, degree=7, gamma=auto, kernel=sigmoid; total time=   2.7s\n",
            "[CV] END ..........C=1, degree=7, gamma=auto, kernel=sigmoid; total time=   2.3s\n",
            "[CV] END ..........C=1, degree=7, gamma=auto, kernel=sigmoid; total time=   2.5s\n",
            "[CV] END ..........C=1, degree=7, gamma=auto, kernel=sigmoid; total time=   2.7s\n",
            "[CV] END ..........C=1, degree=7, gamma=auto, kernel=sigmoid; total time=   2.2s\n",
            "[CV] END .............C=3, degree=1, gamma=auto, kernel=poly; total time=   1.1s\n",
            "[CV] END .............C=3, degree=1, gamma=auto, kernel=poly; total time=   1.1s\n",
            "[CV] END .............C=3, degree=1, gamma=auto, kernel=poly; total time=   1.2s\n",
            "[CV] END .............C=3, degree=1, gamma=auto, kernel=poly; total time=   1.1s\n",
            "[CV] END .............C=3, degree=1, gamma=auto, kernel=poly; total time=   1.1s\n",
            "[CV] END ..............C=3, degree=1, gamma=auto, kernel=rbf; total time=   2.0s\n",
            "[CV] END ..............C=3, degree=1, gamma=auto, kernel=rbf; total time=   2.0s\n",
            "[CV] END ..............C=3, degree=1, gamma=auto, kernel=rbf; total time=   2.0s\n",
            "[CV] END ..............C=3, degree=1, gamma=auto, kernel=rbf; total time=   2.0s\n",
            "[CV] END ..............C=3, degree=1, gamma=auto, kernel=rbf; total time=   1.9s\n",
            "[CV] END ..........C=3, degree=1, gamma=auto, kernel=sigmoid; total time=   2.3s\n",
            "[CV] END ..........C=3, degree=1, gamma=auto, kernel=sigmoid; total time=   2.5s\n",
            "[CV] END ..........C=3, degree=1, gamma=auto, kernel=sigmoid; total time=   2.2s\n",
            "[CV] END ..........C=3, degree=1, gamma=auto, kernel=sigmoid; total time=   2.3s\n",
            "[CV] END ..........C=3, degree=1, gamma=auto, kernel=sigmoid; total time=   2.3s\n",
            "[CV] END .............C=3, degree=3, gamma=auto, kernel=poly; total time=   1.8s\n",
            "[CV] END .............C=3, degree=3, gamma=auto, kernel=poly; total time=   1.7s\n",
            "[CV] END .............C=3, degree=3, gamma=auto, kernel=poly; total time=   1.8s\n",
            "[CV] END .............C=3, degree=3, gamma=auto, kernel=poly; total time=   1.8s\n",
            "[CV] END .............C=3, degree=3, gamma=auto, kernel=poly; total time=   1.7s\n",
            "[CV] END ..............C=3, degree=3, gamma=auto, kernel=rbf; total time=   2.0s\n",
            "[CV] END ..............C=3, degree=3, gamma=auto, kernel=rbf; total time=   2.0s\n",
            "[CV] END ..............C=3, degree=3, gamma=auto, kernel=rbf; total time=   2.0s\n",
            "[CV] END ..............C=3, degree=3, gamma=auto, kernel=rbf; total time=   2.0s\n",
            "[CV] END ..............C=3, degree=3, gamma=auto, kernel=rbf; total time=   1.9s\n",
            "[CV] END ..........C=3, degree=3, gamma=auto, kernel=sigmoid; total time=   2.3s\n",
            "[CV] END ..........C=3, degree=3, gamma=auto, kernel=sigmoid; total time=   2.5s\n",
            "[CV] END ..........C=3, degree=3, gamma=auto, kernel=sigmoid; total time=   2.2s\n",
            "[CV] END ..........C=3, degree=3, gamma=auto, kernel=sigmoid; total time=   2.3s\n",
            "[CV] END ..........C=3, degree=3, gamma=auto, kernel=sigmoid; total time=   2.3s\n",
            "[CV] END .............C=3, degree=5, gamma=auto, kernel=poly; total time=   1.9s\n",
            "[CV] END .............C=3, degree=5, gamma=auto, kernel=poly; total time=   1.9s\n",
            "[CV] END .............C=3, degree=5, gamma=auto, kernel=poly; total time=   1.9s\n",
            "[CV] END .............C=3, degree=5, gamma=auto, kernel=poly; total time=   1.8s\n",
            "[CV] END .............C=3, degree=5, gamma=auto, kernel=poly; total time=   1.8s\n",
            "[CV] END ..............C=3, degree=5, gamma=auto, kernel=rbf; total time=   2.0s\n",
            "[CV] END ..............C=3, degree=5, gamma=auto, kernel=rbf; total time=   2.0s\n",
            "[CV] END ..............C=3, degree=5, gamma=auto, kernel=rbf; total time=   2.2s\n",
            "[CV] END ..............C=3, degree=5, gamma=auto, kernel=rbf; total time=   4.7s\n",
            "[CV] END ..............C=3, degree=5, gamma=auto, kernel=rbf; total time=   4.4s\n",
            "[CV] END ..........C=3, degree=5, gamma=auto, kernel=sigmoid; total time=   5.9s\n",
            "[CV] END ..........C=3, degree=5, gamma=auto, kernel=sigmoid; total time=   5.2s\n",
            "[CV] END ..........C=3, degree=5, gamma=auto, kernel=sigmoid; total time=   2.5s\n",
            "[CV] END ..........C=3, degree=5, gamma=auto, kernel=sigmoid; total time=   2.3s\n",
            "[CV] END ..........C=3, degree=5, gamma=auto, kernel=sigmoid; total time=   2.3s\n",
            "[CV] END .............C=3, degree=7, gamma=auto, kernel=poly; total time=   2.0s\n",
            "[CV] END .............C=3, degree=7, gamma=auto, kernel=poly; total time=   2.0s\n",
            "[CV] END .............C=3, degree=7, gamma=auto, kernel=poly; total time=   2.0s\n",
            "[CV] END .............C=3, degree=7, gamma=auto, kernel=poly; total time=   1.9s\n",
            "[CV] END .............C=3, degree=7, gamma=auto, kernel=poly; total time=   2.0s\n",
            "[CV] END ..............C=3, degree=7, gamma=auto, kernel=rbf; total time=   2.0s\n",
            "[CV] END ..............C=3, degree=7, gamma=auto, kernel=rbf; total time=   2.0s\n",
            "[CV] END ..............C=3, degree=7, gamma=auto, kernel=rbf; total time=   2.0s\n",
            "[CV] END ..............C=3, degree=7, gamma=auto, kernel=rbf; total time=   2.0s\n",
            "[CV] END ..............C=3, degree=7, gamma=auto, kernel=rbf; total time=   1.9s\n",
            "[CV] END ..........C=3, degree=7, gamma=auto, kernel=sigmoid; total time=   2.3s\n",
            "[CV] END ..........C=3, degree=7, gamma=auto, kernel=sigmoid; total time=   2.5s\n",
            "[CV] END ..........C=3, degree=7, gamma=auto, kernel=sigmoid; total time=   2.2s\n",
            "[CV] END ..........C=3, degree=7, gamma=auto, kernel=sigmoid; total time=   2.3s\n",
            "[CV] END ..........C=3, degree=7, gamma=auto, kernel=sigmoid; total time=   2.3s\n",
            "[CV] END .............C=5, degree=1, gamma=auto, kernel=poly; total time=   1.2s\n",
            "[CV] END .............C=5, degree=1, gamma=auto, kernel=poly; total time=   1.1s\n",
            "[CV] END .............C=5, degree=1, gamma=auto, kernel=poly; total time=   1.2s\n",
            "[CV] END .............C=5, degree=1, gamma=auto, kernel=poly; total time=   1.2s\n",
            "[CV] END .............C=5, degree=1, gamma=auto, kernel=poly; total time=   1.2s\n",
            "[CV] END ..............C=5, degree=1, gamma=auto, kernel=rbf; total time=   2.1s\n",
            "[CV] END ..............C=5, degree=1, gamma=auto, kernel=rbf; total time=   2.1s\n",
            "[CV] END ..............C=5, degree=1, gamma=auto, kernel=rbf; total time=   2.1s\n",
            "[CV] END ..............C=5, degree=1, gamma=auto, kernel=rbf; total time=   2.1s\n",
            "[CV] END ..............C=5, degree=1, gamma=auto, kernel=rbf; total time=   2.1s\n",
            "[CV] END ..........C=5, degree=1, gamma=auto, kernel=sigmoid; total time=   2.6s\n",
            "[CV] END ..........C=5, degree=1, gamma=auto, kernel=sigmoid; total time=   2.5s\n",
            "[CV] END ..........C=5, degree=1, gamma=auto, kernel=sigmoid; total time=   2.2s\n",
            "[CV] END ..........C=5, degree=1, gamma=auto, kernel=sigmoid; total time=   2.2s\n",
            "[CV] END ..........C=5, degree=1, gamma=auto, kernel=sigmoid; total time=   2.8s\n",
            "[CV] END .............C=5, degree=3, gamma=auto, kernel=poly; total time=   2.2s\n",
            "[CV] END .............C=5, degree=3, gamma=auto, kernel=poly; total time=   2.0s\n",
            "[CV] END .............C=5, degree=3, gamma=auto, kernel=poly; total time=   2.1s\n",
            "[CV] END .............C=5, degree=3, gamma=auto, kernel=poly; total time=   2.2s\n",
            "[CV] END .............C=5, degree=3, gamma=auto, kernel=poly; total time=   2.0s\n",
            "[CV] END ..............C=5, degree=3, gamma=auto, kernel=rbf; total time=   2.1s\n",
            "[CV] END ..............C=5, degree=3, gamma=auto, kernel=rbf; total time=   2.1s\n",
            "[CV] END ..............C=5, degree=3, gamma=auto, kernel=rbf; total time=   2.2s\n",
            "[CV] END ..............C=5, degree=3, gamma=auto, kernel=rbf; total time=   2.1s\n",
            "[CV] END ..............C=5, degree=3, gamma=auto, kernel=rbf; total time=   2.1s\n",
            "[CV] END ..........C=5, degree=3, gamma=auto, kernel=sigmoid; total time=   2.5s\n",
            "[CV] END ..........C=5, degree=3, gamma=auto, kernel=sigmoid; total time=   2.5s\n",
            "[CV] END ..........C=5, degree=3, gamma=auto, kernel=sigmoid; total time=   2.2s\n",
            "[CV] END ..........C=5, degree=3, gamma=auto, kernel=sigmoid; total time=   2.2s\n",
            "[CV] END ..........C=5, degree=3, gamma=auto, kernel=sigmoid; total time=   2.8s\n",
            "[CV] END .............C=5, degree=5, gamma=auto, kernel=poly; total time=   2.1s\n",
            "[CV] END .............C=5, degree=5, gamma=auto, kernel=poly; total time=   2.1s\n",
            "[CV] END .............C=5, degree=5, gamma=auto, kernel=poly; total time=   2.1s\n",
            "[CV] END .............C=5, degree=5, gamma=auto, kernel=poly; total time=   2.1s\n",
            "[CV] END .............C=5, degree=5, gamma=auto, kernel=poly; total time=   2.0s\n",
            "[CV] END ..............C=5, degree=5, gamma=auto, kernel=rbf; total time=   2.1s\n",
            "[CV] END ..............C=5, degree=5, gamma=auto, kernel=rbf; total time=   2.1s\n",
            "[CV] END ..............C=5, degree=5, gamma=auto, kernel=rbf; total time=   2.1s\n",
            "[CV] END ..............C=5, degree=5, gamma=auto, kernel=rbf; total time=   2.1s\n",
            "[CV] END ..............C=5, degree=5, gamma=auto, kernel=rbf; total time=   2.1s\n",
            "[CV] END ..........C=5, degree=5, gamma=auto, kernel=sigmoid; total time=   2.6s\n",
            "[CV] END ..........C=5, degree=5, gamma=auto, kernel=sigmoid; total time=   2.5s\n",
            "[CV] END ..........C=5, degree=5, gamma=auto, kernel=sigmoid; total time=   2.2s\n",
            "[CV] END ..........C=5, degree=5, gamma=auto, kernel=sigmoid; total time=   2.2s\n",
            "[CV] END ..........C=5, degree=5, gamma=auto, kernel=sigmoid; total time=   2.8s\n",
            "[CV] END .............C=5, degree=7, gamma=auto, kernel=poly; total time=   2.2s\n",
            "[CV] END .............C=5, degree=7, gamma=auto, kernel=poly; total time=   2.1s\n",
            "[CV] END .............C=5, degree=7, gamma=auto, kernel=poly; total time=   2.2s\n",
            "[CV] END .............C=5, degree=7, gamma=auto, kernel=poly; total time=   2.1s\n",
            "[CV] END .............C=5, degree=7, gamma=auto, kernel=poly; total time=   2.1s\n",
            "[CV] END ..............C=5, degree=7, gamma=auto, kernel=rbf; total time=   2.2s\n",
            "[CV] END ..............C=5, degree=7, gamma=auto, kernel=rbf; total time=   2.1s\n",
            "[CV] END ..............C=5, degree=7, gamma=auto, kernel=rbf; total time=   2.1s\n",
            "[CV] END ..............C=5, degree=7, gamma=auto, kernel=rbf; total time=   2.1s\n",
            "[CV] END ..............C=5, degree=7, gamma=auto, kernel=rbf; total time=   2.1s\n",
            "[CV] END ..........C=5, degree=7, gamma=auto, kernel=sigmoid; total time=   2.6s\n",
            "[CV] END ..........C=5, degree=7, gamma=auto, kernel=sigmoid; total time=   2.5s\n",
            "[CV] END ..........C=5, degree=7, gamma=auto, kernel=sigmoid; total time=   2.2s\n",
            "[CV] END ..........C=5, degree=7, gamma=auto, kernel=sigmoid; total time=   2.2s\n",
            "[CV] END ..........C=5, degree=7, gamma=auto, kernel=sigmoid; total time=   2.8s\n"
          ]
        },
        {
          "data": {
            "text/plain": [
              "GridSearchCV(estimator=SVC(),\n",
              "             param_grid={'C': [0.01, 0.1, 1, 3, 5], 'degree': [1, 3, 5, 7],\n",
              "                         'gamma': ['auto'],\n",
              "                         'kernel': ['poly', 'rbf', 'sigmoid']},\n",
              "             verbose=2)"
            ]
          },
          "execution_count": 136,
          "metadata": {},
          "output_type": "execute_result"
        }
      ],
      "source": [
        "grid.fit(X_train, y_train)"
      ]
    },
    {
      "cell_type": "code",
      "execution_count": 138,
      "metadata": {
        "colab": {
          "base_uri": "https://localhost:8080/"
        },
        "id": "-xUpub2_JUu6",
        "outputId": "bdcf7116-298d-402b-97e1-cebd91ade96c"
      },
      "outputs": [
        {
          "data": {
            "text/plain": [
              "{'C': 5, 'degree': 3, 'gamma': 'auto', 'kernel': 'poly'}"
            ]
          },
          "execution_count": 138,
          "metadata": {},
          "output_type": "execute_result"
        }
      ],
      "source": [
        "grid.best_params_"
      ]
    },
    {
      "cell_type": "code",
      "execution_count": 139,
      "metadata": {
        "id": "JjkMxEfOLmnK"
      },
      "outputs": [],
      "source": [
        "final_svc = SVC(C=5, degree=3, gamma='auto', kernel='poly')"
      ]
    },
    {
      "cell_type": "code",
      "execution_count": 140,
      "metadata": {
        "colab": {
          "base_uri": "https://localhost:8080/"
        },
        "id": "ECtzyy9gLz9O",
        "outputId": "f7f6026e-94a4-4abb-df67-c522d269e270"
      },
      "outputs": [
        {
          "name": "stdout",
          "output_type": "stream",
          "text": [
            "              precision    recall  f1-score   support\n",
            "\n",
            "           0       0.87      0.98      0.92       809\n",
            "           1       0.78      0.38      0.51       191\n",
            "\n",
            "    accuracy                           0.86      1000\n",
            "   macro avg       0.83      0.68      0.71      1000\n",
            "weighted avg       0.85      0.86      0.84      1000\n",
            "\n"
          ]
        }
      ],
      "source": [
        "get_model_preds(final_svc)"
      ]
    },
    {
      "cell_type": "code",
      "execution_count": 141,
      "metadata": {
        "id": "LRslfTEEMJUB"
      },
      "outputs": [],
      "source": [
        "KNN = KNeighborsClassifier()"
      ]
    },
    {
      "cell_type": "code",
      "execution_count": 142,
      "metadata": {
        "colab": {
          "base_uri": "https://localhost:8080/"
        },
        "id": "U7sUwbOIMPk5",
        "outputId": "9cc1ca29-ee2d-47fd-97c2-db0fc580a9aa"
      },
      "outputs": [
        {
          "name": "stdout",
          "output_type": "stream",
          "text": [
            "              precision    recall  f1-score   support\n",
            "\n",
            "           0       0.87      0.94      0.90       809\n",
            "           1       0.61      0.42      0.50       191\n",
            "\n",
            "    accuracy                           0.84      1000\n",
            "   macro avg       0.74      0.68      0.70      1000\n",
            "weighted avg       0.82      0.84      0.83      1000\n",
            "\n"
          ]
        }
      ],
      "source": [
        "get_model_preds(KNN)"
      ]
    },
    {
      "cell_type": "code",
      "execution_count": 148,
      "metadata": {
        "id": "5Lhsha78MU0g"
      },
      "outputs": [],
      "source": [
        "grid_params = {\n",
        "    'n_neighbors': [3, 5, 7, 9],\n",
        "}"
      ]
    },
    {
      "cell_type": "code",
      "execution_count": 150,
      "metadata": {
        "id": "1A1KTBSQMxnq"
      },
      "outputs": [],
      "source": [
        "knn_grid = KNeighborsClassifier()"
      ]
    },
    {
      "cell_type": "code",
      "execution_count": 151,
      "metadata": {
        "id": "m6HvOM07Mny1"
      },
      "outputs": [],
      "source": [
        "grid = GridSearchCV(knn_grid, grid_params, verbose=2)"
      ]
    },
    {
      "cell_type": "code",
      "execution_count": 152,
      "metadata": {
        "colab": {
          "base_uri": "https://localhost:8080/"
        },
        "id": "K9l9-4CZM9mY",
        "outputId": "d40ed330-48e4-44eb-c838-a5a6aaba7ff7"
      },
      "outputs": [
        {
          "name": "stdout",
          "output_type": "stream",
          "text": [
            "Fitting 5 folds for each of 4 candidates, totalling 20 fits\n",
            "[CV] END ......................................n_neighbors=3; total time=   0.2s\n",
            "[CV] END ......................................n_neighbors=3; total time=   0.2s\n",
            "[CV] END ......................................n_neighbors=3; total time=   0.2s\n",
            "[CV] END ......................................n_neighbors=3; total time=   0.2s\n",
            "[CV] END ......................................n_neighbors=3; total time=   0.2s\n",
            "[CV] END ......................................n_neighbors=5; total time=   0.2s\n",
            "[CV] END ......................................n_neighbors=5; total time=   0.2s\n",
            "[CV] END ......................................n_neighbors=5; total time=   0.2s\n",
            "[CV] END ......................................n_neighbors=5; total time=   0.2s\n",
            "[CV] END ......................................n_neighbors=5; total time=   0.2s\n",
            "[CV] END ......................................n_neighbors=7; total time=   0.2s\n",
            "[CV] END ......................................n_neighbors=7; total time=   0.2s\n",
            "[CV] END ......................................n_neighbors=7; total time=   0.2s\n",
            "[CV] END ......................................n_neighbors=7; total time=   0.2s\n",
            "[CV] END ......................................n_neighbors=7; total time=   0.2s\n",
            "[CV] END ......................................n_neighbors=9; total time=   0.2s\n",
            "[CV] END ......................................n_neighbors=9; total time=   0.2s\n",
            "[CV] END ......................................n_neighbors=9; total time=   0.2s\n",
            "[CV] END ......................................n_neighbors=9; total time=   0.2s\n",
            "[CV] END ......................................n_neighbors=9; total time=   0.2s\n"
          ]
        },
        {
          "data": {
            "text/plain": [
              "GridSearchCV(estimator=KNeighborsClassifier(),\n",
              "             param_grid={'n_neighbors': [3, 5, 7, 9]}, verbose=2)"
            ]
          },
          "execution_count": 152,
          "metadata": {},
          "output_type": "execute_result"
        }
      ],
      "source": [
        "grid.fit(X_train, y_train)"
      ]
    },
    {
      "cell_type": "code",
      "execution_count": 153,
      "metadata": {
        "colab": {
          "base_uri": "https://localhost:8080/"
        },
        "id": "wNDZWWYyNLqI",
        "outputId": "7897bd14-faf1-4a1f-b66a-b90edd6a9617"
      },
      "outputs": [
        {
          "data": {
            "text/plain": [
              "{'n_neighbors': 7}"
            ]
          },
          "execution_count": 153,
          "metadata": {},
          "output_type": "execute_result"
        }
      ],
      "source": [
        "grid.best_params_"
      ]
    },
    {
      "cell_type": "code",
      "execution_count": 154,
      "metadata": {
        "id": "1I9clGlJNPWr"
      },
      "outputs": [],
      "source": [
        "final_knn = KNeighborsClassifier(n_neighbors=7)"
      ]
    },
    {
      "cell_type": "code",
      "execution_count": 155,
      "metadata": {
        "colab": {
          "base_uri": "https://localhost:8080/"
        },
        "id": "R9ekDZ2dNYib",
        "outputId": "5846c747-2a39-4cc8-9b51-842d434bd492"
      },
      "outputs": [
        {
          "name": "stdout",
          "output_type": "stream",
          "text": [
            "              precision    recall  f1-score   support\n",
            "\n",
            "           0       0.87      0.94      0.90       809\n",
            "           1       0.62      0.39      0.48       191\n",
            "\n",
            "    accuracy                           0.84      1000\n",
            "   macro avg       0.74      0.67      0.69      1000\n",
            "weighted avg       0.82      0.84      0.82      1000\n",
            "\n"
          ]
        }
      ],
      "source": [
        "get_model_preds(final_knn)"
      ]
    },
    {
      "cell_type": "code",
      "execution_count": 156,
      "metadata": {
        "id": "lvdtntL7NcIV"
      },
      "outputs": [],
      "source": [
        "rfc = RandomForestClassifier()"
      ]
    },
    {
      "cell_type": "code",
      "execution_count": 157,
      "metadata": {
        "colab": {
          "base_uri": "https://localhost:8080/"
        },
        "id": "5Y7ki3jiNfbI",
        "outputId": "2dab0855-a178-4d71-81b5-76de2b1d1ffa"
      },
      "outputs": [
        {
          "name": "stdout",
          "output_type": "stream",
          "text": [
            "              precision    recall  f1-score   support\n",
            "\n",
            "           0       0.89      0.96      0.92       809\n",
            "           1       0.76      0.49      0.60       191\n",
            "\n",
            "    accuracy                           0.87      1000\n",
            "   macro avg       0.82      0.73      0.76      1000\n",
            "weighted avg       0.86      0.87      0.86      1000\n",
            "\n"
          ]
        }
      ],
      "source": [
        "get_model_preds(rfc)"
      ]
    },
    {
      "cell_type": "code",
      "execution_count": 158,
      "metadata": {
        "id": "pQkcEX0HNi9C"
      },
      "outputs": [],
      "source": [
        "rfc_grid = RandomForestClassifier()"
      ]
    },
    {
      "cell_type": "code",
      "execution_count": 159,
      "metadata": {
        "id": "kqzSMc6uNnAX"
      },
      "outputs": [],
      "source": [
        "grid_params = {\n",
        "    'n_estimators': [50, 100, 150],\n",
        "    'max_depth': [3, 5, 7],\n",
        "    'bootstrap': [True, False]\n",
        "}"
      ]
    },
    {
      "cell_type": "code",
      "execution_count": 160,
      "metadata": {
        "id": "bP9hva-DOGmJ"
      },
      "outputs": [],
      "source": [
        "grid = GridSearchCV(rfc_grid, grid_params, verbose=2)"
      ]
    },
    {
      "cell_type": "code",
      "execution_count": 161,
      "metadata": {
        "colab": {
          "base_uri": "https://localhost:8080/"
        },
        "id": "BhG62u2HONpR",
        "outputId": "5f9c7d49-ff43-481e-fb8e-992e12a77ad0"
      },
      "outputs": [
        {
          "name": "stdout",
          "output_type": "stream",
          "text": [
            "Fitting 5 folds for each of 18 candidates, totalling 90 fits\n",
            "[CV] END .......bootstrap=True, max_depth=3, n_estimators=50; total time=   0.4s\n",
            "[CV] END .......bootstrap=True, max_depth=3, n_estimators=50; total time=   0.4s\n",
            "[CV] END .......bootstrap=True, max_depth=3, n_estimators=50; total time=   0.3s\n",
            "[CV] END .......bootstrap=True, max_depth=3, n_estimators=50; total time=   0.2s\n",
            "[CV] END .......bootstrap=True, max_depth=3, n_estimators=50; total time=   0.3s\n",
            "[CV] END ......bootstrap=True, max_depth=3, n_estimators=100; total time=   0.6s\n",
            "[CV] END ......bootstrap=True, max_depth=3, n_estimators=100; total time=   0.6s\n",
            "[CV] END ......bootstrap=True, max_depth=3, n_estimators=100; total time=   0.4s\n",
            "[CV] END ......bootstrap=True, max_depth=3, n_estimators=100; total time=   0.4s\n",
            "[CV] END ......bootstrap=True, max_depth=3, n_estimators=100; total time=   0.4s\n",
            "[CV] END ......bootstrap=True, max_depth=3, n_estimators=150; total time=   0.6s\n",
            "[CV] END ......bootstrap=True, max_depth=3, n_estimators=150; total time=   0.6s\n",
            "[CV] END ......bootstrap=True, max_depth=3, n_estimators=150; total time=   0.6s\n",
            "[CV] END ......bootstrap=True, max_depth=3, n_estimators=150; total time=   0.6s\n",
            "[CV] END ......bootstrap=True, max_depth=3, n_estimators=150; total time=   0.6s\n",
            "[CV] END .......bootstrap=True, max_depth=5, n_estimators=50; total time=   0.3s\n",
            "[CV] END .......bootstrap=True, max_depth=5, n_estimators=50; total time=   0.3s\n",
            "[CV] END .......bootstrap=True, max_depth=5, n_estimators=50; total time=   0.3s\n",
            "[CV] END .......bootstrap=True, max_depth=5, n_estimators=50; total time=   0.2s\n",
            "[CV] END .......bootstrap=True, max_depth=5, n_estimators=50; total time=   0.3s\n",
            "[CV] END ......bootstrap=True, max_depth=5, n_estimators=100; total time=   0.5s\n",
            "[CV] END ......bootstrap=True, max_depth=5, n_estimators=100; total time=   0.5s\n",
            "[CV] END ......bootstrap=True, max_depth=5, n_estimators=100; total time=   0.5s\n",
            "[CV] END ......bootstrap=True, max_depth=5, n_estimators=100; total time=   0.5s\n",
            "[CV] END ......bootstrap=True, max_depth=5, n_estimators=100; total time=   0.5s\n",
            "[CV] END ......bootstrap=True, max_depth=5, n_estimators=150; total time=   0.8s\n",
            "[CV] END ......bootstrap=True, max_depth=5, n_estimators=150; total time=   0.8s\n",
            "[CV] END ......bootstrap=True, max_depth=5, n_estimators=150; total time=   0.8s\n",
            "[CV] END ......bootstrap=True, max_depth=5, n_estimators=150; total time=   0.8s\n",
            "[CV] END ......bootstrap=True, max_depth=5, n_estimators=150; total time=   0.8s\n",
            "[CV] END .......bootstrap=True, max_depth=7, n_estimators=50; total time=   0.3s\n",
            "[CV] END .......bootstrap=True, max_depth=7, n_estimators=50; total time=   0.3s\n",
            "[CV] END .......bootstrap=True, max_depth=7, n_estimators=50; total time=   0.3s\n",
            "[CV] END .......bootstrap=True, max_depth=7, n_estimators=50; total time=   0.3s\n",
            "[CV] END .......bootstrap=True, max_depth=7, n_estimators=50; total time=   0.3s\n",
            "[CV] END ......bootstrap=True, max_depth=7, n_estimators=100; total time=   0.6s\n",
            "[CV] END ......bootstrap=True, max_depth=7, n_estimators=100; total time=   0.6s\n",
            "[CV] END ......bootstrap=True, max_depth=7, n_estimators=100; total time=   0.6s\n",
            "[CV] END ......bootstrap=True, max_depth=7, n_estimators=100; total time=   0.6s\n",
            "[CV] END ......bootstrap=True, max_depth=7, n_estimators=100; total time=   0.6s\n",
            "[CV] END ......bootstrap=True, max_depth=7, n_estimators=150; total time=   0.9s\n",
            "[CV] END ......bootstrap=True, max_depth=7, n_estimators=150; total time=   1.0s\n",
            "[CV] END ......bootstrap=True, max_depth=7, n_estimators=150; total time=   0.9s\n",
            "[CV] END ......bootstrap=True, max_depth=7, n_estimators=150; total time=   0.9s\n",
            "[CV] END ......bootstrap=True, max_depth=7, n_estimators=150; total time=   0.9s\n",
            "[CV] END ......bootstrap=False, max_depth=3, n_estimators=50; total time=   0.2s\n",
            "[CV] END ......bootstrap=False, max_depth=3, n_estimators=50; total time=   0.2s\n",
            "[CV] END ......bootstrap=False, max_depth=3, n_estimators=50; total time=   0.2s\n",
            "[CV] END ......bootstrap=False, max_depth=3, n_estimators=50; total time=   0.2s\n",
            "[CV] END ......bootstrap=False, max_depth=3, n_estimators=50; total time=   0.2s\n",
            "[CV] END .....bootstrap=False, max_depth=3, n_estimators=100; total time=   0.4s\n",
            "[CV] END .....bootstrap=False, max_depth=3, n_estimators=100; total time=   0.4s\n",
            "[CV] END .....bootstrap=False, max_depth=3, n_estimators=100; total time=   0.4s\n",
            "[CV] END .....bootstrap=False, max_depth=3, n_estimators=100; total time=   0.4s\n",
            "[CV] END .....bootstrap=False, max_depth=3, n_estimators=100; total time=   0.4s\n",
            "[CV] END .....bootstrap=False, max_depth=3, n_estimators=150; total time=   0.6s\n",
            "[CV] END .....bootstrap=False, max_depth=3, n_estimators=150; total time=   0.6s\n",
            "[CV] END .....bootstrap=False, max_depth=3, n_estimators=150; total time=   0.7s\n",
            "[CV] END .....bootstrap=False, max_depth=3, n_estimators=150; total time=   0.6s\n",
            "[CV] END .....bootstrap=False, max_depth=3, n_estimators=150; total time=   0.7s\n",
            "[CV] END ......bootstrap=False, max_depth=5, n_estimators=50; total time=   0.3s\n",
            "[CV] END ......bootstrap=False, max_depth=5, n_estimators=50; total time=   0.3s\n",
            "[CV] END ......bootstrap=False, max_depth=5, n_estimators=50; total time=   0.3s\n",
            "[CV] END ......bootstrap=False, max_depth=5, n_estimators=50; total time=   0.3s\n",
            "[CV] END ......bootstrap=False, max_depth=5, n_estimators=50; total time=   0.3s\n",
            "[CV] END .....bootstrap=False, max_depth=5, n_estimators=100; total time=   0.6s\n",
            "[CV] END .....bootstrap=False, max_depth=5, n_estimators=100; total time=   0.6s\n",
            "[CV] END .....bootstrap=False, max_depth=5, n_estimators=100; total time=   0.6s\n",
            "[CV] END .....bootstrap=False, max_depth=5, n_estimators=100; total time=   0.6s\n",
            "[CV] END .....bootstrap=False, max_depth=5, n_estimators=100; total time=   0.6s\n",
            "[CV] END .....bootstrap=False, max_depth=5, n_estimators=150; total time=   0.9s\n",
            "[CV] END .....bootstrap=False, max_depth=5, n_estimators=150; total time=   0.9s\n",
            "[CV] END .....bootstrap=False, max_depth=5, n_estimators=150; total time=   0.9s\n",
            "[CV] END .....bootstrap=False, max_depth=5, n_estimators=150; total time=   0.9s\n",
            "[CV] END .....bootstrap=False, max_depth=5, n_estimators=150; total time=   1.0s\n",
            "[CV] END ......bootstrap=False, max_depth=7, n_estimators=50; total time=   0.6s\n",
            "[CV] END ......bootstrap=False, max_depth=7, n_estimators=50; total time=   0.6s\n",
            "[CV] END ......bootstrap=False, max_depth=7, n_estimators=50; total time=   1.1s\n",
            "[CV] END ......bootstrap=False, max_depth=7, n_estimators=50; total time=   0.7s\n",
            "[CV] END ......bootstrap=False, max_depth=7, n_estimators=50; total time=   0.6s\n",
            "[CV] END .....bootstrap=False, max_depth=7, n_estimators=100; total time=   1.3s\n",
            "[CV] END .....bootstrap=False, max_depth=7, n_estimators=100; total time=   1.8s\n",
            "[CV] END .....bootstrap=False, max_depth=7, n_estimators=100; total time=   1.2s\n",
            "[CV] END .....bootstrap=False, max_depth=7, n_estimators=100; total time=   1.7s\n",
            "[CV] END .....bootstrap=False, max_depth=7, n_estimators=100; total time=   1.0s\n",
            "[CV] END .....bootstrap=False, max_depth=7, n_estimators=150; total time=   1.6s\n",
            "[CV] END .....bootstrap=False, max_depth=7, n_estimators=150; total time=   1.7s\n",
            "[CV] END .....bootstrap=False, max_depth=7, n_estimators=150; total time=   1.4s\n",
            "[CV] END .....bootstrap=False, max_depth=7, n_estimators=150; total time=   1.1s\n",
            "[CV] END .....bootstrap=False, max_depth=7, n_estimators=150; total time=   1.2s\n"
          ]
        },
        {
          "data": {
            "text/plain": [
              "GridSearchCV(estimator=RandomForestClassifier(),\n",
              "             param_grid={'bootstrap': [True, False], 'max_depth': [3, 5, 7],\n",
              "                         'n_estimators': [50, 100, 150]},\n",
              "             verbose=2)"
            ]
          },
          "execution_count": 161,
          "metadata": {},
          "output_type": "execute_result"
        }
      ],
      "source": [
        "grid.fit(X_train, y_train)"
      ]
    },
    {
      "cell_type": "code",
      "execution_count": 162,
      "metadata": {
        "colab": {
          "base_uri": "https://localhost:8080/"
        },
        "id": "0z0o4UYJObcJ",
        "outputId": "6ad3c689-1e8f-41b0-a563-dcc9db9d5095"
      },
      "outputs": [
        {
          "data": {
            "text/plain": [
              "{'bootstrap': False, 'max_depth': 7, 'n_estimators': 150}"
            ]
          },
          "execution_count": 162,
          "metadata": {},
          "output_type": "execute_result"
        }
      ],
      "source": [
        "grid.best_params_"
      ]
    },
    {
      "cell_type": "code",
      "execution_count": 163,
      "metadata": {
        "id": "K0q4xNGwOhTl"
      },
      "outputs": [],
      "source": [
        "final_rfc = RandomForestClassifier(n_estimators=150, bootstrap=False, max_depth=7)"
      ]
    },
    {
      "cell_type": "code",
      "execution_count": 164,
      "metadata": {
        "colab": {
          "base_uri": "https://localhost:8080/"
        },
        "id": "zSh8AkcLOqRS",
        "outputId": "464f18d7-c298-4f23-e376-f71a4dea68e3"
      },
      "outputs": [
        {
          "name": "stdout",
          "output_type": "stream",
          "text": [
            "              precision    recall  f1-score   support\n",
            "\n",
            "           0       0.87      0.97      0.92       809\n",
            "           1       0.76      0.39      0.52       191\n",
            "\n",
            "    accuracy                           0.86      1000\n",
            "   macro avg       0.81      0.68      0.72      1000\n",
            "weighted avg       0.85      0.86      0.84      1000\n",
            "\n"
          ]
        }
      ],
      "source": [
        "get_model_preds(final_rfc)"
      ]
    },
    {
      "cell_type": "code",
      "execution_count": 165,
      "metadata": {
        "id": "22ad0UOnPFTN"
      },
      "outputs": [],
      "source": [
        "from joblib import load, dump"
      ]
    },
    {
      "cell_type": "code",
      "execution_count": 166,
      "metadata": {
        "colab": {
          "base_uri": "https://localhost:8080/"
        },
        "id": "du1p1zDzPQNs",
        "outputId": "9b6fe4f9-7ea5-4148-fd33-09a9e2ac5f97"
      },
      "outputs": [
        {
          "data": {
            "text/plain": [
              "['svc_model.joblib']"
            ]
          },
          "execution_count": 166,
          "metadata": {},
          "output_type": "execute_result"
        }
      ],
      "source": [
        "dump(final_svc, 'svc_model.joblib')"
      ]
    }
  ],
  "metadata": {
    "colab": {
      "collapsed_sections": [],
      "provenance": []
    },
    "kernelspec": {
      "display_name": "Python 3.10.5 64-bit",
      "language": "python",
      "name": "python3"
    },
    "language_info": {
      "name": "python",
      "version": "3.10.5"
    },
    "vscode": {
      "interpreter": {
        "hash": "aee8b7b246df8f9039afb4144a1f6fd8d2ca17a180786b69acc140d282b71a49"
      }
    }
  },
  "nbformat": 4,
  "nbformat_minor": 0
}
